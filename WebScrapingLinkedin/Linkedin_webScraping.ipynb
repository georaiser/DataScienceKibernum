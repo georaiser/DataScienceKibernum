{
 "cells": [
  {
   "cell_type": "code",
   "execution_count": 1,
   "id": "hispanic-industry",
   "metadata": {},
   "outputs": [],
   "source": [
    "import requests\n",
    "import re\n",
    "import csv\n",
    "import time\n",
    "from bs4 import BeautifulSoup"
   ]
  },
  {
   "cell_type": "code",
   "execution_count": 2,
   "id": "seeing-simulation",
   "metadata": {},
   "outputs": [],
   "source": [
    "links=[]\n",
    "lks=[]"
   ]
  },
  {
   "cell_type": "code",
   "execution_count": 3,
   "id": "cloudy-deficit",
   "metadata": {},
   "outputs": [],
   "source": [
    "keywords = \"data scientist\"\n",
    "location= \"Santiago\"\n",
    "oneMonth = 'r2592000'\n",
    "oneWeek = 'r604800'\n",
    "oneDay =  'r86400'"
   ]
  },
  {
   "cell_type": "code",
   "execution_count": 4,
   "id": "immediate-rough",
   "metadata": {},
   "outputs": [],
   "source": [
    "URL = (\"https://www.linkedin.com/jobs/search?keywords={}&location={}&f_TPR={}\").format(keywords, location, oneDay)\n",
    "page = requests.get(URL)\n",
    "soup = BeautifulSoup(page.content, \"html.parser\")"
   ]
  },
  {
   "cell_type": "code",
   "execution_count": 5,
   "id": "superior-rescue",
   "metadata": {},
   "outputs": [],
   "source": [
    "results=soup.findAll('a', attrs={'class':\"base-card__full-link\"})"
   ]
  },
  {
   "cell_type": "code",
   "execution_count": 6,
   "id": "collectible-integration",
   "metadata": {},
   "outputs": [],
   "source": [
    "for res in results:\n",
    "    links.append(res['href'])\n",
    "    lks=res['href']"
   ]
  },
  {
   "cell_type": "code",
   "execution_count": 7,
   "id": "arranged-butterfly",
   "metadata": {},
   "outputs": [],
   "source": [
    "file1 = open(\"linkedinLinks.txt\",\"w\")\n",
    "file1.write(str(soup))\n",
    "file1.close()"
   ]
  },
  {
   "cell_type": "code",
   "execution_count": 8,
   "id": "dress-tracy",
   "metadata": {},
   "outputs": [],
   "source": [
    "title=[]\n",
    "posted=[]\n",
    "i=0\n",
    "for url2 in links:\n",
    "    page2 = requests.get(url2) \n",
    "    soup = BeautifulSoup(page2.content, \"html.parser\")\n",
    "    title.append(soup.findAll('title')[0].get_text())\n",
    "    at=soup.findAll(\"script\", attrs={\"type\":\"application/ld+json\"})\n",
    "    try:\n",
    "        posted.append(re.search(r'(\\d+-\\d+-\\d+)',at[0].text).group())\n",
    "    except:\n",
    "        posted.append('None')\n",
    "    i+=1\n",
    "    if i % 5 == 0:\n",
    "        time.sleep(2)"
   ]
  },
  {
   "cell_type": "code",
   "execution_count": 9,
   "id": "realistic-technology",
   "metadata": {},
   "outputs": [],
   "source": [
    "rows = zip(posted,title,links)"
   ]
  },
  {
   "cell_type": "code",
   "execution_count": 10,
   "id": "continental-movie",
   "metadata": {},
   "outputs": [],
   "source": [
    "with open('linkedinResults.csv', 'w', newline='') as file:\n",
    "      wr = csv.writer(file)\n",
    "      wr.writerow((\"Posted\", \"title\", \"Links\"))\n",
    "      wr.writerows(rows)\n",
    "file.close()"
   ]
  }
 ],
 "metadata": {
  "kernelspec": {
   "display_name": "Python 3 (ipykernel)",
   "language": "python",
   "name": "python3"
  },
  "language_info": {
   "codemirror_mode": {
    "name": "ipython",
    "version": 3
   },
   "file_extension": ".py",
   "mimetype": "text/x-python",
   "name": "python",
   "nbconvert_exporter": "python",
   "pygments_lexer": "ipython3",
   "version": "3.9.7"
  }
 },
 "nbformat": 4,
 "nbformat_minor": 5
}
