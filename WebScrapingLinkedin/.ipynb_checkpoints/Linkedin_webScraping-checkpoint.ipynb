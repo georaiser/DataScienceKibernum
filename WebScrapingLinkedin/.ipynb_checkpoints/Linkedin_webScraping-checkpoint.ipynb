{
 "cells": [
  {
   "cell_type": "code",
   "execution_count": 1,
   "id": "hispanic-industry",
   "metadata": {},
   "outputs": [],
   "source": [
    "import requests\n",
    "import re\n",
    "import csv\n",
    "import time\n",
    "from bs4 import BeautifulSoup\n",
    "import numpy as np"
   ]
  },
  {
   "cell_type": "code",
   "execution_count": 2,
   "id": "seeing-simulation",
   "metadata": {},
   "outputs": [],
   "source": [
    "links=[]\n",
    "posted=[]\n",
    "title=[]\n",
    "title2=[]\n",
    "title3=[]\n",
    "results=[]"
   ]
  },
  {
   "cell_type": "code",
   "execution_count": 3,
   "id": "cloudy-deficit",
   "metadata": {},
   "outputs": [],
   "source": [
    "keywords = \"data scientist\"\n",
    "location= \"Santiago\"\n",
    "oneMonth = 'r2592000'\n",
    "oneWeek = 'r604800'\n",
    "oneDay =  'r86400'"
   ]
  },
  {
   "cell_type": "code",
   "execution_count": 4,
   "id": "immediate-rough",
   "metadata": {},
   "outputs": [],
   "source": [
    "def webPage(start):\n",
    "    URL = (\"https://www.linkedin.com/jobs/search?keywords={}&location={}&f_TPR={}&start={}\").format(keywords, location, oneWeek, start)\n",
    "    page = requests.get(URL)\n",
    "    soup = BeautifulSoup(page.content, \"html.parser\")\n",
    "    return soup"
   ]
  },
  {
   "cell_type": "code",
   "execution_count": 5,
   "id": "subjective-occasions",
   "metadata": {},
   "outputs": [],
   "source": [
    "start=0\n",
    "soup=webPage(start)"
   ]
  },
  {
   "cell_type": "code",
   "execution_count": 6,
   "id": "focal-viking",
   "metadata": {},
   "outputs": [
    {
     "data": {
      "text/plain": [
       "83"
      ]
     },
     "execution_count": 6,
     "metadata": {},
     "output_type": "execute_result"
    }
   ],
   "source": [
    "resultados=int(soup.find('h1').span.text)\n",
    "resultados"
   ]
  },
  {
   "cell_type": "code",
   "execution_count": 7,
   "id": "elementary-bradley",
   "metadata": {},
   "outputs": [
    {
     "data": {
      "text/plain": [
       "array([ 0, 25, 50, 75])"
      ]
     },
     "execution_count": 7,
     "metadata": {},
     "output_type": "execute_result"
    }
   ],
   "source": [
    "start=np.arange(0, resultados, 25 )\n",
    "start"
   ]
  },
  {
   "cell_type": "code",
   "execution_count": 8,
   "id": "superior-rescue",
   "metadata": {},
   "outputs": [],
   "source": [
    "for st in start:\n",
    "    soup = webPage(st) \n",
    "    results=soup.findAll('a', attrs={'class':\"base-card__full-link\"})\n",
    "    for res in results:\n",
    "        links.append(res['href'])\n",
    "        title.append(res.span.text.strip())\n",
    "    for post in soup.findAll(\"time\"):\n",
    "        posted.append(post.attrs['datetime'])"
   ]
  },
  {
   "cell_type": "code",
   "execution_count": 9,
   "id": "dress-tracy",
   "metadata": {},
   "outputs": [],
   "source": [
    "i=0\n",
    "for url2 in links:\n",
    "    page2 = requests.get(url2) \n",
    "    soup2 = BeautifulSoup(page2.content, \"html.parser\")\n",
    "    title2.append(soup2.findAll('title')[0].text)\n",
    "    title3.append(soup2.find('div', class_=\"show-more-less-html__markup\").text.strip())\n",
    "    i+=1\n",
    "    if i % 5 == 0:\n",
    "        time.sleep(1)"
   ]
  },
  {
   "cell_type": "code",
   "execution_count": 10,
   "id": "realistic-technology",
   "metadata": {},
   "outputs": [],
   "source": [
    "rows = zip(posted,title,links, title2, title3)"
   ]
  },
  {
   "cell_type": "code",
   "execution_count": 11,
   "id": "continental-movie",
   "metadata": {},
   "outputs": [],
   "source": [
    "with open('linkedinResults.csv', 'w', newline='') as file:\n",
    "      wr = csv.writer(file)\n",
    "      wr.writerow((\"Posted\", \"title\", \"Links\", \"title2\", \"descripcion\"))\n",
    "      wr.writerows(rows)\n",
    "file.close()"
   ]
  }
 ],
 "metadata": {
  "kernelspec": {
   "display_name": "Python 3 (ipykernel)",
   "language": "python",
   "name": "python3"
  },
  "language_info": {
   "codemirror_mode": {
    "name": "ipython",
    "version": 3
   },
   "file_extension": ".py",
   "mimetype": "text/x-python",
   "name": "python",
   "nbconvert_exporter": "python",
   "pygments_lexer": "ipython3",
   "version": "3.9.7"
  }
 },
 "nbformat": 4,
 "nbformat_minor": 5
}
