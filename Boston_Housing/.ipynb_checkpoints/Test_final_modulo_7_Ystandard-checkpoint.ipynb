{
 "cells": [
  {
   "cell_type": "markdown",
   "metadata": {},
   "source": [
    "# Test final del módulo 7: Fundamentos de Deep Learning\n",
    "\n",
    "Entrega del trabajo\n",
    "\n",
    "Enviar la solución en formato jupyter-notebook antes de las 13:00 pm del Martes 15 de Febrero al correo juan.mondaca@gmail.com Grabar el archivo ipynb con su nombre y apellido."
   ]
  },
  {
   "cell_type": "markdown",
   "metadata": {},
   "source": [
    "# Problema a resolver\n",
    "\n",
    "Crear una red neuronal densa con Keras que pueda pronósticar el valor promedio de una casa. El dataset a utilizar fue definido en http://lib.stat.cmu.edu/datasets/boston y tiene información de un censo de viviendas en una región de Boston"
   ]
  },
  {
   "cell_type": "markdown",
   "metadata": {},
   "source": [
    "Características del conjunto de datos\n",
    "\n",
    "El conjunto de datos es pequeño, con sólo 506 casos. Contiene 14 características que se describen a continuación:\n",
    "\n",
    "    CRIM: per capita crime rate by town\n",
    "    ZN: proportion of residential land zoned for lots over 25,000 sq.ft.\n",
    "    INDUS: proportion of non-retail business acres per town.\n",
    "    CHAS: Charles River dummy variable (1 if tract bounds river; 0 otherwise)\n",
    "    NOX: nitric oxides concentration (parts per 10 million)\n",
    "    RM: average number of rooms per dwelling\n",
    "    AGE: proportion of owner-occupied units built prior to 1940\n",
    "    DIS: weighted distances to five Boston employment centres\n",
    "    RAD: index of accessibility to radial highways\n",
    "    TAX: full-value property-tax rate per 10,000 dollars\n",
    "    PTRATIO: pupil-teacher ratio by town\n",
    "    B: 1000(Bk — 0.63)² where Bk is the proportion of blacks by town\n",
    "    LSTAT: % lower status of the population\n",
    "    MEDV: Median value of owner-occupied homes in 1000 dollars\n"
   ]
  },
  {
   "cell_type": "markdown",
   "metadata": {},
   "source": [
    "# Condiciones\n",
    "El objetivo de nuestro problema de regresión con una RNA densa es utilizar las 13 primeras características para predecir el valor de MEDV (que representa el precio de la vivienda).\n",
    "La red debe ser secuencial y tener tres capas Densas (2 de ocultas y una de salida). El número de input o neuronas de las capa debe ser definidos por ud (pero debe ser a lo menos 10 en las ocultas). Como función de activación se sugiere relu. Los demás hiperparámetros son seleccionados por ud."
   ]
  },
  {
   "cell_type": "code",
   "execution_count": 1,
   "metadata": {},
   "outputs": [],
   "source": [
    "import pandas as pd\n",
    "import matplotlib.pyplot as plt\n",
    "import seaborn as sns\n",
    "from sklearn.preprocessing import MinMaxScaler\n",
    "from sklearn.preprocessing import StandardScaler\n",
    "import numpy as np"
   ]
  },
  {
   "cell_type": "code",
   "execution_count": 2,
   "metadata": {},
   "outputs": [
    {
     "data": {
      "text/plain": [
       "'2.8.0'"
      ]
     },
     "execution_count": 2,
     "metadata": {},
     "output_type": "execute_result"
    }
   ],
   "source": [
    "# imports\n",
    "import tensorflow as tf\n",
    "tf.__version__"
   ]
  },
  {
   "cell_type": "code",
   "execution_count": 3,
   "metadata": {},
   "outputs": [
    {
     "data": {
      "text/plain": [
       "'2.8.0'"
      ]
     },
     "execution_count": 3,
     "metadata": {},
     "output_type": "execute_result"
    }
   ],
   "source": [
    "from tensorflow import keras\n",
    "keras.__version__"
   ]
  },
  {
   "cell_type": "code",
   "execution_count": 4,
   "metadata": {},
   "outputs": [],
   "source": [
    "# obtener el dataset\n",
    "from tensorflow.keras import datasets"
   ]
  },
  {
   "cell_type": "code",
   "execution_count": 5,
   "metadata": {},
   "outputs": [],
   "source": [
    "from tensorflow.keras import models, layers"
   ]
  },
  {
   "cell_type": "code",
   "execution_count": 6,
   "metadata": {},
   "outputs": [],
   "source": [
    "from tensorflow.keras.callbacks import EarlyStopping, ModelCheckpoint"
   ]
  },
  {
   "cell_type": "code",
   "execution_count": 7,
   "metadata": {},
   "outputs": [],
   "source": [
    "from sklearn.model_selection import train_test_split"
   ]
  },
  {
   "cell_type": "markdown",
   "metadata": {},
   "source": [
    "### Load dataset"
   ]
  },
  {
   "cell_type": "code",
   "execution_count": 8,
   "metadata": {},
   "outputs": [],
   "source": [
    "columnas={\"CRIM\": \"per capita crime rate by town\",\n",
    "\"ZN\": \"proportion of residential land zoned for lots over 25,000 sq.ft.\",\n",
    "\"INDUS\": \"proportion of non-retail business acres per town.\",\n",
    "\"CHAS\": \"Charles River dummy variable (1 if tract bounds river; 0 otherwise)\",\n",
    "\"NOX\": \"nitric oxides concentration (parts per 10 million)\",\n",
    "\"RM\": \"average number of rooms per dwelling\",\n",
    "\"AGE\": \"proportion of owner-occupied units built prior to 1940\",\n",
    "\"DIS\": \"vweighted distances to five Boston employment centres\",\n",
    "\"RAD\": \"index of accessibility to radial highways\",\n",
    "\"TAX\": \"full-value property-tax rate per 10,000 dollars\",\n",
    "\"PTRATIO\": \"pupil-teacher ratio by town\",\n",
    "\"B\": \"1000(Bk — 0.63)² where Bk is the proportion of blacks by town\",\n",
    "\"LSTAT\": \"% lower status of the population\",\n",
    "\"MEDV\": \"Median value of owner-occupied homes in 1000 dollars\"}"
   ]
  },
  {
   "cell_type": "code",
   "execution_count": 9,
   "metadata": {},
   "outputs": [],
   "source": [
    "boston_housing = datasets.boston_housing"
   ]
  },
  {
   "cell_type": "code",
   "execution_count": 10,
   "metadata": {},
   "outputs": [],
   "source": [
    "# load data\n",
    "(X_train, y_train), (X_test, y_test) = boston_housing.load_data()"
   ]
  },
  {
   "cell_type": "code",
   "execution_count": 11,
   "metadata": {},
   "outputs": [
    {
     "data": {
      "text/plain": [
       "((404, 13), (404,), (102, 13), (102,))"
      ]
     },
     "execution_count": 11,
     "metadata": {},
     "output_type": "execute_result"
    }
   ],
   "source": [
    "X_train.shape, y_train.shape, X_test.shape, y_test.shape"
   ]
  },
  {
   "cell_type": "code",
   "execution_count": 12,
   "metadata": {},
   "outputs": [],
   "source": [
    "# copias\n",
    "X_train_orig = X_train.copy()\n",
    "y_train_orig = y_train.copy()\n",
    "X_test_orig = X_test.copy()\n",
    "y_test_orig = y_test.copy()"
   ]
  },
  {
   "cell_type": "code",
   "execution_count": 13,
   "metadata": {},
   "outputs": [],
   "source": [
    "indices_train=np.arange(0, X_train_orig.shape[0])\n",
    "indices_test=np.arange(X_train_orig.shape[0], X_train_orig.shape[0]+X_test_orig.shape[0] )"
   ]
  },
  {
   "cell_type": "code",
   "execution_count": 14,
   "metadata": {},
   "outputs": [],
   "source": [
    "# split generar X_val, y_val\n",
    "X_test, X_val, y_test, y_val, indices_test, indices_val = train_test_split(X_test, y_test, indices_test, test_size = 0.5)"
   ]
  },
  {
   "cell_type": "code",
   "execution_count": 15,
   "metadata": {},
   "outputs": [
    {
     "data": {
      "text/plain": [
       "((51, 13), (51,), (51, 13), (51,))"
      ]
     },
     "execution_count": 15,
     "metadata": {},
     "output_type": "execute_result"
    }
   ],
   "source": [
    "X_test.shape, y_test.shape, X_val.shape, y_val.shape"
   ]
  },
  {
   "cell_type": "code",
   "execution_count": 16,
   "metadata": {},
   "outputs": [
    {
     "data": {
      "text/plain": [
       "0"
      ]
     },
     "execution_count": 16,
     "metadata": {},
     "output_type": "execute_result"
    }
   ],
   "source": [
    "# chequear NaN X\n",
    "pd.concat([pd.DataFrame(X_train), pd.DataFrame(X_test)], axis=0).isnull().sum().sum()"
   ]
  },
  {
   "cell_type": "code",
   "execution_count": 17,
   "metadata": {},
   "outputs": [
    {
     "data": {
      "text/plain": [
       "0"
      ]
     },
     "execution_count": 17,
     "metadata": {},
     "output_type": "execute_result"
    }
   ],
   "source": [
    "# chequear NaN y\n",
    "pd.concat([pd.DataFrame(y_train), pd.DataFrame(y_test)], axis=0).isnull().sum().sum()"
   ]
  },
  {
   "cell_type": "code",
   "execution_count": 18,
   "metadata": {},
   "outputs": [],
   "source": [
    "# Scaler\n",
    "def scalador(data):\n",
    "    scaler = MinMaxScaler()\n",
    "    #scaler = StandardScaler()\n",
    "    scaler = scaler.fit_transform(data)\n",
    "    return scaler\n",
    "    \n",
    "X_train = scalador(X_train)\n",
    "y_train = scalador(y_train.reshape(-1, 1))\n",
    "X_test = scalador(X_test)\n",
    "y_test = scalador(y_test.reshape(-1, 1))\n",
    "X_val = scalador(X_val)\n",
    "y_val = scalador(y_val.reshape(-1, 1))"
   ]
  },
  {
   "cell_type": "code",
   "execution_count": 19,
   "metadata": {},
   "outputs": [
    {
     "data": {
      "text/plain": [
       "((404, 13), (404,), (51, 13), (51,), (51, 13), (51,))"
      ]
     },
     "execution_count": 19,
     "metadata": {},
     "output_type": "execute_result"
    }
   ],
   "source": [
    "X_train.shape, y_train.shape, X_test.shape, y_test.shape, X_val.shape,  y_val.shape"
   ]
  },
  {
   "cell_type": "markdown",
   "metadata": {},
   "source": [
    "### Analisis de estadisticas e histogramas"
   ]
  },
  {
   "cell_type": "code",
   "execution_count": 20,
   "metadata": {},
   "outputs": [
    {
     "data": {
      "text/html": [
       "<div>\n",
       "<style scoped>\n",
       "    .dataframe tbody tr th:only-of-type {\n",
       "        vertical-align: middle;\n",
       "    }\n",
       "\n",
       "    .dataframe tbody tr th {\n",
       "        vertical-align: top;\n",
       "    }\n",
       "\n",
       "    .dataframe thead th {\n",
       "        text-align: right;\n",
       "    }\n",
       "</style>\n",
       "<table border=\"1\" class=\"dataframe\">\n",
       "  <thead>\n",
       "    <tr style=\"text-align: right;\">\n",
       "      <th></th>\n",
       "      <th>MEDV</th>\n",
       "    </tr>\n",
       "  </thead>\n",
       "  <tbody>\n",
       "    <tr>\n",
       "      <th>0</th>\n",
       "      <td>15.2</td>\n",
       "    </tr>\n",
       "    <tr>\n",
       "      <th>1</th>\n",
       "      <td>42.3</td>\n",
       "    </tr>\n",
       "    <tr>\n",
       "      <th>2</th>\n",
       "      <td>50.0</td>\n",
       "    </tr>\n",
       "  </tbody>\n",
       "</table>\n",
       "</div>"
      ],
      "text/plain": [
       "   MEDV\n",
       "0  15.2\n",
       "1  42.3\n",
       "2  50.0"
      ]
     },
     "execution_count": 20,
     "metadata": {},
     "output_type": "execute_result"
    }
   ],
   "source": [
    "datay=pd.concat([pd.DataFrame(y_train), pd.DataFrame(y_test), pd.DataFrame(y_val)], axis=0)\n",
    "datay.columns = list(columnas.keys())[-1:]\n",
    "datay.head(3)"
   ]
  },
  {
   "cell_type": "code",
   "execution_count": 21,
   "metadata": {},
   "outputs": [
    {
     "data": {
      "text/html": [
       "<div>\n",
       "<style scoped>\n",
       "    .dataframe tbody tr th:only-of-type {\n",
       "        vertical-align: middle;\n",
       "    }\n",
       "\n",
       "    .dataframe tbody tr th {\n",
       "        vertical-align: top;\n",
       "    }\n",
       "\n",
       "    .dataframe thead th {\n",
       "        text-align: right;\n",
       "    }\n",
       "</style>\n",
       "<table border=\"1\" class=\"dataframe\">\n",
       "  <thead>\n",
       "    <tr style=\"text-align: right;\">\n",
       "      <th></th>\n",
       "      <th>CRIM</th>\n",
       "      <th>ZN</th>\n",
       "      <th>INDUS</th>\n",
       "      <th>CHAS</th>\n",
       "      <th>NOX</th>\n",
       "      <th>RM</th>\n",
       "      <th>AGE</th>\n",
       "      <th>DIS</th>\n",
       "      <th>RAD</th>\n",
       "      <th>TAX</th>\n",
       "      <th>PTRATIO</th>\n",
       "      <th>B</th>\n",
       "      <th>LSTAT</th>\n",
       "    </tr>\n",
       "  </thead>\n",
       "  <tbody>\n",
       "    <tr>\n",
       "      <th>0</th>\n",
       "      <td>0.013782</td>\n",
       "      <td>0.000</td>\n",
       "      <td>0.281525</td>\n",
       "      <td>0.0</td>\n",
       "      <td>0.314815</td>\n",
       "      <td>0.499806</td>\n",
       "      <td>0.914521</td>\n",
       "      <td>0.297191</td>\n",
       "      <td>0.130435</td>\n",
       "      <td>0.227533</td>\n",
       "      <td>0.893617</td>\n",
       "      <td>1.000000</td>\n",
       "      <td>0.468819</td>\n",
       "    </tr>\n",
       "    <tr>\n",
       "      <th>1</th>\n",
       "      <td>0.000174</td>\n",
       "      <td>0.825</td>\n",
       "      <td>0.057551</td>\n",
       "      <td>0.0</td>\n",
       "      <td>0.061728</td>\n",
       "      <td>0.784082</td>\n",
       "      <td>0.131823</td>\n",
       "      <td>0.536537</td>\n",
       "      <td>0.043478</td>\n",
       "      <td>0.305927</td>\n",
       "      <td>0.223404</td>\n",
       "      <td>0.996167</td>\n",
       "      <td>0.038079</td>\n",
       "    </tr>\n",
       "  </tbody>\n",
       "</table>\n",
       "</div>"
      ],
      "text/plain": [
       "       CRIM     ZN     INDUS  CHAS       NOX        RM       AGE       DIS  \\\n",
       "0  0.013782  0.000  0.281525   0.0  0.314815  0.499806  0.914521  0.297191   \n",
       "1  0.000174  0.825  0.057551   0.0  0.061728  0.784082  0.131823  0.536537   \n",
       "\n",
       "        RAD       TAX   PTRATIO         B     LSTAT  \n",
       "0  0.130435  0.227533  0.893617  1.000000  0.468819  \n",
       "1  0.043478  0.305927  0.223404  0.996167  0.038079  "
      ]
     },
     "execution_count": 21,
     "metadata": {},
     "output_type": "execute_result"
    }
   ],
   "source": [
    "dataX=pd.concat([pd.DataFrame(X_train), pd.DataFrame(X_test), pd.DataFrame(X_val)], axis=0)\n",
    "dataX.columns = list(columnas.keys())[:-1]\n",
    "dataX.head(2)"
   ]
  },
  {
   "cell_type": "code",
   "execution_count": 22,
   "metadata": {},
   "outputs": [
    {
     "data": {
      "text/html": [
       "<div>\n",
       "<style scoped>\n",
       "    .dataframe tbody tr th:only-of-type {\n",
       "        vertical-align: middle;\n",
       "    }\n",
       "\n",
       "    .dataframe tbody tr th {\n",
       "        vertical-align: top;\n",
       "    }\n",
       "\n",
       "    .dataframe thead th {\n",
       "        text-align: right;\n",
       "    }\n",
       "</style>\n",
       "<table border=\"1\" class=\"dataframe\">\n",
       "  <thead>\n",
       "    <tr style=\"text-align: right;\">\n",
       "      <th></th>\n",
       "      <th>CRIM</th>\n",
       "      <th>ZN</th>\n",
       "      <th>INDUS</th>\n",
       "      <th>CHAS</th>\n",
       "      <th>NOX</th>\n",
       "      <th>RM</th>\n",
       "      <th>AGE</th>\n",
       "      <th>DIS</th>\n",
       "      <th>RAD</th>\n",
       "      <th>TAX</th>\n",
       "      <th>PTRATIO</th>\n",
       "      <th>B</th>\n",
       "      <th>LSTAT</th>\n",
       "      <th>MEDV</th>\n",
       "    </tr>\n",
       "  </thead>\n",
       "  <tbody>\n",
       "    <tr>\n",
       "      <th>0</th>\n",
       "      <td>0.013782</td>\n",
       "      <td>0.000</td>\n",
       "      <td>0.281525</td>\n",
       "      <td>0.0</td>\n",
       "      <td>0.314815</td>\n",
       "      <td>0.499806</td>\n",
       "      <td>0.914521</td>\n",
       "      <td>0.297191</td>\n",
       "      <td>0.130435</td>\n",
       "      <td>0.227533</td>\n",
       "      <td>0.893617</td>\n",
       "      <td>1.000000</td>\n",
       "      <td>0.468819</td>\n",
       "      <td>15.2</td>\n",
       "    </tr>\n",
       "    <tr>\n",
       "      <th>1</th>\n",
       "      <td>0.000174</td>\n",
       "      <td>0.825</td>\n",
       "      <td>0.057551</td>\n",
       "      <td>0.0</td>\n",
       "      <td>0.061728</td>\n",
       "      <td>0.784082</td>\n",
       "      <td>0.131823</td>\n",
       "      <td>0.536537</td>\n",
       "      <td>0.043478</td>\n",
       "      <td>0.305927</td>\n",
       "      <td>0.223404</td>\n",
       "      <td>0.996167</td>\n",
       "      <td>0.038079</td>\n",
       "      <td>42.3</td>\n",
       "    </tr>\n",
       "    <tr>\n",
       "      <th>2</th>\n",
       "      <td>0.054984</td>\n",
       "      <td>0.000</td>\n",
       "      <td>0.646628</td>\n",
       "      <td>0.0</td>\n",
       "      <td>0.506173</td>\n",
       "      <td>0.272851</td>\n",
       "      <td>1.000000</td>\n",
       "      <td>0.021178</td>\n",
       "      <td>1.000000</td>\n",
       "      <td>0.913958</td>\n",
       "      <td>0.808511</td>\n",
       "      <td>0.946089</td>\n",
       "      <td>0.042219</td>\n",
       "      <td>50.0</td>\n",
       "    </tr>\n",
       "  </tbody>\n",
       "</table>\n",
       "</div>"
      ],
      "text/plain": [
       "       CRIM     ZN     INDUS  CHAS       NOX        RM       AGE       DIS  \\\n",
       "0  0.013782  0.000  0.281525   0.0  0.314815  0.499806  0.914521  0.297191   \n",
       "1  0.000174  0.825  0.057551   0.0  0.061728  0.784082  0.131823  0.536537   \n",
       "2  0.054984  0.000  0.646628   0.0  0.506173  0.272851  1.000000  0.021178   \n",
       "\n",
       "        RAD       TAX   PTRATIO         B     LSTAT  MEDV  \n",
       "0  0.130435  0.227533  0.893617  1.000000  0.468819  15.2  \n",
       "1  0.043478  0.305927  0.223404  0.996167  0.038079  42.3  \n",
       "2  1.000000  0.913958  0.808511  0.946089  0.042219  50.0  "
      ]
     },
     "execution_count": 22,
     "metadata": {},
     "output_type": "execute_result"
    }
   ],
   "source": [
    "dataXy=pd.concat([dataX,datay], axis=1)\n",
    "dataXy.head(3)"
   ]
  },
  {
   "cell_type": "code",
   "execution_count": 23,
   "metadata": {
    "scrolled": true
   },
   "outputs": [
    {
     "data": {
      "text/html": [
       "<div>\n",
       "<style scoped>\n",
       "    .dataframe tbody tr th:only-of-type {\n",
       "        vertical-align: middle;\n",
       "    }\n",
       "\n",
       "    .dataframe tbody tr th {\n",
       "        vertical-align: top;\n",
       "    }\n",
       "\n",
       "    .dataframe thead th {\n",
       "        text-align: right;\n",
       "    }\n",
       "</style>\n",
       "<table border=\"1\" class=\"dataframe\">\n",
       "  <thead>\n",
       "    <tr style=\"text-align: right;\">\n",
       "      <th></th>\n",
       "      <th>CRIM</th>\n",
       "      <th>ZN</th>\n",
       "      <th>INDUS</th>\n",
       "      <th>CHAS</th>\n",
       "      <th>NOX</th>\n",
       "      <th>RM</th>\n",
       "      <th>AGE</th>\n",
       "      <th>DIS</th>\n",
       "      <th>RAD</th>\n",
       "      <th>TAX</th>\n",
       "      <th>PTRATIO</th>\n",
       "      <th>B</th>\n",
       "      <th>LSTAT</th>\n",
       "      <th>MEDV</th>\n",
       "    </tr>\n",
       "  </thead>\n",
       "  <tbody>\n",
       "    <tr>\n",
       "      <th>count</th>\n",
       "      <td>506.000000</td>\n",
       "      <td>506.000000</td>\n",
       "      <td>506.000000</td>\n",
       "      <td>506.000000</td>\n",
       "      <td>506.000000</td>\n",
       "      <td>506.000000</td>\n",
       "      <td>506.000000</td>\n",
       "      <td>506.000000</td>\n",
       "      <td>506.000000</td>\n",
       "      <td>506.000000</td>\n",
       "      <td>506.000000</td>\n",
       "      <td>506.000000</td>\n",
       "      <td>506.000000</td>\n",
       "      <td>506.000000</td>\n",
       "    </tr>\n",
       "    <tr>\n",
       "      <th>mean</th>\n",
       "      <td>0.059445</td>\n",
       "      <td>0.117234</td>\n",
       "      <td>0.390967</td>\n",
       "      <td>0.069170</td>\n",
       "      <td>0.355684</td>\n",
       "      <td>0.491792</td>\n",
       "      <td>0.674020</td>\n",
       "      <td>0.273590</td>\n",
       "      <td>0.371713</td>\n",
       "      <td>0.425301</td>\n",
       "      <td>0.632922</td>\n",
       "      <td>0.897423</td>\n",
       "      <td>0.315432</td>\n",
       "      <td>22.532806</td>\n",
       "    </tr>\n",
       "    <tr>\n",
       "      <th>std</th>\n",
       "      <td>0.141037</td>\n",
       "      <td>0.239623</td>\n",
       "      <td>0.255858</td>\n",
       "      <td>0.253994</td>\n",
       "      <td>0.245742</td>\n",
       "      <td>0.164009</td>\n",
       "      <td>0.292202</td>\n",
       "      <td>0.222316</td>\n",
       "      <td>0.378576</td>\n",
       "      <td>0.325914</td>\n",
       "      <td>0.237764</td>\n",
       "      <td>0.232587</td>\n",
       "      <td>0.211812</td>\n",
       "      <td>9.197104</td>\n",
       "    </tr>\n",
       "    <tr>\n",
       "      <th>min</th>\n",
       "      <td>0.000000</td>\n",
       "      <td>0.000000</td>\n",
       "      <td>0.000000</td>\n",
       "      <td>0.000000</td>\n",
       "      <td>0.000000</td>\n",
       "      <td>0.000000</td>\n",
       "      <td>0.000000</td>\n",
       "      <td>0.000000</td>\n",
       "      <td>0.000000</td>\n",
       "      <td>0.000000</td>\n",
       "      <td>0.000000</td>\n",
       "      <td>0.000000</td>\n",
       "      <td>0.000000</td>\n",
       "      <td>5.000000</td>\n",
       "    </tr>\n",
       "    <tr>\n",
       "      <th>25%</th>\n",
       "      <td>0.000972</td>\n",
       "      <td>0.000000</td>\n",
       "      <td>0.171188</td>\n",
       "      <td>0.000000</td>\n",
       "      <td>0.139918</td>\n",
       "      <td>0.410777</td>\n",
       "      <td>0.428791</td>\n",
       "      <td>0.093752</td>\n",
       "      <td>0.130435</td>\n",
       "      <td>0.177820</td>\n",
       "      <td>0.510638</td>\n",
       "      <td>0.945479</td>\n",
       "      <td>0.150731</td>\n",
       "      <td>17.025000</td>\n",
       "    </tr>\n",
       "    <tr>\n",
       "      <th>50%</th>\n",
       "      <td>0.003902</td>\n",
       "      <td>0.000000</td>\n",
       "      <td>0.329374</td>\n",
       "      <td>0.000000</td>\n",
       "      <td>0.314815</td>\n",
       "      <td>0.493125</td>\n",
       "      <td>0.762766</td>\n",
       "      <td>0.206425</td>\n",
       "      <td>0.173913</td>\n",
       "      <td>0.276030</td>\n",
       "      <td>0.691489</td>\n",
       "      <td>0.986094</td>\n",
       "      <td>0.275248</td>\n",
       "      <td>21.200000</td>\n",
       "    </tr>\n",
       "    <tr>\n",
       "      <th>75%</th>\n",
       "      <td>0.049428</td>\n",
       "      <td>0.138889</td>\n",
       "      <td>0.646628</td>\n",
       "      <td>0.000000</td>\n",
       "      <td>0.506173</td>\n",
       "      <td>0.576782</td>\n",
       "      <td>0.938976</td>\n",
       "      <td>0.416160</td>\n",
       "      <td>1.000000</td>\n",
       "      <td>0.913958</td>\n",
       "      <td>0.808511</td>\n",
       "      <td>0.998298</td>\n",
       "      <td>0.428808</td>\n",
       "      <td>25.000000</td>\n",
       "    </tr>\n",
       "    <tr>\n",
       "      <th>max</th>\n",
       "      <td>1.000000</td>\n",
       "      <td>1.000000</td>\n",
       "      <td>1.000000</td>\n",
       "      <td>1.000000</td>\n",
       "      <td>1.000000</td>\n",
       "      <td>1.000000</td>\n",
       "      <td>1.000000</td>\n",
       "      <td>1.000000</td>\n",
       "      <td>1.000000</td>\n",
       "      <td>1.000000</td>\n",
       "      <td>1.000000</td>\n",
       "      <td>1.000000</td>\n",
       "      <td>1.000000</td>\n",
       "      <td>50.000000</td>\n",
       "    </tr>\n",
       "  </tbody>\n",
       "</table>\n",
       "</div>"
      ],
      "text/plain": [
       "             CRIM          ZN       INDUS        CHAS         NOX          RM  \\\n",
       "count  506.000000  506.000000  506.000000  506.000000  506.000000  506.000000   \n",
       "mean     0.059445    0.117234    0.390967    0.069170    0.355684    0.491792   \n",
       "std      0.141037    0.239623    0.255858    0.253994    0.245742    0.164009   \n",
       "min      0.000000    0.000000    0.000000    0.000000    0.000000    0.000000   \n",
       "25%      0.000972    0.000000    0.171188    0.000000    0.139918    0.410777   \n",
       "50%      0.003902    0.000000    0.329374    0.000000    0.314815    0.493125   \n",
       "75%      0.049428    0.138889    0.646628    0.000000    0.506173    0.576782   \n",
       "max      1.000000    1.000000    1.000000    1.000000    1.000000    1.000000   \n",
       "\n",
       "              AGE         DIS         RAD         TAX     PTRATIO           B  \\\n",
       "count  506.000000  506.000000  506.000000  506.000000  506.000000  506.000000   \n",
       "mean     0.674020    0.273590    0.371713    0.425301    0.632922    0.897423   \n",
       "std      0.292202    0.222316    0.378576    0.325914    0.237764    0.232587   \n",
       "min      0.000000    0.000000    0.000000    0.000000    0.000000    0.000000   \n",
       "25%      0.428791    0.093752    0.130435    0.177820    0.510638    0.945479   \n",
       "50%      0.762766    0.206425    0.173913    0.276030    0.691489    0.986094   \n",
       "75%      0.938976    0.416160    1.000000    0.913958    0.808511    0.998298   \n",
       "max      1.000000    1.000000    1.000000    1.000000    1.000000    1.000000   \n",
       "\n",
       "            LSTAT        MEDV  \n",
       "count  506.000000  506.000000  \n",
       "mean     0.315432   22.532806  \n",
       "std      0.211812    9.197104  \n",
       "min      0.000000    5.000000  \n",
       "25%      0.150731   17.025000  \n",
       "50%      0.275248   21.200000  \n",
       "75%      0.428808   25.000000  \n",
       "max      1.000000   50.000000  "
      ]
     },
     "execution_count": 23,
     "metadata": {},
     "output_type": "execute_result"
    }
   ],
   "source": [
    "dataXy.describe()"
   ]
  },
  {
   "cell_type": "code",
   "execution_count": 24,
   "metadata": {},
   "outputs": [],
   "source": [
    "#dataX.info()"
   ]
  },
  {
   "cell_type": "code",
   "execution_count": 25,
   "metadata": {},
   "outputs": [
    {
     "data": {
      "image/png": "[encoded data removed]",
      "text/plain": [
       "<Figure size 1440x432 with 14 Axes>"
      ]
     },
     "metadata": {
      "needs_background": "light"
     },
     "output_type": "display_data"
    }
   ],
   "source": [
    "# Histogramas Scaler\n",
    "plt.figure(figsize=(20, 6))\n",
    "for i, var in enumerate(dataXy): \n",
    "        plt.subplot(3, 5, i+1)\n",
    "        sns.histplot(data=dataXy, x=var, legend=True, kde=True)\n",
    "        plt.title('{}'.format(var), size=14)\n",
    "        plt.tight_layout();\n",
    "plt.show()"
   ]
  },
  {
   "cell_type": "code",
   "execution_count": 26,
   "metadata": {},
   "outputs": [
    {
     "data": {
      "image/png": "[encoded data removed]",
      "text/plain": [
       "<Figure size 1440x360 with 14 Axes>"
      ]
     },
     "metadata": {
      "needs_background": "light"
     },
     "output_type": "display_data"
    }
   ],
   "source": [
    "# Histogramas Scaler\n",
    "plt.figure(figsize=(20, 5))\n",
    "for i, var in enumerate(dataXy): \n",
    "        plt.subplot(3, 5, i+1)\n",
    "        sns.boxplot(data=dataXy, x=var)\n",
    "        plt.title('{}'.format(var), size=14)\n",
    "        plt.tight_layout();\n",
    "plt.show()"
   ]
  },
  {
   "cell_type": "markdown",
   "metadata": {},
   "source": [
    "- pese a que se ven varios datos outliers, la base de datos se mantendra con estos valores, considerando ademas que solo se dispone de 506 datos."
   ]
  },
  {
   "cell_type": "markdown",
   "metadata": {},
   "source": [
    "## Datos para prediccion"
   ]
  },
  {
   "cell_type": "code",
   "execution_count": 27,
   "metadata": {},
   "outputs": [],
   "source": [
    "X_train, X_pred, y_train, y_pred, indices_train, indices_pred = train_test_split(X_train, y_train, indices_train, test_size = 0.05)"
   ]
  },
  {
   "cell_type": "code",
   "execution_count": 28,
   "metadata": {},
   "outputs": [
    {
     "data": {
      "text/plain": [
       "((383, 13), (21, 13), (383,), (21,), (21,))"
      ]
     },
     "execution_count": 28,
     "metadata": {},
     "output_type": "execute_result"
    }
   ],
   "source": [
    "X_train.shape, X_pred.shape, y_train.shape, y_pred.shape, indices_pred.shape"
   ]
  },
  {
   "cell_type": "code",
   "execution_count": 29,
   "metadata": {},
   "outputs": [
    {
     "data": {
      "text/plain": [
       "array([166, 108, 247,  70,   7, 204,  36, 362, 177, 361, 355, 205,  91,\n",
       "        10, 376,   6, 373, 179, 106, 124,  14])"
      ]
     },
     "execution_count": 29,
     "metadata": {},
     "output_type": "execute_result"
    }
   ],
   "source": [
    "indices_pred"
   ]
  },
  {
   "cell_type": "markdown",
   "metadata": {},
   "source": [
    "## Definir arquitectura de la RNA"
   ]
  },
  {
   "cell_type": "code",
   "execution_count": 30,
   "metadata": {},
   "outputs": [],
   "source": [
    "# definir arquitectura de la RNA\n",
    "network = models.Sequential()\n",
    "# add layers\n",
    "network.add(layers.Dense(80, activation='relu', input_shape=(X_train.shape[1],)))\n",
    "network.add(layers.Dense(40, activation='relu'))\n",
    "# output (regresion)\n",
    "network.add(layers.Dense(1))"
   ]
  },
  {
   "cell_type": "code",
   "execution_count": 31,
   "metadata": {},
   "outputs": [
    {
     "name": "stdout",
     "output_type": "stream",
     "text": [
      "Model: \"sequential\"\n",
      "_________________________________________________________________\n",
      " Layer (type)                Output Shape              Param #   \n",
      "=================================================================\n",
      " dense (Dense)               (None, 80)                1120      \n",
      "                                                                 \n",
      " dense_1 (Dense)             (None, 40)                3240      \n",
      "                                                                 \n",
      " dense_2 (Dense)             (None, 1)                 41        \n",
      "                                                                 \n",
      "=================================================================\n",
      "Total params: 4,401\n",
      "Trainable params: 4,401\n",
      "Non-trainable params: 0\n",
      "_________________________________________________________________\n"
     ]
    }
   ],
   "source": [
    "network.summary()"
   ]
  },
  {
   "cell_type": "code",
   "execution_count": 32,
   "metadata": {},
   "outputs": [],
   "source": [
    "# https://keras.io/api/metrics/\n",
    "network.compile(loss=\"mse\", optimizer='adam', metrics=['mae', 'mse'])"
   ]
  },
  {
   "cell_type": "code",
   "execution_count": 33,
   "metadata": {},
   "outputs": [],
   "source": [
    "# val_loss is cost function for your cross-validation data and loss is for your training data\n",
    "early_stop = EarlyStopping(monitor='val_loss', patience=50)"
   ]
  },
  {
   "cell_type": "code",
   "execution_count": 34,
   "metadata": {},
   "outputs": [],
   "source": [
    "modelCheckpoint = ModelCheckpoint('boston_housing_model.h5', save_best_only = True)  "
   ]
  },
  {
   "cell_type": "code",
   "execution_count": 35,
   "metadata": {},
   "outputs": [],
   "source": [
    "historia = network.fit(X_train, y_train, batch_size=64, epochs=500, validation_data=(X_val, y_val),\n",
    "                       verbose=0, callbacks=[early_stop, modelCheckpoint])  "
   ]
  },
  {
   "cell_type": "code",
   "execution_count": 36,
   "metadata": {},
   "outputs": [
    {
     "data": {
      "text/html": [
       "<div>\n",
       "<style scoped>\n",
       "    .dataframe tbody tr th:only-of-type {\n",
       "        vertical-align: middle;\n",
       "    }\n",
       "\n",
       "    .dataframe tbody tr th {\n",
       "        vertical-align: top;\n",
       "    }\n",
       "\n",
       "    .dataframe thead th {\n",
       "        text-align: right;\n",
       "    }\n",
       "</style>\n",
       "<table border=\"1\" class=\"dataframe\">\n",
       "  <thead>\n",
       "    <tr style=\"text-align: right;\">\n",
       "      <th></th>\n",
       "      <th>loss</th>\n",
       "      <th>mae</th>\n",
       "      <th>mse</th>\n",
       "      <th>val_loss</th>\n",
       "      <th>val_mae</th>\n",
       "      <th>val_mse</th>\n",
       "      <th>epoch</th>\n",
       "    </tr>\n",
       "  </thead>\n",
       "  <tbody>\n",
       "    <tr>\n",
       "      <th>100</th>\n",
       "      <td>19.133938</td>\n",
       "      <td>2.993539</td>\n",
       "      <td>19.133938</td>\n",
       "      <td>49.565521</td>\n",
       "      <td>6.075848</td>\n",
       "      <td>49.565521</td>\n",
       "      <td>100</td>\n",
       "    </tr>\n",
       "    <tr>\n",
       "      <th>101</th>\n",
       "      <td>18.824371</td>\n",
       "      <td>2.979744</td>\n",
       "      <td>18.824371</td>\n",
       "      <td>54.506126</td>\n",
       "      <td>6.448402</td>\n",
       "      <td>54.506126</td>\n",
       "      <td>101</td>\n",
       "    </tr>\n",
       "    <tr>\n",
       "      <th>102</th>\n",
       "      <td>18.683605</td>\n",
       "      <td>2.930474</td>\n",
       "      <td>18.683605</td>\n",
       "      <td>56.315769</td>\n",
       "      <td>6.578914</td>\n",
       "      <td>56.315769</td>\n",
       "      <td>102</td>\n",
       "    </tr>\n",
       "    <tr>\n",
       "      <th>103</th>\n",
       "      <td>18.675596</td>\n",
       "      <td>2.929737</td>\n",
       "      <td>18.675596</td>\n",
       "      <td>53.845043</td>\n",
       "      <td>6.395562</td>\n",
       "      <td>53.845043</td>\n",
       "      <td>103</td>\n",
       "    </tr>\n",
       "    <tr>\n",
       "      <th>104</th>\n",
       "      <td>18.540154</td>\n",
       "      <td>2.921761</td>\n",
       "      <td>18.540154</td>\n",
       "      <td>53.513187</td>\n",
       "      <td>6.369625</td>\n",
       "      <td>53.513187</td>\n",
       "      <td>104</td>\n",
       "    </tr>\n",
       "  </tbody>\n",
       "</table>\n",
       "</div>"
      ],
      "text/plain": [
       "          loss       mae        mse   val_loss   val_mae    val_mse  epoch\n",
       "100  19.133938  2.993539  19.133938  49.565521  6.075848  49.565521    100\n",
       "101  18.824371  2.979744  18.824371  54.506126  6.448402  54.506126    101\n",
       "102  18.683605  2.930474  18.683605  56.315769  6.578914  56.315769    102\n",
       "103  18.675596  2.929737  18.675596  53.845043  6.395562  53.845043    103\n",
       "104  18.540154  2.921761  18.540154  53.513187  6.369625  53.513187    104"
      ]
     },
     "execution_count": 36,
     "metadata": {},
     "output_type": "execute_result"
    }
   ],
   "source": [
    "hist_df = pd.DataFrame(historia.history)\n",
    "hist_df['epoch'] = historia.epoch\n",
    "hist_df.tail()"
   ]
  },
  {
   "cell_type": "code",
   "execution_count": 37,
   "metadata": {},
   "outputs": [
    {
     "data": {
      "text/plain": [
       "dict_keys(['loss', 'mae', 'mse', 'val_loss', 'val_mae', 'val_mse'])"
      ]
     },
     "execution_count": 37,
     "metadata": {},
     "output_type": "execute_result"
    }
   ],
   "source": [
    "historia.history.keys()"
   ]
  },
  {
   "cell_type": "code",
   "execution_count": 38,
   "metadata": {},
   "outputs": [
    {
     "data": {
      "image/png": "[encoded data removed]",
      "text/plain": [
       "<Figure size 1080x216 with 1 Axes>"
      ]
     },
     "metadata": {
      "needs_background": "light"
     },
     "output_type": "display_data"
    }
   ],
   "source": [
    "plt.figure(figsize=(15,3))\n",
    "plt.xlabel('epoch')\n",
    "plt.ylabel('mse')\n",
    "plt.plot(historia.history['loss'], label='train loss')\n",
    "plt.plot(historia.history['val_loss'], label='val_loss')\n",
    "plt.legend();"
   ]
  },
  {
   "cell_type": "code",
   "execution_count": 39,
   "metadata": {},
   "outputs": [
    {
     "data": {
      "image/png": "[encoded data removed]",
      "text/plain": [
       "<Figure size 1080x216 with 1 Axes>"
      ]
     },
     "metadata": {
      "needs_background": "light"
     },
     "output_type": "display_data"
    }
   ],
   "source": [
    "plt.figure(figsize=(15,3))\n",
    "plt.xlabel('epoch')\n",
    "plt.ylabel('error')\n",
    "plt.plot(historia.history['mse'], label='train mse')\n",
    "plt.plot(historia.history['val_mse'], label='val_mse')\n",
    "plt.legend();"
   ]
  },
  {
   "cell_type": "code",
   "execution_count": 40,
   "metadata": {},
   "outputs": [
    {
     "data": {
      "image/png": "[encoded data removed]",
      "text/plain": [
       "<Figure size 1080x216 with 1 Axes>"
      ]
     },
     "metadata": {
      "needs_background": "light"
     },
     "output_type": "display_data"
    }
   ],
   "source": [
    "plt.figure(figsize=(15,3))\n",
    "plt.xlabel('epoch')\n",
    "plt.ylabel('error')\n",
    "plt.plot(historia.history['mae'], label='train mae')\n",
    "plt.plot(historia.history['val_mae'], label='val_mae')\n",
    "plt.legend();"
   ]
  },
  {
   "cell_type": "code",
   "execution_count": 41,
   "metadata": {},
   "outputs": [
    {
     "name": "stdout",
     "output_type": "stream",
     "text": [
      "2/2 - 0s - loss: 40.9209 - mae: 5.0502 - mse: 40.9209 - 17ms/epoch - 9ms/step\n",
      "Test Mean Abs Error: 5.05\n"
     ]
    }
   ],
   "source": [
    "# Evaluate\n",
    "loss, mae, mse = network.evaluate(X_test, y_test, verbose=2)\n",
    "print(\"Test Mean Abs Error: {:.2f}\".format(mae))"
   ]
  },
  {
   "cell_type": "markdown",
   "metadata": {},
   "source": [
    "## Load model"
   ]
  },
  {
   "cell_type": "code",
   "execution_count": 42,
   "metadata": {},
   "outputs": [],
   "source": [
    "# load model\n",
    "load_model = tf.keras.models.load_model('boston_housing_model.h5')"
   ]
  },
  {
   "cell_type": "code",
   "execution_count": 43,
   "metadata": {},
   "outputs": [
    {
     "data": {
      "text/plain": [
       "<keras.engine.sequential.Sequential at 0x7fb65059ec40>"
      ]
     },
     "execution_count": 43,
     "metadata": {},
     "output_type": "execute_result"
    }
   ],
   "source": [
    "load_model"
   ]
  },
  {
   "cell_type": "markdown",
   "metadata": {},
   "source": [
    "## Evaluar Prediccion"
   ]
  },
  {
   "cell_type": "code",
   "execution_count": 44,
   "metadata": {},
   "outputs": [
    {
     "data": {
      "image/png": "[encoded data removed]",
      "text/plain": [
       "<Figure size 1080x216 with 1 Axes>"
      ]
     },
     "metadata": {
      "needs_background": "light"
     },
     "output_type": "display_data"
    }
   ],
   "source": [
    "y_prediccion = load_model.predict(X_pred).flatten()\n",
    "plt.figure(figsize=(15,3))\n",
    "plt.scatter(y_pred, y_prediccion)\n",
    "plt.xlabel('y_pred (valor verdadero)')\n",
    "plt.ylabel('prediccion')\n",
    "plt.xlim([0,plt.xlim()[1]])\n",
    "plt.ylim([0,plt.ylim()[1]])\n",
    "plt.plot([-50, 50], [-50, 50])\n",
    "plt.show()"
   ]
  },
  {
   "cell_type": "code",
   "execution_count": 45,
   "metadata": {},
   "outputs": [
    {
     "data": {
      "image/png": "[encoded data removed]",
      "text/plain": [
       "<Figure size 1080x216 with 1 Axes>"
      ]
     },
     "metadata": {
      "needs_background": "light"
     },
     "output_type": "display_data"
    }
   ],
   "source": [
    "error = y_prediccion - y_pred\n",
    "plt.figure(figsize=(15,3))\n",
    "plt.hist(error, bins = 50)\n",
    "plt.xlabel(\"Error prediccion\")\n",
    "plt.ylabel(\"Count\");"
   ]
  },
  {
   "cell_type": "code",
   "execution_count": 46,
   "metadata": {},
   "outputs": [],
   "source": [
    "# dataframe para revisar valores de prediccion\n",
    "X_orig = pd.concat([pd.DataFrame(X_train_orig), pd.DataFrame(X_test_orig)], axis=0).reset_index(level=0).drop('index', axis=1)  \n",
    "X_orig.columns = list(columnas.keys())[:-1]\n",
    "y_orig = pd.concat([pd.DataFrame(y_train_orig), pd.DataFrame(y_test_orig)], axis=0).reset_index(level=0).drop('index', axis=1) \n",
    "y_orig.columns = list(columnas.keys())[-1:]\n",
    "Orig = pd.concat([X_orig, y_orig], axis =1)"
   ]
  },
  {
   "cell_type": "code",
   "execution_count": 47,
   "metadata": {},
   "outputs": [],
   "source": [
    "prediccion_df=pd.concat([Orig.iloc[indices_pred], pd.DataFrame(y_prediccion, columns=['Prediccion'], index=indices_pred)], axis=1)"
   ]
  },
  {
   "cell_type": "code",
   "execution_count": 48,
   "metadata": {},
   "outputs": [
    {
     "data": {
      "text/html": [
       "<div>\n",
       "<style scoped>\n",
       "    .dataframe tbody tr th:only-of-type {\n",
       "        vertical-align: middle;\n",
       "    }\n",
       "\n",
       "    .dataframe tbody tr th {\n",
       "        vertical-align: top;\n",
       "    }\n",
       "\n",
       "    .dataframe thead th {\n",
       "        text-align: right;\n",
       "    }\n",
       "</style>\n",
       "<table border=\"1\" class=\"dataframe\">\n",
       "  <thead>\n",
       "    <tr style=\"text-align: right;\">\n",
       "      <th></th>\n",
       "      <th>CRIM</th>\n",
       "      <th>ZN</th>\n",
       "      <th>INDUS</th>\n",
       "      <th>CHAS</th>\n",
       "      <th>NOX</th>\n",
       "      <th>RM</th>\n",
       "      <th>AGE</th>\n",
       "      <th>DIS</th>\n",
       "      <th>RAD</th>\n",
       "      <th>TAX</th>\n",
       "      <th>PTRATIO</th>\n",
       "      <th>B</th>\n",
       "      <th>LSTAT</th>\n",
       "      <th>MEDV</th>\n",
       "      <th>Prediccion</th>\n",
       "      <th>error_abs</th>\n",
       "    </tr>\n",
       "  </thead>\n",
       "  <tbody>\n",
       "    <tr>\n",
       "      <th>361</th>\n",
       "      <td>0.08187</td>\n",
       "      <td>0.0</td>\n",
       "      <td>2.89</td>\n",
       "      <td>0.0</td>\n",
       "      <td>0.4450</td>\n",
       "      <td>7.820</td>\n",
       "      <td>36.9</td>\n",
       "      <td>3.4952</td>\n",
       "      <td>2.0</td>\n",
       "      <td>276.0</td>\n",
       "      <td>18.0</td>\n",
       "      <td>393.53</td>\n",
       "      <td>3.57</td>\n",
       "      <td>43.8</td>\n",
       "      <td>29.028858</td>\n",
       "      <td>14.771142</td>\n",
       "    </tr>\n",
       "    <tr>\n",
       "      <th>91</th>\n",
       "      <td>0.02009</td>\n",
       "      <td>95.0</td>\n",
       "      <td>2.68</td>\n",
       "      <td>0.0</td>\n",
       "      <td>0.4161</td>\n",
       "      <td>8.034</td>\n",
       "      <td>31.9</td>\n",
       "      <td>5.1180</td>\n",
       "      <td>4.0</td>\n",
       "      <td>224.0</td>\n",
       "      <td>14.7</td>\n",
       "      <td>390.55</td>\n",
       "      <td>2.88</td>\n",
       "      <td>50.0</td>\n",
       "      <td>38.300449</td>\n",
       "      <td>11.699551</td>\n",
       "    </tr>\n",
       "    <tr>\n",
       "      <th>373</th>\n",
       "      <td>0.28955</td>\n",
       "      <td>0.0</td>\n",
       "      <td>10.59</td>\n",
       "      <td>0.0</td>\n",
       "      <td>0.4890</td>\n",
       "      <td>5.412</td>\n",
       "      <td>9.8</td>\n",
       "      <td>3.5875</td>\n",
       "      <td>4.0</td>\n",
       "      <td>277.0</td>\n",
       "      <td>18.6</td>\n",
       "      <td>348.93</td>\n",
       "      <td>29.55</td>\n",
       "      <td>23.7</td>\n",
       "      <td>12.963155</td>\n",
       "      <td>10.736845</td>\n",
       "    </tr>\n",
       "    <tr>\n",
       "      <th>10</th>\n",
       "      <td>9.59571</td>\n",
       "      <td>0.0</td>\n",
       "      <td>18.10</td>\n",
       "      <td>0.0</td>\n",
       "      <td>0.6930</td>\n",
       "      <td>6.404</td>\n",
       "      <td>100.0</td>\n",
       "      <td>1.6390</td>\n",
       "      <td>24.0</td>\n",
       "      <td>666.0</td>\n",
       "      <td>20.2</td>\n",
       "      <td>376.11</td>\n",
       "      <td>20.31</td>\n",
       "      <td>12.1</td>\n",
       "      <td>18.316828</td>\n",
       "      <td>6.216828</td>\n",
       "    </tr>\n",
       "    <tr>\n",
       "      <th>124</th>\n",
       "      <td>88.97620</td>\n",
       "      <td>0.0</td>\n",
       "      <td>18.10</td>\n",
       "      <td>0.0</td>\n",
       "      <td>0.6710</td>\n",
       "      <td>6.968</td>\n",
       "      <td>91.9</td>\n",
       "      <td>1.4165</td>\n",
       "      <td>24.0</td>\n",
       "      <td>666.0</td>\n",
       "      <td>20.2</td>\n",
       "      <td>396.90</td>\n",
       "      <td>17.21</td>\n",
       "      <td>10.4</td>\n",
       "      <td>16.493809</td>\n",
       "      <td>6.093809</td>\n",
       "    </tr>\n",
       "  </tbody>\n",
       "</table>\n",
       "</div>"
      ],
      "text/plain": [
       "         CRIM    ZN  INDUS  CHAS     NOX     RM    AGE     DIS   RAD    TAX  \\\n",
       "361   0.08187   0.0   2.89   0.0  0.4450  7.820   36.9  3.4952   2.0  276.0   \n",
       "91    0.02009  95.0   2.68   0.0  0.4161  8.034   31.9  5.1180   4.0  224.0   \n",
       "373   0.28955   0.0  10.59   0.0  0.4890  5.412    9.8  3.5875   4.0  277.0   \n",
       "10    9.59571   0.0  18.10   0.0  0.6930  6.404  100.0  1.6390  24.0  666.0   \n",
       "124  88.97620   0.0  18.10   0.0  0.6710  6.968   91.9  1.4165  24.0  666.0   \n",
       "\n",
       "     PTRATIO       B  LSTAT  MEDV  Prediccion  error_abs  \n",
       "361     18.0  393.53   3.57  43.8   29.028858  14.771142  \n",
       "91      14.7  390.55   2.88  50.0   38.300449  11.699551  \n",
       "373     18.6  348.93  29.55  23.7   12.963155  10.736845  \n",
       "10      20.2  376.11  20.31  12.1   18.316828   6.216828  \n",
       "124     20.2  396.90  17.21  10.4   16.493809   6.093809  "
      ]
     },
     "execution_count": 48,
     "metadata": {},
     "output_type": "execute_result"
    }
   ],
   "source": [
    "prediccion_df['error_abs']= np.abs(prediccion_df['MEDV']-prediccion_df['Prediccion'])\n",
    "prediccion_df.sort_values(by='error_abs', ascending=False).head(5)"
   ]
  },
  {
   "cell_type": "markdown",
   "metadata": {},
   "source": [
    "- en general la prediccion se ve correcta, sin embargo, valores outliers pueden estar influenciando la prediccion. \n",
    "- debido a la limitada cantidad de datos, no se pudo eliminar dichos valores"
   ]
  }
 ],
 "metadata": {
  "kernelspec": {
   "display_name": "Python 3",
   "language": "python",
   "name": "python3"
  },
  "language_info": {
   "codemirror_mode": {
    "name": "ipython",
    "version": 3
   },
   "file_extension": ".py",
   "mimetype": "text/x-python",
   "name": "python",
   "nbconvert_exporter": "python",
   "pygments_lexer": "ipython3",
   "version": "3.9.7"
  }
 },
 "nbformat": 4,
 "nbformat_minor": 4
}
