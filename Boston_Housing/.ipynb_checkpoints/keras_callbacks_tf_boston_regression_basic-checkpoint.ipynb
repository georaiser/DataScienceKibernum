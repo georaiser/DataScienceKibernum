{
 "cells": [
  {
   "cell_type": "code",
   "execution_count": 1,
   "metadata": {
    "id": "wXG9mny4g1hG"
   },
   "outputs": [],
   "source": [
    "#!pip install -q tensorflow==2.0.0-beta1"
   ]
  },
  {
   "cell_type": "code",
   "execution_count": 2,
   "metadata": {
    "id": "osg-R6Hug4I8"
   },
   "outputs": [],
   "source": [
    "import pandas as pd\n",
    "from sklearn import datasets"
   ]
  },
  {
   "cell_type": "markdown",
   "metadata": {
    "id": "4Wjmw59H8z6h"
   },
   "source": [
    "Load Boston Housing Datasets:"
   ]
  },
  {
   "cell_type": "code",
   "execution_count": 3,
   "metadata": {
    "id": "hx5u3Frig6ic"
   },
   "outputs": [],
   "source": [
    "boston = datasets.load_boston()\n",
    "X = pd.DataFrame(boston['data'], columns=boston['feature_names'])\n",
    "y = pd.Series(boston['target'])"
   ]
  },
  {
   "cell_type": "code",
   "execution_count": 4,
   "metadata": {
    "colab": {
     "base_uri": "https://localhost:8080/",
     "height": 406
    },
    "id": "mg7zCMOR9CF5",
    "outputId": "e688cf44-7e3c-4898-a784-9a890768d9a1"
   },
   "outputs": [
    {
     "data": {
      "text/html": [
       "<div>\n",
       "<style scoped>\n",
       "    .dataframe tbody tr th:only-of-type {\n",
       "        vertical-align: middle;\n",
       "    }\n",
       "\n",
       "    .dataframe tbody tr th {\n",
       "        vertical-align: top;\n",
       "    }\n",
       "\n",
       "    .dataframe thead th {\n",
       "        text-align: right;\n",
       "    }\n",
       "</style>\n",
       "<table border=\"1\" class=\"dataframe\">\n",
       "  <thead>\n",
       "    <tr style=\"text-align: right;\">\n",
       "      <th></th>\n",
       "      <th>CRIM</th>\n",
       "      <th>ZN</th>\n",
       "      <th>INDUS</th>\n",
       "      <th>CHAS</th>\n",
       "      <th>NOX</th>\n",
       "      <th>RM</th>\n",
       "      <th>AGE</th>\n",
       "      <th>DIS</th>\n",
       "      <th>RAD</th>\n",
       "      <th>TAX</th>\n",
       "      <th>PTRATIO</th>\n",
       "      <th>B</th>\n",
       "      <th>LSTAT</th>\n",
       "    </tr>\n",
       "  </thead>\n",
       "  <tbody>\n",
       "    <tr>\n",
       "      <th>0</th>\n",
       "      <td>0.00632</td>\n",
       "      <td>18.0</td>\n",
       "      <td>2.31</td>\n",
       "      <td>0.0</td>\n",
       "      <td>0.538</td>\n",
       "      <td>6.575</td>\n",
       "      <td>65.2</td>\n",
       "      <td>4.0900</td>\n",
       "      <td>1.0</td>\n",
       "      <td>296.0</td>\n",
       "      <td>15.3</td>\n",
       "      <td>396.90</td>\n",
       "      <td>4.98</td>\n",
       "    </tr>\n",
       "    <tr>\n",
       "      <th>1</th>\n",
       "      <td>0.02731</td>\n",
       "      <td>0.0</td>\n",
       "      <td>7.07</td>\n",
       "      <td>0.0</td>\n",
       "      <td>0.469</td>\n",
       "      <td>6.421</td>\n",
       "      <td>78.9</td>\n",
       "      <td>4.9671</td>\n",
       "      <td>2.0</td>\n",
       "      <td>242.0</td>\n",
       "      <td>17.8</td>\n",
       "      <td>396.90</td>\n",
       "      <td>9.14</td>\n",
       "    </tr>\n",
       "    <tr>\n",
       "      <th>2</th>\n",
       "      <td>0.02729</td>\n",
       "      <td>0.0</td>\n",
       "      <td>7.07</td>\n",
       "      <td>0.0</td>\n",
       "      <td>0.469</td>\n",
       "      <td>7.185</td>\n",
       "      <td>61.1</td>\n",
       "      <td>4.9671</td>\n",
       "      <td>2.0</td>\n",
       "      <td>242.0</td>\n",
       "      <td>17.8</td>\n",
       "      <td>392.83</td>\n",
       "      <td>4.03</td>\n",
       "    </tr>\n",
       "    <tr>\n",
       "      <th>3</th>\n",
       "      <td>0.03237</td>\n",
       "      <td>0.0</td>\n",
       "      <td>2.18</td>\n",
       "      <td>0.0</td>\n",
       "      <td>0.458</td>\n",
       "      <td>6.998</td>\n",
       "      <td>45.8</td>\n",
       "      <td>6.0622</td>\n",
       "      <td>3.0</td>\n",
       "      <td>222.0</td>\n",
       "      <td>18.7</td>\n",
       "      <td>394.63</td>\n",
       "      <td>2.94</td>\n",
       "    </tr>\n",
       "    <tr>\n",
       "      <th>4</th>\n",
       "      <td>0.06905</td>\n",
       "      <td>0.0</td>\n",
       "      <td>2.18</td>\n",
       "      <td>0.0</td>\n",
       "      <td>0.458</td>\n",
       "      <td>7.147</td>\n",
       "      <td>54.2</td>\n",
       "      <td>6.0622</td>\n",
       "      <td>3.0</td>\n",
       "      <td>222.0</td>\n",
       "      <td>18.7</td>\n",
       "      <td>396.90</td>\n",
       "      <td>5.33</td>\n",
       "    </tr>\n",
       "    <tr>\n",
       "      <th>...</th>\n",
       "      <td>...</td>\n",
       "      <td>...</td>\n",
       "      <td>...</td>\n",
       "      <td>...</td>\n",
       "      <td>...</td>\n",
       "      <td>...</td>\n",
       "      <td>...</td>\n",
       "      <td>...</td>\n",
       "      <td>...</td>\n",
       "      <td>...</td>\n",
       "      <td>...</td>\n",
       "      <td>...</td>\n",
       "      <td>...</td>\n",
       "    </tr>\n",
       "    <tr>\n",
       "      <th>501</th>\n",
       "      <td>0.06263</td>\n",
       "      <td>0.0</td>\n",
       "      <td>11.93</td>\n",
       "      <td>0.0</td>\n",
       "      <td>0.573</td>\n",
       "      <td>6.593</td>\n",
       "      <td>69.1</td>\n",
       "      <td>2.4786</td>\n",
       "      <td>1.0</td>\n",
       "      <td>273.0</td>\n",
       "      <td>21.0</td>\n",
       "      <td>391.99</td>\n",
       "      <td>9.67</td>\n",
       "    </tr>\n",
       "    <tr>\n",
       "      <th>502</th>\n",
       "      <td>0.04527</td>\n",
       "      <td>0.0</td>\n",
       "      <td>11.93</td>\n",
       "      <td>0.0</td>\n",
       "      <td>0.573</td>\n",
       "      <td>6.120</td>\n",
       "      <td>76.7</td>\n",
       "      <td>2.2875</td>\n",
       "      <td>1.0</td>\n",
       "      <td>273.0</td>\n",
       "      <td>21.0</td>\n",
       "      <td>396.90</td>\n",
       "      <td>9.08</td>\n",
       "    </tr>\n",
       "    <tr>\n",
       "      <th>503</th>\n",
       "      <td>0.06076</td>\n",
       "      <td>0.0</td>\n",
       "      <td>11.93</td>\n",
       "      <td>0.0</td>\n",
       "      <td>0.573</td>\n",
       "      <td>6.976</td>\n",
       "      <td>91.0</td>\n",
       "      <td>2.1675</td>\n",
       "      <td>1.0</td>\n",
       "      <td>273.0</td>\n",
       "      <td>21.0</td>\n",
       "      <td>396.90</td>\n",
       "      <td>5.64</td>\n",
       "    </tr>\n",
       "    <tr>\n",
       "      <th>504</th>\n",
       "      <td>0.10959</td>\n",
       "      <td>0.0</td>\n",
       "      <td>11.93</td>\n",
       "      <td>0.0</td>\n",
       "      <td>0.573</td>\n",
       "      <td>6.794</td>\n",
       "      <td>89.3</td>\n",
       "      <td>2.3889</td>\n",
       "      <td>1.0</td>\n",
       "      <td>273.0</td>\n",
       "      <td>21.0</td>\n",
       "      <td>393.45</td>\n",
       "      <td>6.48</td>\n",
       "    </tr>\n",
       "    <tr>\n",
       "      <th>505</th>\n",
       "      <td>0.04741</td>\n",
       "      <td>0.0</td>\n",
       "      <td>11.93</td>\n",
       "      <td>0.0</td>\n",
       "      <td>0.573</td>\n",
       "      <td>6.030</td>\n",
       "      <td>80.8</td>\n",
       "      <td>2.5050</td>\n",
       "      <td>1.0</td>\n",
       "      <td>273.0</td>\n",
       "      <td>21.0</td>\n",
       "      <td>396.90</td>\n",
       "      <td>7.88</td>\n",
       "    </tr>\n",
       "  </tbody>\n",
       "</table>\n",
       "<p>506 rows × 13 columns</p>\n",
       "</div>"
      ],
      "text/plain": [
       "        CRIM    ZN  INDUS  CHAS    NOX     RM   AGE     DIS  RAD    TAX  \\\n",
       "0    0.00632  18.0   2.31   0.0  0.538  6.575  65.2  4.0900  1.0  296.0   \n",
       "1    0.02731   0.0   7.07   0.0  0.469  6.421  78.9  4.9671  2.0  242.0   \n",
       "2    0.02729   0.0   7.07   0.0  0.469  7.185  61.1  4.9671  2.0  242.0   \n",
       "3    0.03237   0.0   2.18   0.0  0.458  6.998  45.8  6.0622  3.0  222.0   \n",
       "4    0.06905   0.0   2.18   0.0  0.458  7.147  54.2  6.0622  3.0  222.0   \n",
       "..       ...   ...    ...   ...    ...    ...   ...     ...  ...    ...   \n",
       "501  0.06263   0.0  11.93   0.0  0.573  6.593  69.1  2.4786  1.0  273.0   \n",
       "502  0.04527   0.0  11.93   0.0  0.573  6.120  76.7  2.2875  1.0  273.0   \n",
       "503  0.06076   0.0  11.93   0.0  0.573  6.976  91.0  2.1675  1.0  273.0   \n",
       "504  0.10959   0.0  11.93   0.0  0.573  6.794  89.3  2.3889  1.0  273.0   \n",
       "505  0.04741   0.0  11.93   0.0  0.573  6.030  80.8  2.5050  1.0  273.0   \n",
       "\n",
       "     PTRATIO       B  LSTAT  \n",
       "0       15.3  396.90   4.98  \n",
       "1       17.8  396.90   9.14  \n",
       "2       17.8  392.83   4.03  \n",
       "3       18.7  394.63   2.94  \n",
       "4       18.7  396.90   5.33  \n",
       "..       ...     ...    ...  \n",
       "501     21.0  391.99   9.67  \n",
       "502     21.0  396.90   9.08  \n",
       "503     21.0  396.90   5.64  \n",
       "504     21.0  393.45   6.48  \n",
       "505     21.0  396.90   7.88  \n",
       "\n",
       "[506 rows x 13 columns]"
      ]
     },
     "execution_count": 4,
     "metadata": {},
     "output_type": "execute_result"
    }
   ],
   "source": [
    "X\n",
    "    # :Attribute Information (in order):\n",
    "    #     - CRIM     per capita crime rate by town\n",
    "    #     - ZN       proportion of residential land zoned for lots over 25,000 sq.ft.\n",
    "    #     - INDUS    proportion of non-retail business acres per town\n",
    "    #     - CHAS     Charles River dummy variable (= 1 if tract bounds river; 0 otherwise)\n",
    "    #     - NOX      nitric oxides concentration (parts per 10 million)\n",
    "    #     - RM       average number of rooms per dwelling\n",
    "    #     - AGE      proportion of owner-occupied units built prior to 1940\n",
    "    #     - DIS      weighted distances to five Boston employment centres\n",
    "    #     - RAD      index of accessibility to radial highways\n",
    "    #     - TAX      full-value property-tax rate per $10,000\n",
    "    #     - PTRATIO  pupil-teacher ratio by town\n",
    "    #     - B        1000(Bk - 0.63)^2 where Bk is the proportion of blacks by town\n",
    "    #     - LSTAT    % lower status of the population"
   ]
  },
  {
   "cell_type": "markdown",
   "metadata": {
    "id": "axb6ED789xTZ"
   },
   "source": [
    "We are trying to predict MEDV (Median value of owner-occupied homes in $1000's), so we are dealing with a regression task."
   ]
  },
  {
   "cell_type": "markdown",
   "metadata": {
    "id": "2p44M0Do8giE"
   },
   "source": [
    "# Simple Regression With Tensorflow's Keras API"
   ]
  },
  {
   "cell_type": "code",
   "execution_count": 5,
   "metadata": {
    "id": "5kRvIS9X8b68"
   },
   "outputs": [],
   "source": [
    "import tensorflow as tf\n",
    "from tensorflow.keras.models import Sequential\n",
    "from tensorflow.keras.layers import Dense"
   ]
  },
  {
   "cell_type": "markdown",
   "metadata": {
    "id": "UTv4wwGoHvXa"
   },
   "source": [
    "## Model - Create and Compile"
   ]
  },
  {
   "cell_type": "code",
   "execution_count": 6,
   "metadata": {
    "id": "wBef3e198cGO"
   },
   "outputs": [],
   "source": [
    "model = Sequential()\n",
    "\n",
    "model.add(Dense(13, input_shape=(13,), activation='relu'))\n",
    "model.add(Dense(28, activation='relu'))\n",
    "model.add(Dense(13, activation='relu'))\n",
    "model.add(Dense(8, activation='relu'))\n",
    "\n",
    "# regression - no activation function in the last layer\n",
    "model.add(Dense(1))\n",
    "\n",
    "model.compile(optimizer='adam', loss='mse')"
   ]
  },
  {
   "cell_type": "markdown",
   "metadata": {
    "id": "R28H4LHGH7OM"
   },
   "source": [
    "## Split the Data to Train and Test Sets"
   ]
  },
  {
   "cell_type": "code",
   "execution_count": 7,
   "metadata": {
    "id": "BqNplh618cKH"
   },
   "outputs": [],
   "source": [
    "from sklearn.model_selection import train_test_split\n",
    "X_train, X_test, y_train, y_test = train_test_split(X, y, test_size=0.2, random_state=42)"
   ]
  },
  {
   "cell_type": "markdown",
   "metadata": {
    "id": "wbXNSwbYIFjH"
   },
   "source": [
    "## Train the Model Using Callbacks"
   ]
  },
  {
   "cell_type": "code",
   "execution_count": 8,
   "metadata": {
    "id": "82Vnu3eI8cM0"
   },
   "outputs": [
    {
     "name": "stdout",
     "output_type": "stream",
     "text": [
      "Epoch 1/500\n",
      "13/13 [==============================] - 1s 40ms/step - loss: 1422.5519 - val_loss: 488.7996\n",
      "Epoch 2/500\n",
      "13/13 [==============================] - 0s 6ms/step - loss: 419.0859 - val_loss: 143.8642\n",
      "Epoch 3/500\n",
      "13/13 [==============================] - 0s 3ms/step - loss: 174.0641 - val_loss: 148.4738\n",
      "Epoch 4/500\n",
      "13/13 [==============================] - 0s 5ms/step - loss: 115.6363 - val_loss: 88.3005\n",
      "Epoch 5/500\n",
      "13/13 [==============================] - 0s 3ms/step - loss: 99.2259 - val_loss: 89.6160\n",
      "Epoch 6/500\n",
      "13/13 [==============================] - 0s 9ms/step - loss: 90.6889 - val_loss: 75.8840\n",
      "Epoch 7/500\n",
      "13/13 [==============================] - 0s 12ms/step - loss: 84.6543 - val_loss: 73.6871\n",
      "Epoch 8/500\n",
      "13/13 [==============================] - 0s 10ms/step - loss: 81.7258 - val_loss: 70.9354\n",
      "Epoch 9/500\n",
      "13/13 [==============================] - 0s 7ms/step - loss: 79.0393 - val_loss: 69.8093\n",
      "Epoch 10/500\n",
      "13/13 [==============================] - 0s 5ms/step - loss: 77.1231 - val_loss: 66.0562\n",
      "Epoch 11/500\n",
      "13/13 [==============================] - 0s 3ms/step - loss: 75.7407 - val_loss: 67.8827\n",
      "Epoch 12/500\n",
      "13/13 [==============================] - 0s 9ms/step - loss: 75.2447 - val_loss: 65.3519\n",
      "Epoch 13/500\n",
      "13/13 [==============================] - 0s 3ms/step - loss: 74.6122 - val_loss: 66.7802\n",
      "Epoch 14/500\n",
      "13/13 [==============================] - 0s 6ms/step - loss: 73.4212 - val_loss: 60.6874\n",
      "Epoch 15/500\n",
      "13/13 [==============================] - 0s 3ms/step - loss: 73.2583 - val_loss: 61.8233\n",
      "Epoch 16/500\n",
      "13/13 [==============================] - 0s 3ms/step - loss: 72.6928 - val_loss: 64.6941\n",
      "Epoch 17/500\n",
      "13/13 [==============================] - 0s 6ms/step - loss: 73.7749 - val_loss: 58.9466\n",
      "Epoch 18/500\n",
      "13/13 [==============================] - 0s 9ms/step - loss: 72.7237 - val_loss: 57.8913\n",
      "Epoch 19/500\n",
      "13/13 [==============================] - 0s 3ms/step - loss: 72.7484 - val_loss: 65.4094\n",
      "Epoch 20/500\n",
      "13/13 [==============================] - 0s 6ms/step - loss: 70.5949 - val_loss: 56.9773\n",
      "Epoch 21/500\n",
      "13/13 [==============================] - 0s 3ms/step - loss: 69.5522 - val_loss: 57.8053\n",
      "Epoch 22/500\n",
      "13/13 [==============================] - 0s 3ms/step - loss: 69.5042 - val_loss: 59.4314\n",
      "Epoch 23/500\n",
      "13/13 [==============================] - 0s 6ms/step - loss: 69.9146 - val_loss: 55.0588\n",
      "Epoch 24/500\n",
      "13/13 [==============================] - 0s 6ms/step - loss: 69.7144 - val_loss: 54.5438\n",
      "Epoch 25/500\n",
      "13/13 [==============================] - 0s 3ms/step - loss: 68.6737 - val_loss: 55.1507\n",
      "Epoch 26/500\n",
      "13/13 [==============================] - 0s 7ms/step - loss: 68.3170 - val_loss: 53.3141\n",
      "Epoch 27/500\n",
      "13/13 [==============================] - 0s 3ms/step - loss: 68.4805 - val_loss: 60.4570\n",
      "Epoch 28/500\n",
      "13/13 [==============================] - 0s 6ms/step - loss: 67.2720 - val_loss: 52.6117\n",
      "Epoch 29/500\n",
      "13/13 [==============================] - 0s 10ms/step - loss: 69.9842 - val_loss: 52.5002\n",
      "Epoch 30/500\n",
      "13/13 [==============================] - 0s 3ms/step - loss: 68.3000 - val_loss: 65.3149\n",
      "Epoch 31/500\n",
      "13/13 [==============================] - 0s 6ms/step - loss: 70.2818 - val_loss: 51.5608\n",
      "Epoch 32/500\n",
      "13/13 [==============================] - 0s 6ms/step - loss: 67.3716 - val_loss: 51.0308\n",
      "Epoch 33/500\n",
      "13/13 [==============================] - 0s 3ms/step - loss: 68.2915 - val_loss: 55.1229\n",
      "Epoch 34/500\n",
      "13/13 [==============================] - 0s 3ms/step - loss: 67.9450 - val_loss: 59.7075\n",
      "Epoch 35/500\n",
      "13/13 [==============================] - 0s 5ms/step - loss: 67.1705 - val_loss: 50.0085\n",
      "Epoch 36/500\n",
      "13/13 [==============================] - 0s 6ms/step - loss: 67.9597 - val_loss: 49.2417\n",
      "Epoch 37/500\n",
      "13/13 [==============================] - 0s 3ms/step - loss: 66.8676 - val_loss: 62.9701\n",
      "Epoch 38/500\n",
      "13/13 [==============================] - 0s 11ms/step - loss: 67.6455 - val_loss: 48.0722\n",
      "Epoch 39/500\n",
      "13/13 [==============================] - 0s 8ms/step - loss: 65.2315 - val_loss: 47.6457\n",
      "Epoch 40/500\n",
      "13/13 [==============================] - 0s 4ms/step - loss: 65.0747 - val_loss: 48.5666\n",
      "Epoch 41/500\n",
      "13/13 [==============================] - 0s 8ms/step - loss: 63.8919 - val_loss: 47.2775\n",
      "Epoch 42/500\n",
      "13/13 [==============================] - 0s 3ms/step - loss: 64.9965 - val_loss: 52.5018\n",
      "Epoch 43/500\n",
      "13/13 [==============================] - 0s 3ms/step - loss: 64.3418 - val_loss: 48.4671\n",
      "Epoch 44/500\n",
      "13/13 [==============================] - 0s 6ms/step - loss: 63.3922 - val_loss: 46.5412\n",
      "Epoch 45/500\n",
      "13/13 [==============================] - 0s 8ms/step - loss: 63.8774 - val_loss: 45.9186\n",
      "Epoch 46/500\n",
      "13/13 [==============================] - 0s 3ms/step - loss: 62.9522 - val_loss: 48.3484\n",
      "Epoch 47/500\n",
      "13/13 [==============================] - 0s 3ms/step - loss: 62.4423 - val_loss: 48.7482\n",
      "Epoch 48/500\n",
      "13/13 [==============================] - 0s 3ms/step - loss: 62.2570 - val_loss: 47.8681\n",
      "Epoch 49/500\n",
      "13/13 [==============================] - 0s 5ms/step - loss: 61.8138 - val_loss: 45.4413\n",
      "Epoch 50/500\n",
      "13/13 [==============================] - 0s 6ms/step - loss: 62.4586 - val_loss: 44.5183\n",
      "Epoch 51/500\n",
      "13/13 [==============================] - 0s 3ms/step - loss: 63.5621 - val_loss: 49.1238\n",
      "Epoch 52/500\n",
      "13/13 [==============================] - 0s 3ms/step - loss: 61.7841 - val_loss: 49.5072\n",
      "Epoch 53/500\n",
      "13/13 [==============================] - 0s 7ms/step - loss: 61.9992 - val_loss: 44.4297\n",
      "Epoch 54/500\n",
      "13/13 [==============================] - 0s 3ms/step - loss: 61.2300 - val_loss: 44.9614\n",
      "Epoch 55/500\n",
      "13/13 [==============================] - 0s 3ms/step - loss: 61.3148 - val_loss: 45.6830\n",
      "Epoch 56/500\n",
      "13/13 [==============================] - 0s 3ms/step - loss: 60.5121 - val_loss: 47.2070\n",
      "Epoch 57/500\n",
      "13/13 [==============================] - 0s 6ms/step - loss: 61.9638 - val_loss: 43.8497\n",
      "Epoch 58/500\n",
      "13/13 [==============================] - 0s 3ms/step - loss: 59.4697 - val_loss: 45.7665\n",
      "Epoch 59/500\n",
      "13/13 [==============================] - 0s 3ms/step - loss: 60.7919 - val_loss: 44.8707\n",
      "Epoch 60/500\n",
      "13/13 [==============================] - 0s 3ms/step - loss: 59.7736 - val_loss: 45.7399\n",
      "Epoch 61/500\n",
      "13/13 [==============================] - 0s 6ms/step - loss: 59.2332 - val_loss: 42.1758\n",
      "Epoch 62/500\n",
      "13/13 [==============================] - 0s 3ms/step - loss: 58.9061 - val_loss: 44.6823\n",
      "Epoch 63/500\n",
      "13/13 [==============================] - 0s 8ms/step - loss: 58.6290 - val_loss: 41.9745\n",
      "Epoch 64/500\n",
      "13/13 [==============================] - 0s 5ms/step - loss: 58.4862 - val_loss: 45.8029\n",
      "Epoch 65/500\n",
      "13/13 [==============================] - 0s 3ms/step - loss: 59.0805 - val_loss: 48.0108\n",
      "Epoch 66/500\n",
      "13/13 [==============================] - 0s 6ms/step - loss: 58.1524 - val_loss: 41.8601\n",
      "Epoch 67/500\n",
      "13/13 [==============================] - 0s 3ms/step - loss: 58.3606 - val_loss: 45.0429\n",
      "Epoch 68/500\n",
      "13/13 [==============================] - 0s 6ms/step - loss: 58.7087 - val_loss: 41.6085\n",
      "Epoch 69/500\n",
      "13/13 [==============================] - 0s 5ms/step - loss: 57.8074 - val_loss: 41.1826\n",
      "Epoch 70/500\n",
      "13/13 [==============================] - 0s 7ms/step - loss: 58.4552 - val_loss: 41.1686\n",
      "Epoch 71/500\n",
      "13/13 [==============================] - 0s 3ms/step - loss: 60.7541 - val_loss: 45.4495\n",
      "Epoch 72/500\n",
      "13/13 [==============================] - 0s 3ms/step - loss: 58.4158 - val_loss: 52.3856\n",
      "Epoch 73/500\n",
      "13/13 [==============================] - 0s 3ms/step - loss: 60.0562 - val_loss: 51.0737\n",
      "Epoch 74/500\n",
      "13/13 [==============================] - 0s 3ms/step - loss: 56.8847 - val_loss: 44.1997\n",
      "Epoch 75/500\n",
      "13/13 [==============================] - 0s 5ms/step - loss: 56.1189 - val_loss: 40.5667\n",
      "Epoch 76/500\n",
      "13/13 [==============================] - 0s 3ms/step - loss: 56.8057 - val_loss: 40.8693\n",
      "Epoch 77/500\n",
      "13/13 [==============================] - 0s 3ms/step - loss: 56.7411 - val_loss: 42.2968\n",
      "Epoch 78/500\n",
      "13/13 [==============================] - 0s 4ms/step - loss: 56.6809 - val_loss: 43.4823\n",
      "Epoch 79/500\n",
      "13/13 [==============================] - 0s 3ms/step - loss: 56.4058 - val_loss: 45.8882\n",
      "Epoch 80/500\n",
      "13/13 [==============================] - 0s 4ms/step - loss: 55.6980 - val_loss: 48.0770\n",
      "Epoch 81/500\n"
     ]
    },
    {
     "name": "stdout",
     "output_type": "stream",
     "text": [
      "13/13 [==============================] - 0s 6ms/step - loss: 54.1392 - val_loss: 39.1081\n",
      "Epoch 82/500\n",
      "13/13 [==============================] - 0s 7ms/step - loss: 54.2047 - val_loss: 38.7957\n",
      "Epoch 83/500\n",
      "13/13 [==============================] - 0s 3ms/step - loss: 53.7354 - val_loss: 39.0631\n",
      "Epoch 84/500\n",
      "13/13 [==============================] - 0s 6ms/step - loss: 54.2523 - val_loss: 38.6121\n",
      "Epoch 85/500\n",
      "13/13 [==============================] - 0s 3ms/step - loss: 55.6839 - val_loss: 43.8009\n",
      "Epoch 86/500\n",
      "13/13 [==============================] - 0s 3ms/step - loss: 52.2272 - val_loss: 41.1339\n",
      "Epoch 87/500\n",
      "13/13 [==============================] - 0s 8ms/step - loss: 52.2805 - val_loss: 38.3678\n",
      "Epoch 88/500\n",
      "13/13 [==============================] - 0s 4ms/step - loss: 55.6580 - val_loss: 39.6290\n",
      "Epoch 89/500\n",
      "13/13 [==============================] - 0s 3ms/step - loss: 58.5203 - val_loss: 52.8245\n",
      "Epoch 90/500\n",
      "13/13 [==============================] - 0s 3ms/step - loss: 52.4534 - val_loss: 49.6209\n",
      "Epoch 91/500\n",
      "13/13 [==============================] - 0s 3ms/step - loss: 54.4734 - val_loss: 43.7706\n",
      "Epoch 92/500\n",
      "13/13 [==============================] - 0s 3ms/step - loss: 53.4858 - val_loss: 47.7302\n",
      "Epoch 93/500\n",
      "13/13 [==============================] - 0s 3ms/step - loss: 50.7007 - val_loss: 43.0018\n",
      "Epoch 94/500\n",
      "13/13 [==============================] - 0s 3ms/step - loss: 51.6999 - val_loss: 40.9134\n",
      "Epoch 95/500\n",
      "13/13 [==============================] - 0s 3ms/step - loss: 50.9816 - val_loss: 39.6039\n",
      "Epoch 96/500\n",
      "13/13 [==============================] - 0s 7ms/step - loss: 51.6215 - val_loss: 37.9697\n",
      "Epoch 97/500\n",
      "13/13 [==============================] - 0s 3ms/step - loss: 49.5577 - val_loss: 38.4289\n",
      "Epoch 98/500\n",
      "13/13 [==============================] - 0s 6ms/step - loss: 49.5979 - val_loss: 36.1687\n",
      "Epoch 99/500\n",
      "13/13 [==============================] - 0s 3ms/step - loss: 47.7481 - val_loss: 42.6394\n",
      "Epoch 100/500\n",
      "13/13 [==============================] - 0s 3ms/step - loss: 48.1276 - val_loss: 41.5139\n",
      "Epoch 101/500\n",
      "13/13 [==============================] - 0s 6ms/step - loss: 48.5190 - val_loss: 34.9122\n",
      "Epoch 102/500\n",
      "13/13 [==============================] - 0s 7ms/step - loss: 47.8682 - val_loss: 34.8277\n",
      "Epoch 103/500\n",
      "13/13 [==============================] - 0s 3ms/step - loss: 47.2815 - val_loss: 37.9646\n",
      "Epoch 104/500\n",
      "13/13 [==============================] - 0s 6ms/step - loss: 48.4612 - val_loss: 34.1196\n",
      "Epoch 105/500\n",
      "13/13 [==============================] - 0s 3ms/step - loss: 44.2786 - val_loss: 40.9130\n",
      "Epoch 106/500\n",
      "13/13 [==============================] - 0s 3ms/step - loss: 47.0453 - val_loss: 34.2095\n",
      "Epoch 107/500\n",
      "13/13 [==============================] - 0s 3ms/step - loss: 43.0847 - val_loss: 36.1741\n",
      "Epoch 108/500\n",
      "13/13 [==============================] - 0s 6ms/step - loss: 44.3041 - val_loss: 30.3110\n",
      "Epoch 109/500\n",
      "13/13 [==============================] - 0s 3ms/step - loss: 45.1058 - val_loss: 31.1010\n",
      "Epoch 110/500\n",
      "13/13 [==============================] - 0s 3ms/step - loss: 42.1109 - val_loss: 36.9581\n",
      "Epoch 111/500\n",
      "13/13 [==============================] - 0s 3ms/step - loss: 42.1955 - val_loss: 32.1362\n",
      "Epoch 112/500\n",
      "13/13 [==============================] - 0s 3ms/step - loss: 42.0083 - val_loss: 37.7549\n",
      "Epoch 113/500\n",
      "13/13 [==============================] - 0s 3ms/step - loss: 41.5435 - val_loss: 34.8026\n",
      "Epoch 114/500\n",
      "13/13 [==============================] - 0s 5ms/step - loss: 41.5861 - val_loss: 28.9567\n",
      "Epoch 115/500\n",
      "13/13 [==============================] - 0s 6ms/step - loss: 40.5119 - val_loss: 28.1903\n",
      "Epoch 116/500\n",
      "13/13 [==============================] - 0s 3ms/step - loss: 44.6193 - val_loss: 30.2875\n",
      "Epoch 117/500\n",
      "13/13 [==============================] - 0s 3ms/step - loss: 42.3671 - val_loss: 31.6586\n",
      "Epoch 118/500\n",
      "13/13 [==============================] - 0s 3ms/step - loss: 42.0951 - val_loss: 33.7201\n",
      "Epoch 119/500\n",
      "13/13 [==============================] - 0s 3ms/step - loss: 40.8941 - val_loss: 30.1707\n",
      "Epoch 120/500\n",
      "13/13 [==============================] - 0s 3ms/step - loss: 46.4619 - val_loss: 32.6572\n",
      "Epoch 121/500\n",
      "13/13 [==============================] - 0s 3ms/step - loss: 41.9274 - val_loss: 30.0170\n",
      "Epoch 122/500\n",
      "13/13 [==============================] - 0s 6ms/step - loss: 39.9394 - val_loss: 27.4451\n",
      "Epoch 123/500\n",
      "13/13 [==============================] - 0s 3ms/step - loss: 38.1165 - val_loss: 33.7296\n",
      "Epoch 124/500\n",
      "13/13 [==============================] - 0s 3ms/step - loss: 39.8185 - val_loss: 27.6866\n",
      "Epoch 125/500\n",
      "13/13 [==============================] - 0s 3ms/step - loss: 41.5194 - val_loss: 41.3277\n",
      "Epoch 126/500\n",
      "13/13 [==============================] - 0s 3ms/step - loss: 49.7885 - val_loss: 29.4111\n",
      "Epoch 127/500\n",
      "13/13 [==============================] - 0s 3ms/step - loss: 42.4418 - val_loss: 28.6283\n",
      "Epoch 128/500\n",
      "13/13 [==============================] - 0s 6ms/step - loss: 38.6070 - val_loss: 27.0374\n",
      "Epoch 129/500\n",
      "13/13 [==============================] - 0s 3ms/step - loss: 40.2542 - val_loss: 29.2807\n",
      "Epoch 130/500\n",
      "13/13 [==============================] - 0s 3ms/step - loss: 37.1256 - val_loss: 29.8470\n",
      "Epoch 131/500\n",
      "13/13 [==============================] - 0s 3ms/step - loss: 36.6513 - val_loss: 29.6289\n",
      "Epoch 132/500\n",
      "13/13 [==============================] - 0s 6ms/step - loss: 37.4319 - val_loss: 26.8123\n",
      "Epoch 133/500\n",
      "13/13 [==============================] - 0s 3ms/step - loss: 40.7019 - val_loss: 32.1600\n",
      "Epoch 134/500\n",
      "13/13 [==============================] - 0s 3ms/step - loss: 42.2737 - val_loss: 29.9319\n",
      "Epoch 135/500\n",
      "13/13 [==============================] - 0s 8ms/step - loss: 37.7033 - val_loss: 26.4418\n",
      "Epoch 136/500\n",
      "13/13 [==============================] - 0s 3ms/step - loss: 36.9988 - val_loss: 28.3288\n",
      "Epoch 137/500\n",
      "13/13 [==============================] - 0s 3ms/step - loss: 36.6843 - val_loss: 26.4443\n",
      "Epoch 138/500\n",
      "13/13 [==============================] - 0s 4ms/step - loss: 35.1599 - val_loss: 27.3071\n",
      "Epoch 139/500\n",
      "13/13 [==============================] - 0s 7ms/step - loss: 32.2508 - val_loss: 25.5155\n",
      "Epoch 140/500\n",
      "13/13 [==============================] - 0s 6ms/step - loss: 32.0732 - val_loss: 25.4515\n",
      "Epoch 141/500\n",
      "13/13 [==============================] - 0s 3ms/step - loss: 30.1101 - val_loss: 30.2002\n",
      "Epoch 142/500\n",
      "13/13 [==============================] - 0s 3ms/step - loss: 33.1827 - val_loss: 28.6492\n",
      "Epoch 143/500\n",
      "13/13 [==============================] - 0s 3ms/step - loss: 33.7189 - val_loss: 29.6827\n",
      "Epoch 144/500\n",
      "13/13 [==============================] - 0s 3ms/step - loss: 31.2692 - val_loss: 27.3997\n",
      "Epoch 145/500\n",
      "13/13 [==============================] - 0s 6ms/step - loss: 30.2329 - val_loss: 23.7784\n",
      "Epoch 146/500\n",
      "13/13 [==============================] - 0s 4ms/step - loss: 30.8414 - val_loss: 24.9448\n",
      "Epoch 147/500\n",
      "13/13 [==============================] - 0s 3ms/step - loss: 28.7214 - val_loss: 26.4851\n",
      "Epoch 148/500\n",
      "13/13 [==============================] - 0s 3ms/step - loss: 30.0849 - val_loss: 27.2902\n",
      "Epoch 149/500\n",
      "13/13 [==============================] - 0s 3ms/step - loss: 34.3835 - val_loss: 32.3444\n",
      "Epoch 150/500\n",
      "13/13 [==============================] - 0s 3ms/step - loss: 35.8763 - val_loss: 30.7230\n",
      "Epoch 151/500\n",
      "13/13 [==============================] - 0s 3ms/step - loss: 35.9597 - val_loss: 30.9339\n",
      "Epoch 152/500\n",
      "13/13 [==============================] - 0s 3ms/step - loss: 38.1896 - val_loss: 25.1771\n",
      "Epoch 153/500\n",
      "13/13 [==============================] - 0s 3ms/step - loss: 40.2169 - val_loss: 28.6856\n",
      "Epoch 154/500\n",
      "13/13 [==============================] - 0s 3ms/step - loss: 34.1368 - val_loss: 31.6247\n",
      "Epoch 155/500\n",
      "13/13 [==============================] - 0s 3ms/step - loss: 38.5556 - val_loss: 24.9100\n",
      "Epoch 156/500\n",
      "13/13 [==============================] - 0s 3ms/step - loss: 28.0117 - val_loss: 24.5822\n",
      "Epoch 157/500\n",
      "13/13 [==============================] - 0s 6ms/step - loss: 28.6412 - val_loss: 23.0271\n",
      "Epoch 158/500\n",
      "13/13 [==============================] - 0s 3ms/step - loss: 28.2755 - val_loss: 25.7453\n",
      "Epoch 159/500\n",
      "13/13 [==============================] - 0s 3ms/step - loss: 30.2322 - val_loss: 26.5624\n",
      "Epoch 160/500\n",
      "13/13 [==============================] - 0s 3ms/step - loss: 29.6334 - val_loss: 25.1503\n"
     ]
    },
    {
     "name": "stdout",
     "output_type": "stream",
     "text": [
      "Epoch 161/500\n",
      "13/13 [==============================] - 0s 3ms/step - loss: 29.4447 - val_loss: 27.3048\n",
      "Epoch 162/500\n",
      "13/13 [==============================] - 0s 3ms/step - loss: 28.8497 - val_loss: 28.5006\n",
      "Epoch 163/500\n",
      "13/13 [==============================] - 0s 3ms/step - loss: 29.2384 - val_loss: 30.6466\n",
      "Epoch 164/500\n",
      "13/13 [==============================] - 0s 3ms/step - loss: 29.5971 - val_loss: 25.1291\n",
      "Epoch 165/500\n",
      "13/13 [==============================] - 0s 3ms/step - loss: 31.4819 - val_loss: 28.1313\n",
      "Epoch 166/500\n",
      "13/13 [==============================] - 0s 3ms/step - loss: 32.9675 - val_loss: 30.7443\n",
      "Epoch 167/500\n",
      "13/13 [==============================] - 0s 3ms/step - loss: 34.1050 - val_loss: 24.2266\n",
      "Epoch 168/500\n",
      "13/13 [==============================] - 0s 3ms/step - loss: 32.4946 - val_loss: 26.8136\n",
      "Epoch 169/500\n",
      "13/13 [==============================] - 0s 3ms/step - loss: 28.6724 - val_loss: 23.8230\n",
      "Epoch 170/500\n",
      "13/13 [==============================] - 0s 3ms/step - loss: 28.9159 - val_loss: 26.5956\n",
      "Epoch 171/500\n",
      "13/13 [==============================] - 0s 9ms/step - loss: 28.5684 - val_loss: 22.3204\n",
      "Epoch 172/500\n",
      "13/13 [==============================] - 0s 3ms/step - loss: 26.0438 - val_loss: 27.0345\n",
      "Epoch 173/500\n",
      "13/13 [==============================] - 0s 3ms/step - loss: 28.6021 - val_loss: 23.9536\n",
      "Epoch 174/500\n",
      "13/13 [==============================] - 0s 3ms/step - loss: 27.4950 - val_loss: 24.4356\n",
      "Epoch 175/500\n",
      "13/13 [==============================] - 0s 3ms/step - loss: 26.2439 - val_loss: 22.4124\n",
      "Epoch 176/500\n",
      "13/13 [==============================] - 0s 3ms/step - loss: 26.8420 - val_loss: 24.4041\n",
      "Epoch 177/500\n",
      "13/13 [==============================] - 0s 3ms/step - loss: 29.5379 - val_loss: 23.1675\n",
      "Epoch 178/500\n",
      "13/13 [==============================] - 0s 3ms/step - loss: 25.2763 - val_loss: 22.5741\n",
      "Epoch 179/500\n",
      "13/13 [==============================] - 0s 3ms/step - loss: 25.9775 - val_loss: 24.9739\n",
      "Epoch 180/500\n",
      "13/13 [==============================] - 0s 3ms/step - loss: 27.1746 - val_loss: 23.5327\n",
      "Epoch 181/500\n",
      "13/13 [==============================] - 0s 3ms/step - loss: 28.2851 - val_loss: 23.0062\n",
      "Epoch 182/500\n",
      "13/13 [==============================] - 0s 3ms/step - loss: 27.1650 - val_loss: 24.8654\n",
      "Epoch 183/500\n",
      "13/13 [==============================] - 0s 3ms/step - loss: 26.3528 - val_loss: 24.0693\n",
      "Epoch 184/500\n",
      "13/13 [==============================] - 0s 3ms/step - loss: 28.1055 - val_loss: 24.4603\n",
      "Epoch 185/500\n",
      "13/13 [==============================] - 0s 3ms/step - loss: 26.2748 - val_loss: 22.4660\n",
      "Epoch 186/500\n",
      "13/13 [==============================] - 0s 10ms/step - loss: 24.6057 - val_loss: 21.4756\n",
      "Epoch 187/500\n",
      "13/13 [==============================] - 0s 3ms/step - loss: 25.9087 - val_loss: 23.2443\n",
      "Epoch 188/500\n",
      "13/13 [==============================] - 0s 3ms/step - loss: 29.5334 - val_loss: 22.5187\n",
      "Epoch 189/500\n",
      "13/13 [==============================] - 0s 3ms/step - loss: 26.3611 - val_loss: 28.6506\n",
      "Epoch 190/500\n",
      "13/13 [==============================] - 0s 4ms/step - loss: 32.5066 - val_loss: 32.0348\n",
      "Epoch 191/500\n",
      "13/13 [==============================] - 0s 3ms/step - loss: 28.5520 - val_loss: 29.5207\n",
      "Epoch 192/500\n",
      "13/13 [==============================] - 0s 3ms/step - loss: 34.1116 - val_loss: 29.1672\n",
      "Epoch 193/500\n",
      "13/13 [==============================] - 0s 3ms/step - loss: 28.8103 - val_loss: 33.0680\n",
      "Epoch 194/500\n",
      "13/13 [==============================] - 0s 3ms/step - loss: 26.7063 - val_loss: 22.2725\n",
      "Epoch 195/500\n",
      "13/13 [==============================] - 0s 3ms/step - loss: 23.4511 - val_loss: 21.8444\n",
      "Epoch 196/500\n",
      "13/13 [==============================] - 0s 3ms/step - loss: 23.9320 - val_loss: 22.7192\n",
      "Epoch 197/500\n",
      "13/13 [==============================] - 0s 3ms/step - loss: 24.7671 - val_loss: 23.4278\n",
      "Epoch 198/500\n",
      "13/13 [==============================] - 0s 3ms/step - loss: 25.4727 - val_loss: 30.1059\n",
      "Epoch 199/500\n",
      "13/13 [==============================] - 0s 3ms/step - loss: 26.1612 - val_loss: 30.8920\n",
      "Epoch 200/500\n",
      "13/13 [==============================] - 0s 3ms/step - loss: 32.2241 - val_loss: 23.8894\n",
      "Epoch 201/500\n",
      "13/13 [==============================] - 0s 3ms/step - loss: 27.5585 - val_loss: 27.5379\n"
     ]
    },
    {
     "data": {
      "text/plain": [
       "<keras.callbacks.History at 0x7fcc202f61f0>"
      ]
     },
     "execution_count": 8,
     "metadata": {},
     "output_type": "execute_result"
    }
   ],
   "source": [
    "from tensorflow.keras.callbacks import EarlyStopping, ModelCheckpoint\n",
    "\n",
    "# patience: number of epochs that produced the monitored quantity with no improvement after which training will be stopped.\n",
    "# Simply speaking - If there is no improvement in mse on the test set after any 15 epochs -> stop the training procedure\n",
    "monitor_val_acc = EarlyStopping(monitor = 'val_loss', patience=15)\n",
    "\n",
    "# save the best model ( = lowest mse) to a file 'best_model.hdf5'\n",
    "modelCheckpoint = ModelCheckpoint('best_model.hdf5', save_best_only = True)\n",
    "\n",
    "# pass the above callbacks to callbacks parameter\n",
    "model.fit(X_train, y_train, validation_data=(X_test, y_test), callbacks=[monitor_val_acc, modelCheckpoint], epochs=500)"
   ]
  },
  {
   "cell_type": "markdown",
   "metadata": {
    "id": "OlTfO2SPIeJN"
   },
   "source": [
    "## Plot MSE on Test and Train Sets During Training"
   ]
  },
  {
   "cell_type": "code",
   "execution_count": 9,
   "metadata": {
    "colab": {
     "base_uri": "https://localhost:8080/",
     "height": 514
    },
    "id": "qwUccraL8cPZ",
    "outputId": "9f1f0bdd-a900-4358-ddf9-d1c20ca2bb0b"
   },
   "outputs": [
    {
     "data": {
      "text/plain": [
       "[<matplotlib.lines.Line2D at 0x7fcbe5ec67c0>]"
      ]
     },
     "execution_count": 9,
     "metadata": {},
     "output_type": "execute_result"
    },
    {
     "data": {
      "image/png": "[encoded data removed]",
      "text/plain": [
       "<Figure size 1080x576 with 1 Axes>"
      ]
     },
     "metadata": {
      "needs_background": "light"
     },
     "output_type": "display_data"
    }
   ],
   "source": [
    "import matplotlib.pyplot as plt\n",
    "plt.figure(figsize=(15,8))\n",
    "\n",
    "plt.xlabel('epoch')\n",
    "plt.ylabel('mse')\n",
    "\n",
    "plt.plot(model.history.history['loss'][0:])\n",
    "plt.plot(model.history.history['val_loss'][0:])"
   ]
  },
  {
   "cell_type": "code",
   "execution_count": 10,
   "metadata": {
    "id": "Xp-528OkTmmX"
   },
   "outputs": [],
   "source": [
    "# We did not train for the 500 epochs specified in the fit method of model.\n",
    "\n",
    "# That is because the early stopping callback worked - The training stopped after 15 epochs with no improvement in mse."
   ]
  },
  {
   "cell_type": "markdown",
   "metadata": {
    "id": "33b30ZngN0YL"
   },
   "source": [
    "### MAE on Test Set"
   ]
  },
  {
   "cell_type": "code",
   "execution_count": 11,
   "metadata": {
    "colab": {
     "base_uri": "https://localhost:8080/",
     "height": 52
    },
    "id": "-En4n3GW8cRl",
    "outputId": "daacba97-4564-42bb-e192-0b4f75e96607"
   },
   "outputs": [
    {
     "name": "stdout",
     "output_type": "stream",
     "text": [
      "We are off on average by 4243.15 US dollars, while the mean price of a house in the dataset is 22532.81.\n",
      "The mse on the test set is 27.54\n"
     ]
    }
   ],
   "source": [
    "from sklearn.metrics import mean_absolute_error, mean_squared_error\n",
    "\n",
    "y_pred = model.predict(X_test)\n",
    "mae = mean_absolute_error(y_test, y_pred)\n",
    "mse = mean_squared_error(y_test, y_pred)\n",
    "\n",
    "print(f\"We are off on average by {round(mae * 1000, 2)} US dollars, while the mean price of a house in the dataset is {round(y.mean() * 1000, 2)}.\")\n",
    "print(f\"The mse on the test set is {round(mse, 2)}\")"
   ]
  },
  {
   "cell_type": "markdown",
   "metadata": {
    "id": "-Vt8Y_GnOFQI"
   },
   "source": [
    "### MAE on Test Set - Based on Saved Best Model"
   ]
  },
  {
   "cell_type": "code",
   "execution_count": 12,
   "metadata": {
    "colab": {
     "base_uri": "https://localhost:8080/",
     "height": 52
    },
    "id": "XmccofInHTrx",
    "outputId": "34b41486-1bf9-4610-fdde-aef6de8076a8"
   },
   "outputs": [
    {
     "name": "stdout",
     "output_type": "stream",
     "text": [
      "We are off on average by 3354.51 US dollars, while the mean price of a house in the dataset is 22532.81.\n",
      "The mse on the test set is 21.48\n"
     ]
    }
   ],
   "source": [
    "# Recreate the best model saved through ModelCheckpoint callback\n",
    "best_model = tf.keras.models.load_model('best_model.hdf5')\n",
    "\n",
    "y_pred = best_model.predict(X_test)\n",
    "mae = mean_absolute_error(y_test, y_pred)\n",
    "mse = mean_squared_error(y_test, y_pred)\n",
    "\n",
    "print(f\"We are off on average by {round(mae * 1000, 2)} US dollars, while the mean price of a house in the dataset is {round(y.mean() * 1000, 2)}.\")\n",
    "print(f\"The mse on the test set is {round(mse, 2)}\")"
   ]
  },
  {
   "cell_type": "code",
   "execution_count": 13,
   "metadata": {
    "id": "9VBF-8E6Lhkt"
   },
   "outputs": [],
   "source": [
    "# We can see that it was worth saving the best model during training as it really is better than the one after the whole training process."
   ]
  }
 ],
 "metadata": {
  "colab": {
   "collapsed_sections": [],
   "name": "keras_callbacks_tf_boston_regression_basic.ipynb",
   "provenance": []
  },
  "kernelspec": {
   "display_name": "Python 3",
   "language": "python",
   "name": "python3"
  },
  "language_info": {
   "codemirror_mode": {
    "name": "ipython",
    "version": 3
   },
   "file_extension": ".py",
   "mimetype": "text/x-python",
   "name": "python",
   "nbconvert_exporter": "python",
   "pygments_lexer": "ipython3",
   "version": "3.9.7"
  }
 },
 "nbformat": 4,
 "nbformat_minor": 1
}
