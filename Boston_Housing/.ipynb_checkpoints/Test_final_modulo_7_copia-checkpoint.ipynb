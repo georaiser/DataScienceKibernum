{
 "cells": [
  {
   "cell_type": "markdown",
   "metadata": {},
   "source": [
    "# Test final del módulo 7: Fundamentos de Deep Learning\n",
    "\n",
    "Entrega del trabajo\n",
    "\n",
    "Enviar la solución en formato jupyter-notebook antes de las 13:00 pm del Martes 15 de Febrero al correo juan.mondaca@gmail.com Grabar el archivo ipynb con su nombre y apellido."
   ]
  },
  {
   "cell_type": "markdown",
   "metadata": {},
   "source": [
    "# Problema a resolver\n",
    "\n",
    "Crear una red neuronal densa con Keras que pueda pronósticar el valor promedio de una casa. El dataset a utilizar fue definido en http://lib.stat.cmu.edu/datasets/boston y tiene información de un censo de viviendas en una región de Boston"
   ]
  },
  {
   "cell_type": "markdown",
   "metadata": {},
   "source": [
    "Características del conjunto de datos\n",
    "\n",
    "El conjunto de datos es pequeño, con sólo 506 casos. Contiene 14 características que se describen a continuación:\n",
    "\n",
    "    CRIM: per capita crime rate by town\n",
    "    ZN: proportion of residential land zoned for lots over 25,000 sq.ft.\n",
    "    INDUS: proportion of non-retail business acres per town.\n",
    "    CHAS: Charles River dummy variable (1 if tract bounds river; 0 otherwise)\n",
    "    NOX: nitric oxides concentration (parts per 10 million)\n",
    "    RM: average number of rooms per dwelling\n",
    "    AGE: proportion of owner-occupied units built prior to 1940\n",
    "    DIS: weighted distances to five Boston employment centres\n",
    "    RAD: index of accessibility to radial highways\n",
    "    TAX: full-value property-tax rate per 10,000 dollars\n",
    "    PTRATIO: pupil-teacher ratio by town\n",
    "    B: 1000(Bk — 0.63)² where Bk is the proportion of blacks by town\n",
    "    LSTAT: % lower status of the population\n",
    "    MEDV: Median value of owner-occupied homes in 1000 dollars\n"
   ]
  },
  {
   "cell_type": "markdown",
   "metadata": {},
   "source": [
    "# Condiciones\n",
    "El objetivo de nuestro problema de regresión con una RNA densa es utilizar las 13 primeras características para predecir el valor de MEDV (que representa el precio de la vivienda).\n",
    "La red debe ser secuencial y tener tres capas Densas (2 de ocultas y una de salida). El número de input o neuronas de las capa debe ser definidos por ud (pero debe ser a lo menos 10 en las ocultas). Como función de activación se sugiere relu. Los demás hiperparámetros son seleccionados por ud."
   ]
  },
  {
   "cell_type": "code",
   "execution_count": 2,
   "metadata": {},
   "outputs": [
    {
     "data": {
      "text/plain": [
       "'2.8.0'"
      ]
     },
     "execution_count": 2,
     "metadata": {},
     "output_type": "execute_result"
    }
   ],
   "source": [
    "# imports\n",
    "import tensorflow as tf\n",
    "tf.__version__"
   ]
  },
  {
   "cell_type": "code",
   "execution_count": 3,
   "metadata": {},
   "outputs": [
    {
     "data": {
      "text/plain": [
       "'2.8.0'"
      ]
     },
     "execution_count": 3,
     "metadata": {},
     "output_type": "execute_result"
    }
   ],
   "source": [
    "from tensorflow import keras\n",
    "keras.__version__"
   ]
  },
  {
   "cell_type": "code",
   "execution_count": 4,
   "metadata": {},
   "outputs": [],
   "source": [
    "# obtener el dataset\n",
    "from tensorflow.keras import datasets"
   ]
  },
  {
   "cell_type": "code",
   "execution_count": 5,
   "metadata": {},
   "outputs": [],
   "source": [
    "from sklearn.model_selection import train_test_split"
   ]
  },
  {
   "cell_type": "code",
   "execution_count": 6,
   "metadata": {},
   "outputs": [],
   "source": [
    "from tensorflow.keras import models, layers"
   ]
  },
  {
   "cell_type": "code",
   "execution_count": 9,
   "metadata": {},
   "outputs": [],
   "source": [
    "# load data\n",
    "(X_train, y_train), (X_test, y_test) = boston_housing.load_data()"
   ]
  },
  {
   "cell_type": "code",
   "execution_count": null,
   "metadata": {},
   "outputs": [],
   "source": []
  },
  {
   "cell_type": "code",
   "execution_count": null,
   "metadata": {},
   "outputs": [],
   "source": []
  },
  {
   "cell_type": "code",
   "execution_count": null,
   "metadata": {},
   "outputs": [],
   "source": []
  },
  {
   "cell_type": "code",
   "execution_count": null,
   "metadata": {},
   "outputs": [],
   "source": []
  },
  {
   "cell_type": "code",
   "execution_count": null,
   "metadata": {},
   "outputs": [],
   "source": []
  },
  {
   "cell_type": "code",
   "execution_count": null,
   "metadata": {},
   "outputs": [],
   "source": []
  },
  {
   "cell_type": "code",
   "execution_count": null,
   "metadata": {},
   "outputs": [],
   "source": []
  },
  {
   "cell_type": "code",
   "execution_count": null,
   "metadata": {},
   "outputs": [],
   "source": []
  },
  {
   "cell_type": "code",
   "execution_count": null,
   "metadata": {},
   "outputs": [],
   "source": []
  },
  {
   "cell_type": "code",
   "execution_count": null,
   "metadata": {},
   "outputs": [],
   "source": []
  },
  {
   "cell_type": "code",
   "execution_count": null,
   "metadata": {},
   "outputs": [],
   "source": []
  }
 ],
 "metadata": {
  "kernelspec": {
   "display_name": "Python 3",
   "language": "python",
   "name": "python3"
  },
  "language_info": {
   "codemirror_mode": {
    "name": "ipython",
    "version": 3
   },
   "file_extension": ".py",
   "mimetype": "text/x-python",
   "name": "python",
   "nbconvert_exporter": "python",
   "pygments_lexer": "ipython3",
   "version": "3.9.7"
  }
 },
 "nbformat": 4,
 "nbformat_minor": 4
}
