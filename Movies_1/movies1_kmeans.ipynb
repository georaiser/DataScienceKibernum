{
 "cells": [
  {
   "cell_type": "code",
   "execution_count": 1,
   "metadata": {
    "scrolled": true
   },
   "outputs": [
    {
     "name": "stdout",
     "output_type": "stream",
     "text": [
      "Last updated: 2022-02-09T01:53:47.826811-03:00\n",
      "\n",
      "Python implementation: CPython\n",
      "Python version       : 3.9.7\n",
      "IPython version      : 7.20.0\n",
      "\n",
      "Compiler    : GCC 11.2.0\n",
      "OS          : Linux\n",
      "Release     : 5.13.0-28-generic\n",
      "Machine     : x86_64\n",
      "Processor   : x86_64\n",
      "CPU cores   : 8\n",
      "Architecture: 64bit\n",
      "\n"
     ]
    }
   ],
   "source": [
    "%load_ext watermark\n",
    "%watermark"
   ]
  },
  {
   "cell_type": "markdown",
   "metadata": {},
   "source": [
    "## Problema a resolver\n",
    "- Crear un estimador k-means con un número de clusters igual al número de géneros.\n",
    "- Entrenar el modelo y indicar el cluster asignado a cada película."
   ]
  },
  {
   "cell_type": "markdown",
   "metadata": {},
   "source": [
    "## Etapas\n",
    "- Parte 1 : variable 'genero' como objetivo (label)\n",
    "- Parte 2 : variable 'genero' como variable"
   ]
  },
  {
   "cell_type": "code",
   "execution_count": 2,
   "metadata": {},
   "outputs": [],
   "source": [
    "import pandas as pd"
   ]
  },
  {
   "cell_type": "code",
   "execution_count": 3,
   "metadata": {},
   "outputs": [],
   "source": [
    "import numpy as np\n",
    "import matplotlib.pyplot as plt\n",
    "import seaborn as sns\n",
    "import random\n",
    "pd.options.display.max_columns = None\n",
    "from sklearn.preprocessing import StandardScaler \n",
    "from sklearn.preprocessing import MinMaxScaler\n",
    "from sklearn.cluster import KMeans"
   ]
  },
  {
   "cell_type": "code",
   "execution_count": 4,
   "metadata": {},
   "outputs": [],
   "source": [
    "from scipy import spatial\n",
    "from sklearn.metrics import silhouette_score, homogeneity_completeness_v_measure"
   ]
  },
  {
   "cell_type": "code",
   "execution_count": 5,
   "metadata": {},
   "outputs": [],
   "source": [
    "# suprimir notacion cientifica\n",
    "np.set_printoptions(suppress=True)"
   ]
  },
  {
   "cell_type": "code",
   "execution_count": 6,
   "metadata": {},
   "outputs": [],
   "source": [
    "import warnings\n",
    "warnings.filterwarnings('ignore')"
   ]
  },
  {
   "cell_type": "markdown",
   "metadata": {},
   "source": [
    "# Parte 1 : variable 'genero' como objetivo (label)"
   ]
  },
  {
   "cell_type": "code",
   "execution_count": 7,
   "metadata": {},
   "outputs": [],
   "source": [
    "#peliculas = pd.read_csv(\"../data/movies_1.csv\")\n",
    "peliculas = pd.read_csv(\"movies_1.csv\")"
   ]
  },
  {
   "cell_type": "code",
   "execution_count": 8,
   "metadata": {},
   "outputs": [
    {
     "data": {
      "text/html": [
       "<div>\n",
       "<style scoped>\n",
       "    .dataframe tbody tr th:only-of-type {\n",
       "        vertical-align: middle;\n",
       "    }\n",
       "\n",
       "    .dataframe tbody tr th {\n",
       "        vertical-align: top;\n",
       "    }\n",
       "\n",
       "    .dataframe thead th {\n",
       "        text-align: right;\n",
       "    }\n",
       "</style>\n",
       "<table border=\"1\" class=\"dataframe\">\n",
       "  <thead>\n",
       "    <tr style=\"text-align: right;\">\n",
       "      <th></th>\n",
       "      <th>presupuesto</th>\n",
       "      <th>genero</th>\n",
       "      <th>lenguaje</th>\n",
       "      <th>popularidad</th>\n",
       "      <th>productores</th>\n",
       "      <th>pais</th>\n",
       "      <th>ventas</th>\n",
       "      <th>duracion</th>\n",
       "      <th>titulo</th>\n",
       "      <th>puntuacion</th>\n",
       "      <th>n_votos</th>\n",
       "    </tr>\n",
       "  </thead>\n",
       "  <tbody>\n",
       "    <tr>\n",
       "      <th>0</th>\n",
       "      <td>NaN</td>\n",
       "      <td>Comedy</td>\n",
       "      <td>en</td>\n",
       "      <td>8.387519</td>\n",
       "      <td>Sandollar Productions</td>\n",
       "      <td>United States of America</td>\n",
       "      <td>76578911.0</td>\n",
       "      <td>106.0</td>\n",
       "      <td>Father of the Bride Part II</td>\n",
       "      <td>5.7</td>\n",
       "      <td>173.0</td>\n",
       "    </tr>\n",
       "    <tr>\n",
       "      <th>1</th>\n",
       "      <td>NaN</td>\n",
       "      <td>Drama</td>\n",
       "      <td>en</td>\n",
       "      <td>0.894647</td>\n",
       "      <td>Miramax</td>\n",
       "      <td>South Africa</td>\n",
       "      <td>676525.0</td>\n",
       "      <td>106.0</td>\n",
       "      <td>Cry, the Beloved Country</td>\n",
       "      <td>6.7</td>\n",
       "      <td>13.0</td>\n",
       "    </tr>\n",
       "    <tr>\n",
       "      <th>2</th>\n",
       "      <td>3500000.0</td>\n",
       "      <td>Comedy</td>\n",
       "      <td>en</td>\n",
       "      <td>14.569650</td>\n",
       "      <td>New Line Cinema</td>\n",
       "      <td>United States of America</td>\n",
       "      <td>28215918.0</td>\n",
       "      <td>91.0</td>\n",
       "      <td>Friday</td>\n",
       "      <td>7.0</td>\n",
       "      <td>513.0</td>\n",
       "    </tr>\n",
       "  </tbody>\n",
       "</table>\n",
       "</div>"
      ],
      "text/plain": [
       "   presupuesto  genero lenguaje  popularidad            productores  \\\n",
       "0          NaN  Comedy       en     8.387519  Sandollar Productions   \n",
       "1          NaN   Drama       en     0.894647                Miramax   \n",
       "2    3500000.0  Comedy       en    14.569650        New Line Cinema   \n",
       "\n",
       "                       pais      ventas  duracion  \\\n",
       "0  United States of America  76578911.0     106.0   \n",
       "1              South Africa    676525.0     106.0   \n",
       "2  United States of America  28215918.0      91.0   \n",
       "\n",
       "                        titulo  puntuacion  n_votos  \n",
       "0  Father of the Bride Part II         5.7    173.0  \n",
       "1     Cry, the Beloved Country         6.7     13.0  \n",
       "2                       Friday         7.0    513.0  "
      ]
     },
     "execution_count": 8,
     "metadata": {},
     "output_type": "execute_result"
    }
   ],
   "source": [
    "peliculas.head(3)"
   ]
  },
  {
   "cell_type": "markdown",
   "metadata": {},
   "source": [
    "### Valores Nulos "
   ]
  },
  {
   "cell_type": "code",
   "execution_count": 9,
   "metadata": {},
   "outputs": [
    {
     "data": {
      "text/plain": [
       "presupuesto    588\n",
       "genero          51\n",
       "lenguaje         0\n",
       "popularidad      0\n",
       "productores    209\n",
       "pais            98\n",
       "ventas         141\n",
       "duracion         8\n",
       "titulo           0\n",
       "puntuacion       0\n",
       "n_votos          0\n",
       "dtype: int64"
      ]
     },
     "execution_count": 9,
     "metadata": {},
     "output_type": "execute_result"
    }
   ],
   "source": [
    "#peliculas.isnull().values\n",
    "#peliculas.isnull().values.sum()\n",
    "peliculas.isnull().sum()"
   ]
  },
  {
   "cell_type": "markdown",
   "metadata": {},
   "source": [
    " - El objetivo es agrupar la categoria 'genero' e identificar las peliculas en este cluster\n",
    "   - se eliminaran los datos con valores NaN de la categoria 'genero'\n",
    " - Los valores NaN de las categorias 'presupuesto' y 'ventas' seran reemplazados con la mediana, ya que debido a su gran cantidad, el valor '0' distorsiona demasiado la variable. se evaluara la pertinencia de descartar estas variables.\n",
    " - Los valores NaN de las categorias 'productores' y 'pais' seran reeplazados con 'desconocido' \n",
    " - Los valores NaN de la categoria 'duracion' seran reeplazados con el valor promedio. "
   ]
  },
  {
   "cell_type": "code",
   "execution_count": 10,
   "metadata": {},
   "outputs": [],
   "source": [
    "peliculas.dropna(subset=['genero'], inplace=True)\n",
    "peliculas[['presupuesto', 'ventas']]=peliculas[['presupuesto', 'ventas']].fillna(peliculas[['presupuesto', 'ventas']].median())\n",
    "peliculas[['productores', 'pais']]=peliculas[['productores', 'pais']].fillna('desconocido') # \n",
    "peliculas['duracion']=peliculas['duracion'].fillna(peliculas['duracion'].mean())"
   ]
  },
  {
   "cell_type": "code",
   "execution_count": 11,
   "metadata": {
    "scrolled": true
   },
   "outputs": [
    {
     "data": {
      "text/plain": [
       "presupuesto    0\n",
       "genero         0\n",
       "lenguaje       0\n",
       "popularidad    0\n",
       "productores    0\n",
       "pais           0\n",
       "ventas         0\n",
       "duracion       0\n",
       "titulo         0\n",
       "puntuacion     0\n",
       "n_votos        0\n",
       "dtype: int64"
      ]
     },
     "execution_count": 11,
     "metadata": {},
     "output_type": "execute_result"
    }
   ],
   "source": [
    "peliculas.isnull().sum()"
   ]
  },
  {
   "cell_type": "markdown",
   "metadata": {},
   "source": [
    "## Estadisticas y Graficos"
   ]
  },
  {
   "cell_type": "code",
   "execution_count": 12,
   "metadata": {},
   "outputs": [
    {
     "data": {
      "text/html": [
       "<div>\n",
       "<style scoped>\n",
       "    .dataframe tbody tr th:only-of-type {\n",
       "        vertical-align: middle;\n",
       "    }\n",
       "\n",
       "    .dataframe tbody tr th {\n",
       "        vertical-align: top;\n",
       "    }\n",
       "\n",
       "    .dataframe thead th {\n",
       "        text-align: right;\n",
       "    }\n",
       "</style>\n",
       "<table border=\"1\" class=\"dataframe\">\n",
       "  <thead>\n",
       "    <tr style=\"text-align: right;\">\n",
       "      <th></th>\n",
       "      <th>presupuesto</th>\n",
       "      <th>popularidad</th>\n",
       "      <th>ventas</th>\n",
       "      <th>duracion</th>\n",
       "      <th>puntuacion</th>\n",
       "      <th>n_votos</th>\n",
       "    </tr>\n",
       "  </thead>\n",
       "  <tbody>\n",
       "    <tr>\n",
       "      <th>count</th>\n",
       "      <td>1.293000e+03</td>\n",
       "      <td>1293.000000</td>\n",
       "      <td>1.293000e+03</td>\n",
       "      <td>1293.000000</td>\n",
       "      <td>1293.000000</td>\n",
       "      <td>1293.000000</td>\n",
       "    </tr>\n",
       "    <tr>\n",
       "      <th>mean</th>\n",
       "      <td>1.493232e+07</td>\n",
       "      <td>6.048383</td>\n",
       "      <td>3.417025e+07</td>\n",
       "      <td>102.276827</td>\n",
       "      <td>6.100541</td>\n",
       "      <td>269.062645</td>\n",
       "    </tr>\n",
       "    <tr>\n",
       "      <th>std</th>\n",
       "      <td>1.675554e+07</td>\n",
       "      <td>5.268795</td>\n",
       "      <td>6.184230e+07</td>\n",
       "      <td>22.965708</td>\n",
       "      <td>1.353670</td>\n",
       "      <td>498.837694</td>\n",
       "    </tr>\n",
       "    <tr>\n",
       "      <th>min</th>\n",
       "      <td>1.000000e+00</td>\n",
       "      <td>0.000464</td>\n",
       "      <td>1.000000e+00</td>\n",
       "      <td>0.000000</td>\n",
       "      <td>0.000000</td>\n",
       "      <td>0.000000</td>\n",
       "    </tr>\n",
       "    <tr>\n",
       "      <th>25%</th>\n",
       "      <td>8.000000e+06</td>\n",
       "      <td>1.744200</td>\n",
       "      <td>1.162422e+06</td>\n",
       "      <td>91.000000</td>\n",
       "      <td>5.600000</td>\n",
       "      <td>17.000000</td>\n",
       "    </tr>\n",
       "    <tr>\n",
       "      <th>50%</th>\n",
       "      <td>1.090000e+07</td>\n",
       "      <td>5.495138</td>\n",
       "      <td>1.000000e+07</td>\n",
       "      <td>100.000000</td>\n",
       "      <td>6.300000</td>\n",
       "      <td>70.000000</td>\n",
       "    </tr>\n",
       "    <tr>\n",
       "      <th>75%</th>\n",
       "      <td>1.400000e+07</td>\n",
       "      <td>8.963037</td>\n",
       "      <td>3.643398e+07</td>\n",
       "      <td>113.000000</td>\n",
       "      <td>6.900000</td>\n",
       "      <td>279.000000</td>\n",
       "    </tr>\n",
       "    <tr>\n",
       "      <th>max</th>\n",
       "      <td>1.780000e+08</td>\n",
       "      <td>64.299990</td>\n",
       "      <td>6.118994e+08</td>\n",
       "      <td>223.000000</td>\n",
       "      <td>9.500000</td>\n",
       "      <td>4831.000000</td>\n",
       "    </tr>\n",
       "  </tbody>\n",
       "</table>\n",
       "</div>"
      ],
      "text/plain": [
       "        presupuesto  popularidad        ventas     duracion   puntuacion  \\\n",
       "count  1.293000e+03  1293.000000  1.293000e+03  1293.000000  1293.000000   \n",
       "mean   1.493232e+07     6.048383  3.417025e+07   102.276827     6.100541   \n",
       "std    1.675554e+07     5.268795  6.184230e+07    22.965708     1.353670   \n",
       "min    1.000000e+00     0.000464  1.000000e+00     0.000000     0.000000   \n",
       "25%    8.000000e+06     1.744200  1.162422e+06    91.000000     5.600000   \n",
       "50%    1.090000e+07     5.495138  1.000000e+07   100.000000     6.300000   \n",
       "75%    1.400000e+07     8.963037  3.643398e+07   113.000000     6.900000   \n",
       "max    1.780000e+08    64.299990  6.118994e+08   223.000000     9.500000   \n",
       "\n",
       "           n_votos  \n",
       "count  1293.000000  \n",
       "mean    269.062645  \n",
       "std     498.837694  \n",
       "min       0.000000  \n",
       "25%      17.000000  \n",
       "50%      70.000000  \n",
       "75%     279.000000  \n",
       "max    4831.000000  "
      ]
     },
     "execution_count": 12,
     "metadata": {},
     "output_type": "execute_result"
    }
   ],
   "source": [
    "peliculas.describe()"
   ]
  },
  {
   "cell_type": "code",
   "execution_count": 13,
   "metadata": {},
   "outputs": [
    {
     "data": {
      "image/png": "[encoded data removed]",
      "text/plain": [
       "<Figure size 1440x216 with 2 Axes>"
      ]
     },
     "metadata": {
      "needs_background": "light"
     },
     "output_type": "display_data"
    }
   ],
   "source": [
    "plt.figure(figsize=(20, 3))\n",
    "plt.subplot(1, 2, 1)\n",
    "sns.histplot(data=peliculas, x='presupuesto', legend=True, kde=True)\n",
    "plt.title('{}'.format('presupuesto'), size=14)\n",
    "plt.subplot(1, 2, 2)\n",
    "sns.histplot(data=peliculas, x='ventas', legend=True, kde=True)\n",
    "plt.title('{}'.format('ventas'), size=14)\n",
    "plt.show()"
   ]
  },
  {
   "cell_type": "markdown",
   "metadata": {},
   "source": [
    "- La variable presupuesto contiene un 44% de valores NaN, los cuales ejercen demasiada influencia sobre la distribucion\n",
    "- La variable ventas presenta valores aparentemente anomalos. Se infiere que se debe a la unidad de medidad, miles y/o millones de dolares mezclados.\n",
    "- Estas variables seran descartadas"
   ]
  },
  {
   "cell_type": "code",
   "execution_count": 14,
   "metadata": {},
   "outputs": [],
   "source": [
    "peliculas.drop('presupuesto', axis=1, inplace=True)\n",
    "peliculas.drop('ventas', axis=1, inplace=True)"
   ]
  },
  {
   "cell_type": "markdown",
   "metadata": {},
   "source": [
    "### MinMaxScaler & StandardScaler"
   ]
  },
  {
   "cell_type": "code",
   "execution_count": 15,
   "metadata": {},
   "outputs": [],
   "source": [
    "peliculas_num_raw = peliculas.select_dtypes(['float64'])"
   ]
  },
  {
   "cell_type": "code",
   "execution_count": 16,
   "metadata": {},
   "outputs": [],
   "source": [
    "# Escalar datos MinMaxScaler\n",
    "scaler = MinMaxScaler()\n",
    "scaler = scaler.fit_transform(peliculas_num_raw)\n",
    "peliculas_num_MMS = pd.DataFrame(scaler, columns=peliculas_num_raw.columns, index=peliculas_num_raw.index)\n",
    "# Estandarizar datos\n",
    "scaler = StandardScaler()\n",
    "scaler = scaler.fit_transform(peliculas_num_raw)\n",
    "peliculas_num_StandScal = pd.DataFrame(scaler, columns=peliculas_num_raw.columns, index=peliculas_num_raw.index)"
   ]
  },
  {
   "cell_type": "code",
   "execution_count": 17,
   "metadata": {},
   "outputs": [
    {
     "data": {
      "image/png": "[encoded data removed]",
      "text/plain": [
       "<Figure size 1440x720 with 4 Axes>"
      ]
     },
     "metadata": {
      "needs_background": "light"
     },
     "output_type": "display_data"
    },
    {
     "data": {
      "image/png": "[encoded data removed]",
      "text/plain": [
       "<Figure size 1440x720 with 4 Axes>"
      ]
     },
     "metadata": {
      "needs_background": "light"
     },
     "output_type": "display_data"
    },
    {
     "data": {
      "image/png": "[encoded data removed]",
      "text/plain": [
       "<Figure size 1440x720 with 4 Axes>"
      ]
     },
     "metadata": {
      "needs_background": "light"
     },
     "output_type": "display_data"
    }
   ],
   "source": [
    "# Histogramas MinMaxScaler & StandardScaler\n",
    "i=1\n",
    "for dataScal in ['peliculas_num_raw', 'peliculas_num_MMS', 'peliculas_num_StandScal']:\n",
    "    cols = eval(dataScal).columns\n",
    "    plt.figure(figsize=(20, 10))\n",
    "    plt.suptitle('Histogramas {}'.format(dataScal), size=20)\n",
    "    for var in cols: \n",
    "        plt.subplot(6, 2, i)\n",
    "        sns.histplot(data=eval(dataScal), x=var, legend=True, kde=True)\n",
    "        plt.title('{}'.format(var), size=14)\n",
    "        i+=1\n",
    "        plt.tight_layout();\n",
    "    plt.show()\n",
    "    i=1"
   ]
  },
  {
   "cell_type": "code",
   "execution_count": 18,
   "metadata": {},
   "outputs": [
    {
     "data": {
      "image/png": "[encoded data removed]",
      "text/plain": [
       "<Figure size 1440x720 with 4 Axes>"
      ]
     },
     "metadata": {
      "needs_background": "light"
     },
     "output_type": "display_data"
    },
    {
     "data": {
      "image/png": "[encoded data removed]",
      "text/plain": [
       "<Figure size 1440x720 with 4 Axes>"
      ]
     },
     "metadata": {
      "needs_background": "light"
     },
     "output_type": "display_data"
    },
    {
     "data": {
      "image/png": "[encoded data removed]",
      "text/plain": [
       "<Figure size 1440x720 with 4 Axes>"
      ]
     },
     "metadata": {
      "needs_background": "light"
     },
     "output_type": "display_data"
    }
   ],
   "source": [
    "# Boxplot\n",
    "i=1\n",
    "for dataScal in ['peliculas_num_raw','peliculas_num_MMS', 'peliculas_num_StandScal']:\n",
    "    plt.figure(figsize=(20, 10))\n",
    "    plt.suptitle('{}'.format(dataScal), size=20)\n",
    "    cols = eval(dataScal).columns\n",
    "    for var in cols: \n",
    "        plt.subplot(6, 2, i);\n",
    "        sns.boxplot(data=eval(dataScal), x=var)\n",
    "        plt.title('{}'.format(var), size=14)\n",
    "        i+=1\n",
    "        plt.tight_layout();\n",
    "    plt.show();\n",
    "    i=1"
   ]
  },
  {
   "cell_type": "markdown",
   "metadata": {},
   "source": [
    "- Existe influencia de valores cercanos a cero principalmente en la variables 'n_votos', tanto en la distribucion como en el analisis outliers en el grafico de boxplot\n",
    "- En los siguientes analisis se usaran los datos escalados con MinMaxScaler"
   ]
  },
  {
   "cell_type": "code",
   "execution_count": 19,
   "metadata": {},
   "outputs": [
    {
     "data": {
      "text/plain": [
       "2.0      31\n",
       "1.0      30\n",
       "3.0      29\n",
       "0.0      25\n",
       "10.0     22\n",
       "         ..\n",
       "403.0     1\n",
       "211.0     1\n",
       "254.0     1\n",
       "165.0     1\n",
       "461.0     1\n",
       "Name: n_votos, Length: 503, dtype: int64"
      ]
     },
     "execution_count": 19,
     "metadata": {},
     "output_type": "execute_result"
    }
   ],
   "source": [
    "peliculas.n_votos.value_counts()"
   ]
  },
  {
   "cell_type": "markdown",
   "metadata": {},
   "source": [
    "## Variables Categoricas y Numericas"
   ]
  },
  {
   "cell_type": "code",
   "execution_count": 20,
   "metadata": {},
   "outputs": [
    {
     "name": "stdout",
     "output_type": "stream",
     "text": [
      "<class 'pandas.core.frame.DataFrame'>\n",
      "Int64Index: 1293 entries, 0 to 1342\n",
      "Data columns (total 9 columns):\n",
      " #   Column       Non-Null Count  Dtype  \n",
      "---  ------       --------------  -----  \n",
      " 0   genero       1293 non-null   object \n",
      " 1   lenguaje     1293 non-null   object \n",
      " 2   popularidad  1293 non-null   float64\n",
      " 3   productores  1293 non-null   object \n",
      " 4   pais         1293 non-null   object \n",
      " 5   duracion     1293 non-null   float64\n",
      " 6   titulo       1293 non-null   object \n",
      " 7   puntuacion   1293 non-null   float64\n",
      " 8   n_votos      1293 non-null   float64\n",
      "dtypes: float64(4), object(5)\n",
      "memory usage: 101.0+ KB\n"
     ]
    }
   ],
   "source": [
    "peliculas.info()"
   ]
  },
  {
   "cell_type": "code",
   "execution_count": 21,
   "metadata": {},
   "outputs": [
    {
     "data": {
      "text/plain": [
       "Drama              485\n",
       "Comedy             453\n",
       "Documentary        127\n",
       "Horror              75\n",
       "Action              29\n",
       "Thriller            26\n",
       "Western             25\n",
       "Science Fiction     20\n",
       "Adventure           14\n",
       "Animation           11\n",
       "Romance             10\n",
       "Music                6\n",
       "Family               3\n",
       "War                  3\n",
       "Fantasy              2\n",
       "Mystery              2\n",
       "Crime                2\n",
       "Name: genero, dtype: int64"
      ]
     },
     "execution_count": 21,
     "metadata": {},
     "output_type": "execute_result"
    }
   ],
   "source": [
    "# Variable objetivo 'genero'\n",
    "peliculas.genero.value_counts()"
   ]
  },
  {
   "cell_type": "code",
   "execution_count": 22,
   "metadata": {},
   "outputs": [
    {
     "name": "stdout",
     "output_type": "stream",
     "text": [
      "Numero generos de peliculas: 17\n"
     ]
    }
   ],
   "source": [
    "#print(peliculas.genero.unique())\n",
    "print('Numero generos de peliculas:', peliculas.genero.unique().shape[0])"
   ]
  },
  {
   "cell_type": "code",
   "execution_count": 23,
   "metadata": {},
   "outputs": [
    {
     "data": {
      "text/plain": [
       "0        3\n",
       "1        6\n",
       "2        3\n",
       "3        3\n",
       "4        3\n",
       "        ..\n",
       "1335    16\n",
       "1336     0\n",
       "1338     5\n",
       "1339     9\n",
       "1342     9\n",
       "Name: genero, Length: 1293, dtype: int8"
      ]
     },
     "execution_count": 23,
     "metadata": {},
     "output_type": "execute_result"
    }
   ],
   "source": [
    "# Label Encoding categoria 'genero'\n",
    "peliculas['genero']=peliculas['genero'].astype('category').cat.codes\n",
    "peliculas['genero']"
   ]
  },
  {
   "cell_type": "code",
   "execution_count": 24,
   "metadata": {},
   "outputs": [
    {
     "data": {
      "text/plain": [
       "{0, 1, 2, 3, 4, 5, 6, 7, 8, 9, 10, 11, 12, 13, 14, 15, 16}"
      ]
     },
     "execution_count": 24,
     "metadata": {},
     "output_type": "execute_result"
    }
   ],
   "source": [
    "set(peliculas['genero'])"
   ]
  },
  {
   "cell_type": "code",
   "execution_count": 25,
   "metadata": {},
   "outputs": [],
   "source": [
    "# Separar dataFrame por tipos de variables\n",
    "peliculas_cat_gen = peliculas[['genero']]\n",
    "#peliculas_num = #peliculas.drop('genero', axis=1).select_dtypes(['float64']) # definida anteriormente\n",
    "peliculas_cat = peliculas.select_dtypes(['object'])"
   ]
  },
  {
   "cell_type": "code",
   "execution_count": 26,
   "metadata": {},
   "outputs": [
    {
     "data": {
      "text/plain": [
       "en    1079\n",
       "fr      53\n",
       "es      26\n",
       "it      22\n",
       "ru      21\n",
       "de      16\n",
       "hi      14\n",
       "ja      10\n",
       "pt      10\n",
       "ko       6\n",
       "zh       6\n",
       "sv       4\n",
       "Name: lenguaje, dtype: int64"
      ]
     },
     "execution_count": 26,
     "metadata": {},
     "output_type": "execute_result"
    }
   ],
   "source": [
    "peliculas_cat.lenguaje.value_counts()[0:12]"
   ]
  },
  {
   "cell_type": "code",
   "execution_count": 27,
   "metadata": {},
   "outputs": [
    {
     "data": {
      "text/plain": [
       "['en', 'fr', 'es', 'it', 'ru', 'de', 'hi', 'ja', 'pt']"
      ]
     },
     "execution_count": 27,
     "metadata": {},
     "output_type": "execute_result"
    }
   ],
   "source": [
    "# obtener lenguajes representativos de mayor frecuencia\n",
    "flt = np.where((peliculas_cat['lenguaje'].value_counts()>=10).values == True)[0]\n",
    "f_leng = list((peliculas_cat['lenguaje'].value_counts()>=10)[flt].index)\n",
    "f_leng"
   ]
  },
  {
   "cell_type": "code",
   "execution_count": 28,
   "metadata": {},
   "outputs": [
    {
     "data": {
      "text/html": [
       "<div>\n",
       "<style scoped>\n",
       "    .dataframe tbody tr th:only-of-type {\n",
       "        vertical-align: middle;\n",
       "    }\n",
       "\n",
       "    .dataframe tbody tr th {\n",
       "        vertical-align: top;\n",
       "    }\n",
       "\n",
       "    .dataframe thead th {\n",
       "        text-align: right;\n",
       "    }\n",
       "</style>\n",
       "<table border=\"1\" class=\"dataframe\">\n",
       "  <thead>\n",
       "    <tr style=\"text-align: right;\">\n",
       "      <th></th>\n",
       "      <th>en</th>\n",
       "      <th>fr</th>\n",
       "      <th>es</th>\n",
       "      <th>it</th>\n",
       "      <th>ru</th>\n",
       "      <th>de</th>\n",
       "      <th>hi</th>\n",
       "      <th>ja</th>\n",
       "      <th>pt</th>\n",
       "    </tr>\n",
       "  </thead>\n",
       "  <tbody>\n",
       "    <tr>\n",
       "      <th>0</th>\n",
       "      <td>1</td>\n",
       "      <td>0</td>\n",
       "      <td>0</td>\n",
       "      <td>0</td>\n",
       "      <td>0</td>\n",
       "      <td>0</td>\n",
       "      <td>0</td>\n",
       "      <td>0</td>\n",
       "      <td>0</td>\n",
       "    </tr>\n",
       "    <tr>\n",
       "      <th>1</th>\n",
       "      <td>1</td>\n",
       "      <td>0</td>\n",
       "      <td>0</td>\n",
       "      <td>0</td>\n",
       "      <td>0</td>\n",
       "      <td>0</td>\n",
       "      <td>0</td>\n",
       "      <td>0</td>\n",
       "      <td>0</td>\n",
       "    </tr>\n",
       "  </tbody>\n",
       "</table>\n",
       "</div>"
      ],
      "text/plain": [
       "   en  fr  es  it  ru  de  hi  ja  pt\n",
       "0   1   0   0   0   0   0   0   0   0\n",
       "1   1   0   0   0   0   0   0   0   0"
      ]
     },
     "execution_count": 28,
     "metadata": {},
     "output_type": "execute_result"
    }
   ],
   "source": [
    "# get_dummies para frecuencia de lenguaje\n",
    "peliculas_cat_lenguaje=pd.get_dummies(peliculas_cat['lenguaje'])[f_leng]\n",
    "peliculas_cat_lenguaje.head(2)"
   ]
  },
  {
   "cell_type": "code",
   "execution_count": 29,
   "metadata": {
    "scrolled": true
   },
   "outputs": [
    {
     "data": {
      "text/html": [
       "<div>\n",
       "<style scoped>\n",
       "    .dataframe tbody tr th:only-of-type {\n",
       "        vertical-align: middle;\n",
       "    }\n",
       "\n",
       "    .dataframe tbody tr th {\n",
       "        vertical-align: top;\n",
       "    }\n",
       "\n",
       "    .dataframe thead th {\n",
       "        text-align: right;\n",
       "    }\n",
       "</style>\n",
       "<table border=\"1\" class=\"dataframe\">\n",
       "  <thead>\n",
       "    <tr style=\"text-align: right;\">\n",
       "      <th></th>\n",
       "      <th>popularidad</th>\n",
       "      <th>duracion</th>\n",
       "      <th>puntuacion</th>\n",
       "      <th>n_votos</th>\n",
       "      <th>en</th>\n",
       "      <th>fr</th>\n",
       "      <th>es</th>\n",
       "      <th>it</th>\n",
       "      <th>ru</th>\n",
       "      <th>de</th>\n",
       "      <th>hi</th>\n",
       "      <th>ja</th>\n",
       "      <th>pt</th>\n",
       "      <th>genero</th>\n",
       "    </tr>\n",
       "  </thead>\n",
       "  <tbody>\n",
       "    <tr>\n",
       "      <th>0</th>\n",
       "      <td>0.130437</td>\n",
       "      <td>0.475336</td>\n",
       "      <td>0.600000</td>\n",
       "      <td>0.035810</td>\n",
       "      <td>1</td>\n",
       "      <td>0</td>\n",
       "      <td>0</td>\n",
       "      <td>0</td>\n",
       "      <td>0</td>\n",
       "      <td>0</td>\n",
       "      <td>0</td>\n",
       "      <td>0</td>\n",
       "      <td>0</td>\n",
       "      <td>3</td>\n",
       "    </tr>\n",
       "    <tr>\n",
       "      <th>1</th>\n",
       "      <td>0.013907</td>\n",
       "      <td>0.475336</td>\n",
       "      <td>0.705263</td>\n",
       "      <td>0.002691</td>\n",
       "      <td>1</td>\n",
       "      <td>0</td>\n",
       "      <td>0</td>\n",
       "      <td>0</td>\n",
       "      <td>0</td>\n",
       "      <td>0</td>\n",
       "      <td>0</td>\n",
       "      <td>0</td>\n",
       "      <td>0</td>\n",
       "      <td>6</td>\n",
       "    </tr>\n",
       "    <tr>\n",
       "      <th>2</th>\n",
       "      <td>0.226583</td>\n",
       "      <td>0.408072</td>\n",
       "      <td>0.736842</td>\n",
       "      <td>0.106189</td>\n",
       "      <td>1</td>\n",
       "      <td>0</td>\n",
       "      <td>0</td>\n",
       "      <td>0</td>\n",
       "      <td>0</td>\n",
       "      <td>0</td>\n",
       "      <td>0</td>\n",
       "      <td>0</td>\n",
       "      <td>0</td>\n",
       "      <td>3</td>\n",
       "    </tr>\n",
       "  </tbody>\n",
       "</table>\n",
       "</div>"
      ],
      "text/plain": [
       "   popularidad  duracion  puntuacion   n_votos  en  fr  es  it  ru  de  hi  \\\n",
       "0     0.130437  0.475336    0.600000  0.035810   1   0   0   0   0   0   0   \n",
       "1     0.013907  0.475336    0.705263  0.002691   1   0   0   0   0   0   0   \n",
       "2     0.226583  0.408072    0.736842  0.106189   1   0   0   0   0   0   0   \n",
       "\n",
       "   ja  pt  genero  \n",
       "0   0   0       3  \n",
       "1   0   0       6  \n",
       "2   0   0       3  "
      ]
     },
     "execution_count": 29,
     "metadata": {},
     "output_type": "execute_result"
    }
   ],
   "source": [
    "peliculas_clean = pd.concat([peliculas_num_MMS, peliculas_cat_lenguaje, peliculas_cat_gen], axis=1)\n",
    "peliculas_clean.head(3)"
   ]
  },
  {
   "cell_type": "markdown",
   "metadata": {},
   "source": [
    "## Correlacion"
   ]
  },
  {
   "cell_type": "code",
   "execution_count": 30,
   "metadata": {},
   "outputs": [],
   "source": [
    "corr=peliculas_clean.corr(method='spearman')"
   ]
  },
  {
   "cell_type": "code",
   "execution_count": 31,
   "metadata": {},
   "outputs": [
    {
     "data": {
      "image/png": "[encoded data removed]",
      "text/plain": [
       "<Figure size 1440x360 with 2 Axes>"
      ]
     },
     "metadata": {
      "needs_background": "light"
     },
     "output_type": "display_data"
    }
   ],
   "source": [
    "plt.figure(figsize=(20,5))\n",
    "sns.set(font_scale=1)\n",
    "plt.title('Correlacion', size=14);\n",
    "#mask = np.tril(np.ones_like(corr, dtype=np.bool))\n",
    "sns.heatmap(corr, annot=True, cmap='BrBG', vmin=-0.4, vmax=1, mask=None);"
   ]
  },
  {
   "cell_type": "code",
   "execution_count": 32,
   "metadata": {},
   "outputs": [],
   "source": [
    "# ordenar correlaciones de la variable objetivo\n",
    "def tabla_corr(corr_data):\n",
    "    corr_data = corr_data.stack().reset_index()\n",
    "    corr_data.columns = ['var1','var2','r']\n",
    "    corr_data = corr_data.loc[corr_data['var1'] != corr_data['var2'], :]\n",
    "    corr_data['r_abs'] = np.abs(corr_data['r'])\n",
    "    corr_data = corr_data.sort_values('r_abs', ascending=False)  \n",
    "    return(corr_data)"
   ]
  },
  {
   "cell_type": "code",
   "execution_count": 33,
   "metadata": {},
   "outputs": [
    {
     "data": {
      "text/html": [
       "<div>\n",
       "<style scoped>\n",
       "    .dataframe tbody tr th:only-of-type {\n",
       "        vertical-align: middle;\n",
       "    }\n",
       "\n",
       "    .dataframe tbody tr th {\n",
       "        vertical-align: top;\n",
       "    }\n",
       "\n",
       "    .dataframe thead th {\n",
       "        text-align: right;\n",
       "    }\n",
       "</style>\n",
       "<table border=\"1\" class=\"dataframe\">\n",
       "  <thead>\n",
       "    <tr style=\"text-align: right;\">\n",
       "      <th></th>\n",
       "      <th>var1</th>\n",
       "      <th>var2</th>\n",
       "      <th>r</th>\n",
       "      <th>r_abs</th>\n",
       "    </tr>\n",
       "  </thead>\n",
       "  <tbody>\n",
       "    <tr>\n",
       "      <th>27</th>\n",
       "      <td>duracion</td>\n",
       "      <td>genero</td>\n",
       "      <td>0.201701</td>\n",
       "      <td>0.201701</td>\n",
       "    </tr>\n",
       "    <tr>\n",
       "      <th>41</th>\n",
       "      <td>puntuacion</td>\n",
       "      <td>genero</td>\n",
       "      <td>0.152528</td>\n",
       "      <td>0.152528</td>\n",
       "    </tr>\n",
       "    <tr>\n",
       "      <th>69</th>\n",
       "      <td>en</td>\n",
       "      <td>genero</td>\n",
       "      <td>0.070557</td>\n",
       "      <td>0.070557</td>\n",
       "    </tr>\n",
       "    <tr>\n",
       "      <th>125</th>\n",
       "      <td>ru</td>\n",
       "      <td>genero</td>\n",
       "      <td>-0.064066</td>\n",
       "      <td>0.064066</td>\n",
       "    </tr>\n",
       "    <tr>\n",
       "      <th>139</th>\n",
       "      <td>de</td>\n",
       "      <td>genero</td>\n",
       "      <td>-0.043796</td>\n",
       "      <td>0.043796</td>\n",
       "    </tr>\n",
       "  </tbody>\n",
       "</table>\n",
       "</div>"
      ],
      "text/plain": [
       "           var1    var2         r     r_abs\n",
       "27     duracion  genero  0.201701  0.201701\n",
       "41   puntuacion  genero  0.152528  0.152528\n",
       "69           en  genero  0.070557  0.070557\n",
       "125          ru  genero -0.064066  0.064066\n",
       "139          de  genero -0.043796  0.043796"
      ]
     },
     "execution_count": 33,
     "metadata": {},
     "output_type": "execute_result"
    }
   ],
   "source": [
    "# filtrar correlaciones de la variable objetivo\n",
    "tablaCorr=tabla_corr(corr)\n",
    "corrVal=tablaCorr[(tablaCorr['r_abs']>0) & (tablaCorr['var2']=='genero')].sort_values('r_abs', ascending=False)\n",
    "corrVal.head()"
   ]
  },
  {
   "cell_type": "markdown",
   "metadata": {},
   "source": [
    "- La correlacion de las variables con genero es baja\n",
    "- El lenguaje de la pelicula no tiene gran influencia"
   ]
  },
  {
   "cell_type": "markdown",
   "metadata": {},
   "source": [
    "# Estimador k-means"
   ]
  },
  {
   "cell_type": "markdown",
   "metadata": {},
   "source": [
    "- La variable objetivo 'genero', sera extraida del estimador k-means #peliculas_clean.drop('genero', axis=1)"
   ]
  },
  {
   "cell_type": "code",
   "execution_count": 34,
   "metadata": {},
   "outputs": [],
   "source": [
    "np.random.seed(42)"
   ]
  },
  {
   "cell_type": "code",
   "execution_count": 35,
   "metadata": {
    "scrolled": true
   },
   "outputs": [
    {
     "data": {
      "image/png": "[encoded data removed]",
      "text/plain": [
       "<Figure size 1440x216 with 1 Axes>"
      ]
     },
     "metadata": {},
     "output_type": "display_data"
    }
   ],
   "source": [
    "# Metodo del codo. Estimar numero de cluster\n",
    "medida_inercia=[]\n",
    "valores_k = np.arange(2, 25)\n",
    "for vk in valores_k:\n",
    "    estimador_kmeans = KMeans(n_clusters=vk, init = 'random')\n",
    "    estimador_kmeans.fit(peliculas_clean)\n",
    "    m_inercia = estimador_kmeans.inertia_\n",
    "    medida_inercia.append(m_inercia)\n",
    "\n",
    "plt.figure(figsize=(20,3))\n",
    "plt.plot(valores_k, medida_inercia)\n",
    "plt.title(\"Metodo del codo\")\n",
    "plt.xlabel('clusters')\n",
    "plt.ylabel('medida_inercia');"
   ]
  },
  {
   "cell_type": "markdown",
   "metadata": {},
   "source": [
    "- El metodo del codo nos indica que segun nuestros datos, se pueden separar de mejor forma entre 5 a 7 cluster, sin embargo, debido a que son 17 los generos de peliculas presentes, se usaran 17 clusters"
   ]
  },
  {
   "cell_type": "code",
   "execution_count": 36,
   "metadata": {},
   "outputs": [],
   "source": [
    "#k-means con 17 cluster segun numero de generos en base de datos\n",
    "k = peliculas_clean.genero.unique().shape[0] # numero de clusters\n",
    "estimador_kmeans = KMeans(n_clusters=k,init = 'random')"
   ]
  },
  {
   "cell_type": "code",
   "execution_count": 37,
   "metadata": {},
   "outputs": [
    {
     "data": {
      "text/plain": [
       "KMeans(init='random', n_clusters=17)"
      ]
     },
     "execution_count": 37,
     "metadata": {},
     "output_type": "execute_result"
    }
   ],
   "source": [
    "# Estimador k-means. drop(genero)\n",
    "estimador_kmeans.fit(peliculas_clean.drop('genero', axis=1))"
   ]
  },
  {
   "cell_type": "code",
   "execution_count": 38,
   "metadata": {},
   "outputs": [
    {
     "data": {
      "text/plain": [
       "array([13, 14,  6, ..., 14,  5, 13], dtype=int32)"
      ]
     },
     "execution_count": 38,
     "metadata": {},
     "output_type": "execute_result"
    }
   ],
   "source": [
    "label_clus=estimador_kmeans.labels_\n",
    "label_clus"
   ]
  },
  {
   "cell_type": "code",
   "execution_count": 39,
   "metadata": {},
   "outputs": [
    {
     "data": {
      "text/plain": [
       "array([3, 6, 3, ..., 5, 9, 9], dtype=int8)"
      ]
     },
     "execution_count": 39,
     "metadata": {},
     "output_type": "execute_result"
    }
   ],
   "source": [
    "peliculas_clean['genero'].values"
   ]
  },
  {
   "cell_type": "code",
   "execution_count": 40,
   "metadata": {},
   "outputs": [
    {
     "name": "stdout",
     "output_type": "stream",
     "text": [
      "{0, 1, 2, 3, 4, 5, 6, 7, 8, 9, 10, 11, 12, 13, 14, 15, 16}\n"
     ]
    }
   ],
   "source": [
    "print(set(label_clus))"
   ]
  },
  {
   "cell_type": "code",
   "execution_count": 41,
   "metadata": {},
   "outputs": [
    {
     "data": {
      "text/plain": [
       "(17, 13)"
      ]
     },
     "execution_count": 41,
     "metadata": {},
     "output_type": "execute_result"
    }
   ],
   "source": [
    "centroides = estimador_kmeans.cluster_centers_\n",
    "centroides.shape"
   ]
  },
  {
   "cell_type": "code",
   "execution_count": 42,
   "metadata": {},
   "outputs": [
    {
     "data": {
      "text/plain": [
       "array([13, 14,  6, ..., 14,  5, 13], dtype=int32)"
      ]
     },
     "execution_count": 42,
     "metadata": {},
     "output_type": "execute_result"
    }
   ],
   "source": [
    "clus_predict = estimador_kmeans.predict(peliculas_clean.drop('genero', axis=1))\n",
    "clus_predict"
   ]
  },
  {
   "cell_type": "code",
   "execution_count": 43,
   "metadata": {},
   "outputs": [
    {
     "data": {
      "text/plain": [
       "{True}"
      ]
     },
     "execution_count": 43,
     "metadata": {},
     "output_type": "execute_result"
    }
   ],
   "source": [
    "# chequeo label kmeans fit sean iguales a las predecidas por kmeans\n",
    "set(label_clus==clus_predict)"
   ]
  },
  {
   "cell_type": "markdown",
   "metadata": {},
   "source": [
    "### Encontrar el cluster que corresponde a cada genero"
   ]
  },
  {
   "cell_type": "code",
   "execution_count": 44,
   "metadata": {},
   "outputs": [],
   "source": [
    "label_clus_df=pd.DataFrame(label_clus, columns=['label_clus'], index=peliculas_clean.index)"
   ]
  },
  {
   "cell_type": "code",
   "execution_count": 45,
   "metadata": {},
   "outputs": [],
   "source": [
    "# Se agrega al dataframe el label de kmeans fit\n",
    "peliculas_clean_kmeans=pd.concat([peliculas_clean, label_clus_df], axis=1)"
   ]
  },
  {
   "cell_type": "code",
   "execution_count": 46,
   "metadata": {},
   "outputs": [
    {
     "data": {
      "text/html": [
       "<div>\n",
       "<style scoped>\n",
       "    .dataframe tbody tr th:only-of-type {\n",
       "        vertical-align: middle;\n",
       "    }\n",
       "\n",
       "    .dataframe tbody tr th {\n",
       "        vertical-align: top;\n",
       "    }\n",
       "\n",
       "    .dataframe thead th {\n",
       "        text-align: right;\n",
       "    }\n",
       "</style>\n",
       "<table border=\"1\" class=\"dataframe\">\n",
       "  <thead>\n",
       "    <tr style=\"text-align: right;\">\n",
       "      <th></th>\n",
       "      <th>popularidad</th>\n",
       "      <th>duracion</th>\n",
       "      <th>puntuacion</th>\n",
       "      <th>n_votos</th>\n",
       "      <th>en</th>\n",
       "      <th>fr</th>\n",
       "      <th>es</th>\n",
       "      <th>it</th>\n",
       "      <th>ru</th>\n",
       "      <th>de</th>\n",
       "      <th>hi</th>\n",
       "      <th>ja</th>\n",
       "      <th>pt</th>\n",
       "      <th>genero</th>\n",
       "      <th>label_clus</th>\n",
       "    </tr>\n",
       "  </thead>\n",
       "  <tbody>\n",
       "    <tr>\n",
       "      <th>0</th>\n",
       "      <td>0.130437</td>\n",
       "      <td>0.475336</td>\n",
       "      <td>0.600000</td>\n",
       "      <td>0.035810</td>\n",
       "      <td>1</td>\n",
       "      <td>0</td>\n",
       "      <td>0</td>\n",
       "      <td>0</td>\n",
       "      <td>0</td>\n",
       "      <td>0</td>\n",
       "      <td>0</td>\n",
       "      <td>0</td>\n",
       "      <td>0</td>\n",
       "      <td>3</td>\n",
       "      <td>13</td>\n",
       "    </tr>\n",
       "    <tr>\n",
       "      <th>1</th>\n",
       "      <td>0.013907</td>\n",
       "      <td>0.475336</td>\n",
       "      <td>0.705263</td>\n",
       "      <td>0.002691</td>\n",
       "      <td>1</td>\n",
       "      <td>0</td>\n",
       "      <td>0</td>\n",
       "      <td>0</td>\n",
       "      <td>0</td>\n",
       "      <td>0</td>\n",
       "      <td>0</td>\n",
       "      <td>0</td>\n",
       "      <td>0</td>\n",
       "      <td>6</td>\n",
       "      <td>14</td>\n",
       "    </tr>\n",
       "  </tbody>\n",
       "</table>\n",
       "</div>"
      ],
      "text/plain": [
       "   popularidad  duracion  puntuacion   n_votos  en  fr  es  it  ru  de  hi  \\\n",
       "0     0.130437  0.475336    0.600000  0.035810   1   0   0   0   0   0   0   \n",
       "1     0.013907  0.475336    0.705263  0.002691   1   0   0   0   0   0   0   \n",
       "\n",
       "   ja  pt  genero  label_clus  \n",
       "0   0   0       3          13  \n",
       "1   0   0       6          14  "
      ]
     },
     "execution_count": 46,
     "metadata": {},
     "output_type": "execute_result"
    }
   ],
   "source": [
    "peliculas_clean_kmeans.head(2)"
   ]
  },
  {
   "cell_type": "code",
   "execution_count": 47,
   "metadata": {},
   "outputs": [
    {
     "data": {
      "image/png": "[encoded data removed]",
      "text/plain": [
       "<Figure size 1440x216 with 1 Axes>"
      ]
     },
     "metadata": {},
     "output_type": "display_data"
    }
   ],
   "source": [
    "# grafico genero vs cluster\n",
    "plt.figure(figsize=(20,3))\n",
    "plt.title('genero vs cluster', size=14);\n",
    "plt.scatter(peliculas_clean['genero'], label_clus);"
   ]
  },
  {
   "cell_type": "markdown",
   "metadata": {},
   "source": [
    "- Se calcula el valor medio de todas las variables para una categoria de genero, luego se compara la similitud con cada uno de los centroides y se obtiene el valor maximo (maxima similitud)"
   ]
  },
  {
   "cell_type": "code",
   "execution_count": 48,
   "metadata": {},
   "outputs": [],
   "source": [
    "def genero_cat_cos(df, categ):\n",
    "    valor_medio=[]\n",
    "    simil=[]\n",
    "    for val in df.drop('genero', axis=1):\n",
    "        var_genero=df[df['genero']==categ].drop('genero', axis=1)\n",
    "        valor_medio.append(var_genero[val].mean())       \n",
    "    for centro in centroides:\n",
    "        #dist_cos y spat_cos es el mismo principio\n",
    "        #dist_cos=np.dot(np.array(valor_medio), centro)/(np.linalg.norm(np.array(valor_medio))*np.linalg.norm(centro))\n",
    "        spat_cos=1 - spatial.distance.cosine(np.array(valor_medio), centro)\n",
    "        simil.append(spat_cos) \n",
    "    return simil"
   ]
  },
  {
   "cell_type": "code",
   "execution_count": 49,
   "metadata": {},
   "outputs": [],
   "source": [
    "simil_cos=[]\n",
    "for c in range(0,k):\n",
    "    simil_cos.append(genero_cat_cos(peliculas_clean, c))"
   ]
  },
  {
   "cell_type": "code",
   "execution_count": 50,
   "metadata": {},
   "outputs": [],
   "source": [
    "# con los datos de similitud, obtener el indice ('Kidx_') ordenado de mayor a menor. \n",
    "# Index corresponde a la clase genero\n",
    "var_=pd.DataFrame(simil_cos)\n",
    "ind_sort=[]\n",
    "for i in range(0, len(simil_cos)):\n",
    "    ind_sort.append(var_.iloc[i].argsort().values[::-1])\n",
    "idx_=pd.DataFrame(ind_sort).add_prefix('Kidx_')"
   ]
  },
  {
   "cell_type": "code",
   "execution_count": 51,
   "metadata": {
    "scrolled": false
   },
   "outputs": [
    {
     "data": {
      "text/html": [
       "<div>\n",
       "<style scoped>\n",
       "    .dataframe tbody tr th:only-of-type {\n",
       "        vertical-align: middle;\n",
       "    }\n",
       "\n",
       "    .dataframe tbody tr th {\n",
       "        vertical-align: top;\n",
       "    }\n",
       "\n",
       "    .dataframe thead th {\n",
       "        text-align: right;\n",
       "    }\n",
       "</style>\n",
       "<table border=\"1\" class=\"dataframe\">\n",
       "  <thead>\n",
       "    <tr style=\"text-align: right;\">\n",
       "      <th></th>\n",
       "      <th>Kidx_0</th>\n",
       "      <th>Kidx_1</th>\n",
       "      <th>Kidx_2</th>\n",
       "      <th>Kidx_3</th>\n",
       "      <th>Kidx_4</th>\n",
       "      <th>Kidx_5</th>\n",
       "      <th>Kidx_6</th>\n",
       "      <th>Kidx_7</th>\n",
       "      <th>Kidx_8</th>\n",
       "      <th>Kidx_9</th>\n",
       "      <th>Kidx_10</th>\n",
       "      <th>Kidx_11</th>\n",
       "      <th>Kidx_12</th>\n",
       "      <th>Kidx_13</th>\n",
       "      <th>Kidx_14</th>\n",
       "      <th>Kidx_15</th>\n",
       "      <th>Kidx_16</th>\n",
       "      <th>0</th>\n",
       "      <th>1</th>\n",
       "      <th>2</th>\n",
       "      <th>3</th>\n",
       "      <th>4</th>\n",
       "      <th>5</th>\n",
       "      <th>6</th>\n",
       "      <th>7</th>\n",
       "      <th>8</th>\n",
       "      <th>9</th>\n",
       "      <th>10</th>\n",
       "      <th>11</th>\n",
       "      <th>12</th>\n",
       "      <th>13</th>\n",
       "      <th>14</th>\n",
       "      <th>15</th>\n",
       "      <th>16</th>\n",
       "    </tr>\n",
       "  </thead>\n",
       "  <tbody>\n",
       "    <tr>\n",
       "      <th>0</th>\n",
       "      <td>0</td>\n",
       "      <td>6</td>\n",
       "      <td>2</td>\n",
       "      <td>14</td>\n",
       "      <td>1</td>\n",
       "      <td>13</td>\n",
       "      <td>11</td>\n",
       "      <td>5</td>\n",
       "      <td>15</td>\n",
       "      <td>8</td>\n",
       "      <td>4</td>\n",
       "      <td>7</td>\n",
       "      <td>10</td>\n",
       "      <td>12</td>\n",
       "      <td>16</td>\n",
       "      <td>3</td>\n",
       "      <td>9</td>\n",
       "      <td>0.951049</td>\n",
       "      <td>0.921146</td>\n",
       "      <td>0.926030</td>\n",
       "      <td>0.502104</td>\n",
       "      <td>0.813220</td>\n",
       "      <td>0.867081</td>\n",
       "      <td>0.935517</td>\n",
       "      <td>0.671942</td>\n",
       "      <td>0.834831</td>\n",
       "      <td>0.491160</td>\n",
       "      <td>0.568729</td>\n",
       "      <td>0.904134</td>\n",
       "      <td>0.546852</td>\n",
       "      <td>0.909215</td>\n",
       "      <td>0.924422</td>\n",
       "      <td>0.860308</td>\n",
       "      <td>0.519700</td>\n",
       "    </tr>\n",
       "    <tr>\n",
       "      <th>1</th>\n",
       "      <td>0</td>\n",
       "      <td>2</td>\n",
       "      <td>13</td>\n",
       "      <td>11</td>\n",
       "      <td>6</td>\n",
       "      <td>14</td>\n",
       "      <td>5</td>\n",
       "      <td>1</td>\n",
       "      <td>4</td>\n",
       "      <td>15</td>\n",
       "      <td>7</td>\n",
       "      <td>8</td>\n",
       "      <td>9</td>\n",
       "      <td>10</td>\n",
       "      <td>16</td>\n",
       "      <td>3</td>\n",
       "      <td>12</td>\n",
       "      <td>0.996961</td>\n",
       "      <td>0.974376</td>\n",
       "      <td>0.996465</td>\n",
       "      <td>0.381337</td>\n",
       "      <td>0.925539</td>\n",
       "      <td>0.983254</td>\n",
       "      <td>0.992864</td>\n",
       "      <td>0.864391</td>\n",
       "      <td>0.607946</td>\n",
       "      <td>0.420874</td>\n",
       "      <td>0.411136</td>\n",
       "      <td>0.993155</td>\n",
       "      <td>0.371172</td>\n",
       "      <td>0.993478</td>\n",
       "      <td>0.988383</td>\n",
       "      <td>0.889477</td>\n",
       "      <td>0.394589</td>\n",
       "    </tr>\n",
       "    <tr>\n",
       "      <th>2</th>\n",
       "      <td>6</td>\n",
       "      <td>14</td>\n",
       "      <td>0</td>\n",
       "      <td>2</td>\n",
       "      <td>1</td>\n",
       "      <td>13</td>\n",
       "      <td>11</td>\n",
       "      <td>4</td>\n",
       "      <td>5</td>\n",
       "      <td>15</td>\n",
       "      <td>8</td>\n",
       "      <td>7</td>\n",
       "      <td>10</td>\n",
       "      <td>16</td>\n",
       "      <td>3</td>\n",
       "      <td>9</td>\n",
       "      <td>12</td>\n",
       "      <td>0.938165</td>\n",
       "      <td>0.924333</td>\n",
       "      <td>0.933395</td>\n",
       "      <td>0.441000</td>\n",
       "      <td>0.893031</td>\n",
       "      <td>0.881409</td>\n",
       "      <td>0.943376</td>\n",
       "      <td>0.684879</td>\n",
       "      <td>0.716993</td>\n",
       "      <td>0.423642</td>\n",
       "      <td>0.534767</td>\n",
       "      <td>0.916648</td>\n",
       "      <td>0.420090</td>\n",
       "      <td>0.919288</td>\n",
       "      <td>0.941303</td>\n",
       "      <td>0.860818</td>\n",
       "      <td>0.464088</td>\n",
       "    </tr>\n",
       "    <tr>\n",
       "      <th>3</th>\n",
       "      <td>6</td>\n",
       "      <td>0</td>\n",
       "      <td>2</td>\n",
       "      <td>13</td>\n",
       "      <td>14</td>\n",
       "      <td>11</td>\n",
       "      <td>1</td>\n",
       "      <td>5</td>\n",
       "      <td>4</td>\n",
       "      <td>15</td>\n",
       "      <td>7</td>\n",
       "      <td>8</td>\n",
       "      <td>10</td>\n",
       "      <td>16</td>\n",
       "      <td>3</td>\n",
       "      <td>12</td>\n",
       "      <td>9</td>\n",
       "      <td>0.996515</td>\n",
       "      <td>0.980965</td>\n",
       "      <td>0.996156</td>\n",
       "      <td>0.416312</td>\n",
       "      <td>0.935526</td>\n",
       "      <td>0.974264</td>\n",
       "      <td>0.996835</td>\n",
       "      <td>0.836332</td>\n",
       "      <td>0.630647</td>\n",
       "      <td>0.397759</td>\n",
       "      <td>0.456517</td>\n",
       "      <td>0.989753</td>\n",
       "      <td>0.398428</td>\n",
       "      <td>0.992030</td>\n",
       "      <td>0.991798</td>\n",
       "      <td>0.903734</td>\n",
       "      <td>0.419240</td>\n",
       "    </tr>\n",
       "    <tr>\n",
       "      <th>4</th>\n",
       "      <td>11</td>\n",
       "      <td>14</td>\n",
       "      <td>2</td>\n",
       "      <td>5</td>\n",
       "      <td>13</td>\n",
       "      <td>6</td>\n",
       "      <td>0</td>\n",
       "      <td>4</td>\n",
       "      <td>1</td>\n",
       "      <td>7</td>\n",
       "      <td>15</td>\n",
       "      <td>8</td>\n",
       "      <td>10</td>\n",
       "      <td>16</td>\n",
       "      <td>3</td>\n",
       "      <td>9</td>\n",
       "      <td>12</td>\n",
       "      <td>0.981364</td>\n",
       "      <td>0.956503</td>\n",
       "      <td>0.993655</td>\n",
       "      <td>0.339891</td>\n",
       "      <td>0.970067</td>\n",
       "      <td>0.988592</td>\n",
       "      <td>0.984260</td>\n",
       "      <td>0.872588</td>\n",
       "      <td>0.533335</td>\n",
       "      <td>0.329164</td>\n",
       "      <td>0.362365</td>\n",
       "      <td>0.997375</td>\n",
       "      <td>0.326625</td>\n",
       "      <td>0.987268</td>\n",
       "      <td>0.994879</td>\n",
       "      <td>0.852479</td>\n",
       "      <td>0.357296</td>\n",
       "    </tr>\n",
       "  </tbody>\n",
       "</table>\n",
       "</div>"
      ],
      "text/plain": [
       "   Kidx_0  Kidx_1  Kidx_2  Kidx_3  Kidx_4  Kidx_5  Kidx_6  Kidx_7  Kidx_8  \\\n",
       "0       0       6       2      14       1      13      11       5      15   \n",
       "1       0       2      13      11       6      14       5       1       4   \n",
       "2       6      14       0       2       1      13      11       4       5   \n",
       "3       6       0       2      13      14      11       1       5       4   \n",
       "4      11      14       2       5      13       6       0       4       1   \n",
       "\n",
       "   Kidx_9  Kidx_10  Kidx_11  Kidx_12  Kidx_13  Kidx_14  Kidx_15  Kidx_16  \\\n",
       "0       8        4        7       10       12       16        3        9   \n",
       "1      15        7        8        9       10       16        3       12   \n",
       "2      15        8        7       10       16        3        9       12   \n",
       "3      15        7        8       10       16        3       12        9   \n",
       "4       7       15        8       10       16        3        9       12   \n",
       "\n",
       "          0         1         2         3         4         5         6  \\\n",
       "0  0.951049  0.921146  0.926030  0.502104  0.813220  0.867081  0.935517   \n",
       "1  0.996961  0.974376  0.996465  0.381337  0.925539  0.983254  0.992864   \n",
       "2  0.938165  0.924333  0.933395  0.441000  0.893031  0.881409  0.943376   \n",
       "3  0.996515  0.980965  0.996156  0.416312  0.935526  0.974264  0.996835   \n",
       "4  0.981364  0.956503  0.993655  0.339891  0.970067  0.988592  0.984260   \n",
       "\n",
       "          7         8         9        10        11        12        13  \\\n",
       "0  0.671942  0.834831  0.491160  0.568729  0.904134  0.546852  0.909215   \n",
       "1  0.864391  0.607946  0.420874  0.411136  0.993155  0.371172  0.993478   \n",
       "2  0.684879  0.716993  0.423642  0.534767  0.916648  0.420090  0.919288   \n",
       "3  0.836332  0.630647  0.397759  0.456517  0.989753  0.398428  0.992030   \n",
       "4  0.872588  0.533335  0.329164  0.362365  0.997375  0.326625  0.987268   \n",
       "\n",
       "         14        15        16  \n",
       "0  0.924422  0.860308  0.519700  \n",
       "1  0.988383  0.889477  0.394589  \n",
       "2  0.941303  0.860818  0.464088  \n",
       "3  0.991798  0.903734  0.419240  \n",
       "4  0.994879  0.852479  0.357296  "
      ]
     },
     "execution_count": 51,
     "metadata": {},
     "output_type": "execute_result"
    }
   ],
   "source": [
    "eval_kmeas=pd.concat([idx_,var_], axis=1)\n",
    "eval_kmeas.head()"
   ]
  },
  {
   "cell_type": "code",
   "execution_count": 52,
   "metadata": {},
   "outputs": [],
   "source": [
    "eval_kmeas.sort_values(by=np.arange(0,16).tolist(), ascending=False, inplace=True)"
   ]
  },
  {
   "cell_type": "code",
   "execution_count": 53,
   "metadata": {},
   "outputs": [
    {
     "data": {
      "text/html": [
       "<div>\n",
       "<style scoped>\n",
       "    .dataframe tbody tr th:only-of-type {\n",
       "        vertical-align: middle;\n",
       "    }\n",
       "\n",
       "    .dataframe tbody tr th {\n",
       "        vertical-align: top;\n",
       "    }\n",
       "\n",
       "    .dataframe thead th {\n",
       "        text-align: right;\n",
       "    }\n",
       "</style>\n",
       "<table border=\"1\" class=\"dataframe\">\n",
       "  <thead>\n",
       "    <tr style=\"text-align: right;\">\n",
       "      <th></th>\n",
       "      <th>Kidx_0</th>\n",
       "      <th>Kidx_1</th>\n",
       "      <th>Kidx_2</th>\n",
       "      <th>Kidx_3</th>\n",
       "      <th>Kidx_4</th>\n",
       "      <th>Kidx_5</th>\n",
       "      <th>Kidx_6</th>\n",
       "      <th>Kidx_7</th>\n",
       "      <th>Kidx_8</th>\n",
       "      <th>Kidx_9</th>\n",
       "      <th>Kidx_10</th>\n",
       "      <th>Kidx_11</th>\n",
       "      <th>Kidx_12</th>\n",
       "      <th>Kidx_13</th>\n",
       "      <th>Kidx_14</th>\n",
       "      <th>Kidx_15</th>\n",
       "      <th>Kidx_16</th>\n",
       "      <th>0</th>\n",
       "      <th>1</th>\n",
       "      <th>2</th>\n",
       "      <th>3</th>\n",
       "      <th>4</th>\n",
       "      <th>5</th>\n",
       "      <th>6</th>\n",
       "      <th>7</th>\n",
       "      <th>8</th>\n",
       "      <th>9</th>\n",
       "      <th>10</th>\n",
       "      <th>11</th>\n",
       "      <th>12</th>\n",
       "      <th>13</th>\n",
       "      <th>14</th>\n",
       "      <th>15</th>\n",
       "      <th>16</th>\n",
       "    </tr>\n",
       "  </thead>\n",
       "  <tbody>\n",
       "    <tr>\n",
       "      <th>11</th>\n",
       "      <td>2</td>\n",
       "      <td>0</td>\n",
       "      <td>11</td>\n",
       "      <td>6</td>\n",
       "      <td>13</td>\n",
       "      <td>14</td>\n",
       "      <td>5</td>\n",
       "      <td>1</td>\n",
       "      <td>4</td>\n",
       "      <td>15</td>\n",
       "      <td>7</td>\n",
       "      <td>8</td>\n",
       "      <td>10</td>\n",
       "      <td>16</td>\n",
       "      <td>3</td>\n",
       "      <td>9</td>\n",
       "      <td>12</td>\n",
       "      <td>0.998106</td>\n",
       "      <td>0.970978</td>\n",
       "      <td>0.999221</td>\n",
       "      <td>0.381382</td>\n",
       "      <td>0.935265</td>\n",
       "      <td>0.985253</td>\n",
       "      <td>0.994370</td>\n",
       "      <td>0.862313</td>\n",
       "      <td>0.606410</td>\n",
       "      <td>0.372588</td>\n",
       "      <td>0.410444</td>\n",
       "      <td>0.996344</td>\n",
       "      <td>0.370499</td>\n",
       "      <td>0.994139</td>\n",
       "      <td>0.993175</td>\n",
       "      <td>0.880247</td>\n",
       "      <td>0.395873</td>\n",
       "    </tr>\n",
       "    <tr>\n",
       "      <th>16</th>\n",
       "      <td>2</td>\n",
       "      <td>0</td>\n",
       "      <td>6</td>\n",
       "      <td>13</td>\n",
       "      <td>11</td>\n",
       "      <td>14</td>\n",
       "      <td>5</td>\n",
       "      <td>1</td>\n",
       "      <td>4</td>\n",
       "      <td>15</td>\n",
       "      <td>7</td>\n",
       "      <td>8</td>\n",
       "      <td>10</td>\n",
       "      <td>3</td>\n",
       "      <td>16</td>\n",
       "      <td>9</td>\n",
       "      <td>12</td>\n",
       "      <td>0.997896</td>\n",
       "      <td>0.977461</td>\n",
       "      <td>0.998338</td>\n",
       "      <td>0.408145</td>\n",
       "      <td>0.931898</td>\n",
       "      <td>0.982751</td>\n",
       "      <td>0.996413</td>\n",
       "      <td>0.858973</td>\n",
       "      <td>0.607732</td>\n",
       "      <td>0.373511</td>\n",
       "      <td>0.411977</td>\n",
       "      <td>0.993770</td>\n",
       "      <td>0.371378</td>\n",
       "      <td>0.995758</td>\n",
       "      <td>0.990657</td>\n",
       "      <td>0.895829</td>\n",
       "      <td>0.396606</td>\n",
       "    </tr>\n",
       "  </tbody>\n",
       "</table>\n",
       "</div>"
      ],
      "text/plain": [
       "    Kidx_0  Kidx_1  Kidx_2  Kidx_3  Kidx_4  Kidx_5  Kidx_6  Kidx_7  Kidx_8  \\\n",
       "11       2       0      11       6      13      14       5       1       4   \n",
       "16       2       0       6      13      11      14       5       1       4   \n",
       "\n",
       "    Kidx_9  Kidx_10  Kidx_11  Kidx_12  Kidx_13  Kidx_14  Kidx_15  Kidx_16  \\\n",
       "11      15        7        8       10       16        3        9       12   \n",
       "16      15        7        8       10        3       16        9       12   \n",
       "\n",
       "           0         1         2         3         4         5         6  \\\n",
       "11  0.998106  0.970978  0.999221  0.381382  0.935265  0.985253  0.994370   \n",
       "16  0.997896  0.977461  0.998338  0.408145  0.931898  0.982751  0.996413   \n",
       "\n",
       "           7         8         9        10        11        12        13  \\\n",
       "11  0.862313  0.606410  0.372588  0.410444  0.996344  0.370499  0.994139   \n",
       "16  0.858973  0.607732  0.373511  0.411977  0.993770  0.371378  0.995758   \n",
       "\n",
       "          14        15        16  \n",
       "11  0.993175  0.880247  0.395873  \n",
       "16  0.990657  0.895829  0.396606  "
      ]
     },
     "execution_count": 53,
     "metadata": {},
     "output_type": "execute_result"
    }
   ],
   "source": [
    "eval_kmeas.head(2)"
   ]
  },
  {
   "cell_type": "code",
   "execution_count": 54,
   "metadata": {},
   "outputs": [],
   "source": [
    "cluster_identificados_kmeans=[]\n",
    "for i in range(0,k):\n",
    "    cluster_identificados_kmeans.append([eval_kmeas.index[i],int(eval_kmeas.iloc[i,i])])"
   ]
  },
  {
   "cell_type": "code",
   "execution_count": 55,
   "metadata": {},
   "outputs": [
    {
     "data": {
      "text/html": [
       "<div>\n",
       "<style scoped>\n",
       "    .dataframe tbody tr th:only-of-type {\n",
       "        vertical-align: middle;\n",
       "    }\n",
       "\n",
       "    .dataframe tbody tr th {\n",
       "        vertical-align: top;\n",
       "    }\n",
       "\n",
       "    .dataframe thead th {\n",
       "        text-align: right;\n",
       "    }\n",
       "</style>\n",
       "<table border=\"1\" class=\"dataframe\">\n",
       "  <thead>\n",
       "    <tr style=\"text-align: right;\">\n",
       "      <th></th>\n",
       "      <th>14</th>\n",
       "      <th>2</th>\n",
       "      <th>15</th>\n",
       "      <th>3</th>\n",
       "      <th>13</th>\n",
       "      <th>8</th>\n",
       "      <th>4</th>\n",
       "      <th>12</th>\n",
       "      <th>9</th>\n",
       "      <th>10</th>\n",
       "      <th>6</th>\n",
       "      <th>0</th>\n",
       "      <th>5</th>\n",
       "      <th>11</th>\n",
       "      <th>7</th>\n",
       "      <th>16</th>\n",
       "      <th>1</th>\n",
       "    </tr>\n",
       "  </thead>\n",
       "  <tbody>\n",
       "    <tr>\n",
       "      <th>0</th>\n",
       "      <td>0</td>\n",
       "      <td>1</td>\n",
       "      <td>2</td>\n",
       "      <td>3</td>\n",
       "      <td>4</td>\n",
       "      <td>5</td>\n",
       "      <td>6</td>\n",
       "      <td>7</td>\n",
       "      <td>8</td>\n",
       "      <td>9</td>\n",
       "      <td>10</td>\n",
       "      <td>11</td>\n",
       "      <td>12</td>\n",
       "      <td>13</td>\n",
       "      <td>14</td>\n",
       "      <td>15</td>\n",
       "      <td>16</td>\n",
       "    </tr>\n",
       "    <tr>\n",
       "      <th>1</th>\n",
       "      <td>16</td>\n",
       "      <td>13</td>\n",
       "      <td>9</td>\n",
       "      <td>13</td>\n",
       "      <td>16</td>\n",
       "      <td>4</td>\n",
       "      <td>13</td>\n",
       "      <td>10</td>\n",
       "      <td>15</td>\n",
       "      <td>7</td>\n",
       "      <td>1</td>\n",
       "      <td>2</td>\n",
       "      <td>13</td>\n",
       "      <td>8</td>\n",
       "      <td>1</td>\n",
       "      <td>9</td>\n",
       "      <td>0</td>\n",
       "    </tr>\n",
       "  </tbody>\n",
       "</table>\n",
       "</div>"
      ],
      "text/plain": [
       "   14  2   15  3   13  8   4   12  9   10  6   0   5   11  7   16  1 \n",
       "0   0   1   2   3   4   5   6   7   8   9  10  11  12  13  14  15  16\n",
       "1  16  13   9  13  16   4  13  10  15   7   1   2  13   8   1   9   0"
      ]
     },
     "execution_count": 55,
     "metadata": {},
     "output_type": "execute_result"
    }
   ],
   "source": [
    "# index 0, genero database\n",
    "# index 1, cluster kmeans\n",
    "pd.DataFrame(cluster_identificados_kmeans).sort_values(by=0).T"
   ]
  },
  {
   "cell_type": "code",
   "execution_count": 56,
   "metadata": {},
   "outputs": [],
   "source": [
    "def genero_cat_jaccard(df, categ):\n",
    "    indice_jaccard=[]\n",
    "    for val in range(0,k):\n",
    "        tabla_class=df[df['genero']==categ]\n",
    "        tabla_kmeans=df[df['label_clus']==val]\n",
    "        inter=np.intersect1d(tabla_class,tabla_kmeans).shape[0]\n",
    "        union=np.union1d(tabla_class,tabla_kmeans).shape[0]\n",
    "        indice_jaccard.append(inter/union)\n",
    "    return categ,np.argmax(indice_jaccard)"
   ]
  },
  {
   "cell_type": "code",
   "execution_count": 57,
   "metadata": {},
   "outputs": [
    {
     "name": "stdout",
     "output_type": "stream",
     "text": [
      "[(0, 8), (1, 9), (2, 4), (3, 13), (4, 4), (5, 14), (6, 0), (7, 4), (8, 16), (9, 13), (10, 3), (11, 4), (12, 4), (13, 12), (14, 5), (15, 12), (16, 0)]\n"
     ]
    }
   ],
   "source": [
    "clus_cos_jac=[]\n",
    "for c in range(0,k):\n",
    "    simil=[]\n",
    "    clus_cos_jac.append(genero_cat_jaccard(peliculas_clean_kmeans,c))\n",
    "print(clus_cos_jac)"
   ]
  },
  {
   "cell_type": "code",
   "execution_count": 58,
   "metadata": {},
   "outputs": [],
   "source": [
    "# Traer archivo original (2)\n",
    "peliculas2 = pd.read_csv(\"movies_1.csv\")\n",
    "peliculas2[['presupuesto', 'ventas']]=peliculas2[['presupuesto', 'ventas']].fillna(peliculas2[['presupuesto', 'ventas']].median())\n",
    "peliculas2[['productores', 'pais']]=peliculas2[['productores', 'pais']].fillna('desconocido') # \n",
    "peliculas2['duracion']=peliculas2['duracion'].fillna(peliculas2['duracion'].mean())\n",
    "peliculas2['genero_cat']=peliculas2['genero'].astype('category').cat.codes"
   ]
  },
  {
   "cell_type": "code",
   "execution_count": 59,
   "metadata": {},
   "outputs": [],
   "source": [
    "peliculas_eval=pd.concat([peliculas2, label_clus_df], axis=1)\n",
    "peliculas_eval.sort_values(by='genero', inplace=True)\n",
    "peliculas_eval[\"label_clus\"] = pd.to_numeric(peliculas_eval[\"label_clus\"],downcast='integer')"
   ]
  },
  {
   "cell_type": "code",
   "execution_count": 60,
   "metadata": {},
   "outputs": [
    {
     "data": {
      "text/html": [
       "<div>\n",
       "<style scoped>\n",
       "    .dataframe tbody tr th:only-of-type {\n",
       "        vertical-align: middle;\n",
       "    }\n",
       "\n",
       "    .dataframe tbody tr th {\n",
       "        vertical-align: top;\n",
       "    }\n",
       "\n",
       "    .dataframe thead th {\n",
       "        text-align: right;\n",
       "    }\n",
       "</style>\n",
       "<table border=\"1\" class=\"dataframe\">\n",
       "  <thead>\n",
       "    <tr style=\"text-align: right;\">\n",
       "      <th></th>\n",
       "      <th>presupuesto</th>\n",
       "      <th>genero</th>\n",
       "      <th>lenguaje</th>\n",
       "      <th>popularidad</th>\n",
       "      <th>productores</th>\n",
       "      <th>pais</th>\n",
       "      <th>ventas</th>\n",
       "      <th>duracion</th>\n",
       "      <th>titulo</th>\n",
       "      <th>puntuacion</th>\n",
       "      <th>n_votos</th>\n",
       "      <th>genero_cat</th>\n",
       "      <th>label_clus</th>\n",
       "    </tr>\n",
       "  </thead>\n",
       "  <tbody>\n",
       "    <tr>\n",
       "      <th>551</th>\n",
       "      <td>60000000.0</td>\n",
       "      <td>Comedy</td>\n",
       "      <td>en</td>\n",
       "      <td>7.667874</td>\n",
       "      <td>DreamWorks SKG</td>\n",
       "      <td>United States of America</td>\n",
       "      <td>95673607.0</td>\n",
       "      <td>101.0</td>\n",
       "      <td>Norbit</td>\n",
       "      <td>5.0</td>\n",
       "      <td>434.0</td>\n",
       "      <td>3</td>\n",
       "      <td>13.0</td>\n",
       "    </tr>\n",
       "    <tr>\n",
       "      <th>721</th>\n",
       "      <td>49900000.0</td>\n",
       "      <td>Comedy</td>\n",
       "      <td>en</td>\n",
       "      <td>5.673750</td>\n",
       "      <td>Universal Pictures</td>\n",
       "      <td>United States of America</td>\n",
       "      <td>26121638.0</td>\n",
       "      <td>102.0</td>\n",
       "      <td>Your Highness</td>\n",
       "      <td>5.2</td>\n",
       "      <td>511.0</td>\n",
       "      <td>3</td>\n",
       "      <td>13.0</td>\n",
       "    </tr>\n",
       "    <tr>\n",
       "      <th>355</th>\n",
       "      <td>75000000.0</td>\n",
       "      <td>Comedy</td>\n",
       "      <td>en</td>\n",
       "      <td>9.409379</td>\n",
       "      <td>Columbia Pictures</td>\n",
       "      <td>United States of America</td>\n",
       "      <td>195745823.0</td>\n",
       "      <td>106.0</td>\n",
       "      <td>Anger Management</td>\n",
       "      <td>5.9</td>\n",
       "      <td>937.0</td>\n",
       "      <td>3</td>\n",
       "      <td>13.0</td>\n",
       "    </tr>\n",
       "  </tbody>\n",
       "</table>\n",
       "</div>"
      ],
      "text/plain": [
       "     presupuesto  genero lenguaje  popularidad         productores  \\\n",
       "551   60000000.0  Comedy       en     7.667874      DreamWorks SKG   \n",
       "721   49900000.0  Comedy       en     5.673750  Universal Pictures   \n",
       "355   75000000.0  Comedy       en     9.409379   Columbia Pictures   \n",
       "\n",
       "                         pais       ventas  duracion            titulo  \\\n",
       "551  United States of America   95673607.0     101.0            Norbit   \n",
       "721  United States of America   26121638.0     102.0     Your Highness   \n",
       "355  United States of America  195745823.0     106.0  Anger Management   \n",
       "\n",
       "     puntuacion  n_votos  genero_cat  label_clus  \n",
       "551         5.0    434.0           3        13.0  \n",
       "721         5.2    511.0           3        13.0  \n",
       "355         5.9    937.0           3        13.0  "
      ]
     },
     "execution_count": 60,
     "metadata": {},
     "output_type": "execute_result"
    }
   ],
   "source": [
    "# genero cat 9 (horror), kmeans lo selecciono como 7 en metodo simil_cos y 13 en metodo jaccard\n",
    "peliculas_eval[peliculas_eval['label_clus']==13].sample(3)\n",
    "#peliculas_eval.dropna()"
   ]
  },
  {
   "cell_type": "code",
   "execution_count": 61,
   "metadata": {},
   "outputs": [
    {
     "data": {
      "text/plain": [
       "(138, 13)"
      ]
     },
     "execution_count": 61,
     "metadata": {},
     "output_type": "execute_result"
    }
   ],
   "source": [
    "peliculas_eval[peliculas_eval['label_clus']==13].shape"
   ]
  },
  {
   "cell_type": "markdown",
   "metadata": {},
   "source": [
    "- El metodo no entrego buenos resultados de separacion, por lo que no se puede evaluar si los metodos de busqueda y comparacion de cluster dieron el resultado correcto.\n",
    "- Esto era de esperarse por las caracteristicas de la base de datos (con 'genero' como objetivo), para agupar la informacion y deducir a que genero podria pertenecer"
   ]
  },
  {
   "cell_type": "markdown",
   "metadata": {},
   "source": [
    "### Agrupar los valores 'nan' de la variable genero con el modelo entrenado"
   ]
  },
  {
   "cell_type": "code",
   "execution_count": 62,
   "metadata": {},
   "outputs": [
    {
     "data": {
      "text/html": [
       "<div>\n",
       "<style scoped>\n",
       "    .dataframe tbody tr th:only-of-type {\n",
       "        vertical-align: middle;\n",
       "    }\n",
       "\n",
       "    .dataframe tbody tr th {\n",
       "        vertical-align: top;\n",
       "    }\n",
       "\n",
       "    .dataframe thead th {\n",
       "        text-align: right;\n",
       "    }\n",
       "</style>\n",
       "<table border=\"1\" class=\"dataframe\">\n",
       "  <thead>\n",
       "    <tr style=\"text-align: right;\">\n",
       "      <th></th>\n",
       "      <th>lenguaje</th>\n",
       "      <th>popularidad</th>\n",
       "      <th>productores</th>\n",
       "      <th>pais</th>\n",
       "      <th>duracion</th>\n",
       "      <th>titulo</th>\n",
       "      <th>puntuacion</th>\n",
       "      <th>n_votos</th>\n",
       "      <th>label_clus</th>\n",
       "    </tr>\n",
       "  </thead>\n",
       "  <tbody>\n",
       "    <tr>\n",
       "      <th>294</th>\n",
       "      <td>en</td>\n",
       "      <td>0.218588</td>\n",
       "      <td>NaN</td>\n",
       "      <td>NaN</td>\n",
       "      <td>97.0</td>\n",
       "      <td>Jackpot</td>\n",
       "      <td>6.0</td>\n",
       "      <td>1.0</td>\n",
       "      <td>0</td>\n",
       "    </tr>\n",
       "    <tr>\n",
       "      <th>319</th>\n",
       "      <td>en</td>\n",
       "      <td>0.022347</td>\n",
       "      <td>NaN</td>\n",
       "      <td>NaN</td>\n",
       "      <td>80.0</td>\n",
       "      <td>Teddy Bears' Picnic</td>\n",
       "      <td>0.0</td>\n",
       "      <td>0.0</td>\n",
       "      <td>7</td>\n",
       "    </tr>\n",
       "    <tr>\n",
       "      <th>434</th>\n",
       "      <td>en</td>\n",
       "      <td>6.839460</td>\n",
       "      <td>BIM Distribuzione</td>\n",
       "      <td>United States of America</td>\n",
       "      <td>122.0</td>\n",
       "      <td>Fahrenheit 9/11</td>\n",
       "      <td>6.9</td>\n",
       "      <td>403.0</td>\n",
       "      <td>15</td>\n",
       "    </tr>\n",
       "    <tr>\n",
       "      <th>486</th>\n",
       "      <td>en</td>\n",
       "      <td>0.902846</td>\n",
       "      <td>NaN</td>\n",
       "      <td>United States of America</td>\n",
       "      <td>92.0</td>\n",
       "      <td>Death of a Dynasty</td>\n",
       "      <td>4.0</td>\n",
       "      <td>2.0</td>\n",
       "      <td>13</td>\n",
       "    </tr>\n",
       "    <tr>\n",
       "      <th>629</th>\n",
       "      <td>en</td>\n",
       "      <td>0.004706</td>\n",
       "      <td>NaN</td>\n",
       "      <td>NaN</td>\n",
       "      <td>87.0</td>\n",
       "      <td>Praying With Lior</td>\n",
       "      <td>0.0</td>\n",
       "      <td>0.0</td>\n",
       "      <td>7</td>\n",
       "    </tr>\n",
       "  </tbody>\n",
       "</table>\n",
       "</div>"
      ],
      "text/plain": [
       "    lenguaje  popularidad        productores                      pais  \\\n",
       "294       en     0.218588                NaN                       NaN   \n",
       "319       en     0.022347                NaN                       NaN   \n",
       "434       en     6.839460  BIM Distribuzione  United States of America   \n",
       "486       en     0.902846                NaN  United States of America   \n",
       "629       en     0.004706                NaN                       NaN   \n",
       "\n",
       "     duracion               titulo  puntuacion  n_votos  label_clus  \n",
       "294      97.0              Jackpot         6.0      1.0           0  \n",
       "319      80.0  Teddy Bears' Picnic         0.0      0.0           7  \n",
       "434     122.0      Fahrenheit 9/11         6.9    403.0          15  \n",
       "486      92.0   Death of a Dynasty         4.0      2.0          13  \n",
       "629      87.0    Praying With Lior         0.0      0.0           7  "
      ]
     },
     "execution_count": 62,
     "metadata": {},
     "output_type": "execute_result"
    }
   ],
   "source": [
    "# read\n",
    "peliculas3 = pd.read_csv(\"movies_1.csv\")\n",
    "# get_dummies para frecuencia de lenguaje antes definida. Antes de dejar solo los 'nan', para no afectar las columnas dummies\n",
    "peliculas_cat_lenguaje3=pd.get_dummies(peliculas3['lenguaje'])[f_leng]\n",
    "# null\n",
    "peliculas3=peliculas3[peliculas3['genero'].isnull()]\n",
    "peliculas3['duracion']=peliculas3['duracion'].fillna(peliculas3['duracion'].mean())\n",
    "# drop\n",
    "peliculas3.drop('genero', axis=1, inplace=True)\n",
    "peliculas3.drop('presupuesto', axis=1, inplace=True)\n",
    "peliculas3.drop('ventas', axis=1, inplace=True)\n",
    "# Scaler\n",
    "peliculas_num_raw3 = peliculas3.select_dtypes(['float64'])\n",
    "scaler = MinMaxScaler()\n",
    "scaler = scaler.fit_transform(peliculas_num_raw3)\n",
    "peliculas_num_MMS3 = pd.DataFrame(scaler, columns=peliculas_num_raw3.columns, index=peliculas_num_raw3.index)\n",
    "# concat & dropna\n",
    "peliculas_clean3 = pd.concat([peliculas_num_MMS3, peliculas_cat_lenguaje3], axis=1)\n",
    "peliculas_clean3.dropna(inplace=True)\n",
    "# predict kmeans\n",
    "clus_predict3 = estimador_kmeans.predict(peliculas_clean3)\n",
    "clus_predict3_df=pd.DataFrame(clus_predict3, columns=['label_clus'],index=peliculas_clean3.index)\n",
    "peliculas_kmeans3 = pd.concat([peliculas3, clus_predict3_df], axis=1)\n",
    "peliculas_kmeans3.head(5)"
   ]
  },
  {
   "cell_type": "markdown",
   "metadata": {},
   "source": [
    "- se podrian reemplazar los cluster con el genero de pelicula, pero debido la confusa separacion de cluster obtenida, no se realizara."
   ]
  },
  {
   "cell_type": "markdown",
   "metadata": {},
   "source": [
    "# Parte 2 : Variable 'genero' como variable."
   ]
  },
  {
   "cell_type": "code",
   "execution_count": 63,
   "metadata": {},
   "outputs": [],
   "source": [
    "# read\n",
    "peliculas4 = pd.read_csv(\"movies_1.csv\")"
   ]
  },
  {
   "cell_type": "code",
   "execution_count": 64,
   "metadata": {},
   "outputs": [],
   "source": [
    "# null\n",
    "peliculas4['duracion']=peliculas4['duracion'].fillna(peliculas4['duracion'].mean())\n",
    "peliculas4.dropna(subset=['genero'], inplace=True)\n",
    "# drop\n",
    "peliculas4.drop('presupuesto', axis=1, inplace=True) # +40% valores cero\n",
    "peliculas4.drop('ventas', axis=1, inplace=True) # datos inconsistentes\n",
    "peliculas4.drop(['productores', 'pais'], axis=1, inplace=True)"
   ]
  },
  {
   "cell_type": "code",
   "execution_count": 65,
   "metadata": {},
   "outputs": [
    {
     "data": {
      "text/plain": [
       "genero         0\n",
       "lenguaje       0\n",
       "popularidad    0\n",
       "duracion       0\n",
       "titulo         0\n",
       "puntuacion     0\n",
       "n_votos        0\n",
       "dtype: int64"
      ]
     },
     "execution_count": 65,
     "metadata": {},
     "output_type": "execute_result"
    }
   ],
   "source": [
    "peliculas4.isnull().sum()"
   ]
  },
  {
   "cell_type": "code",
   "execution_count": 66,
   "metadata": {},
   "outputs": [],
   "source": [
    "flt = np.where((peliculas4['genero'].value_counts()>=10).values == True)[0]\n",
    "f_gen = list((peliculas4['genero'].value_counts()>=10)[flt].index)"
   ]
  },
  {
   "cell_type": "code",
   "execution_count": 67,
   "metadata": {},
   "outputs": [
    {
     "data": {
      "text/html": [
       "<div>\n",
       "<style scoped>\n",
       "    .dataframe tbody tr th:only-of-type {\n",
       "        vertical-align: middle;\n",
       "    }\n",
       "\n",
       "    .dataframe tbody tr th {\n",
       "        vertical-align: top;\n",
       "    }\n",
       "\n",
       "    .dataframe thead th {\n",
       "        text-align: right;\n",
       "    }\n",
       "</style>\n",
       "<table border=\"1\" class=\"dataframe\">\n",
       "  <thead>\n",
       "    <tr style=\"text-align: right;\">\n",
       "      <th></th>\n",
       "      <th>Drama</th>\n",
       "      <th>Comedy</th>\n",
       "      <th>Documentary</th>\n",
       "      <th>Horror</th>\n",
       "      <th>Action</th>\n",
       "      <th>Thriller</th>\n",
       "      <th>Western</th>\n",
       "      <th>Science Fiction</th>\n",
       "      <th>Adventure</th>\n",
       "      <th>Animation</th>\n",
       "      <th>Romance</th>\n",
       "      <th>en</th>\n",
       "      <th>fr</th>\n",
       "      <th>es</th>\n",
       "      <th>it</th>\n",
       "      <th>ru</th>\n",
       "      <th>de</th>\n",
       "      <th>hi</th>\n",
       "      <th>ja</th>\n",
       "      <th>pt</th>\n",
       "    </tr>\n",
       "  </thead>\n",
       "  <tbody>\n",
       "    <tr>\n",
       "      <th>0</th>\n",
       "      <td>0</td>\n",
       "      <td>1</td>\n",
       "      <td>0</td>\n",
       "      <td>0</td>\n",
       "      <td>0</td>\n",
       "      <td>0</td>\n",
       "      <td>0</td>\n",
       "      <td>0</td>\n",
       "      <td>0</td>\n",
       "      <td>0</td>\n",
       "      <td>0</td>\n",
       "      <td>1</td>\n",
       "      <td>0</td>\n",
       "      <td>0</td>\n",
       "      <td>0</td>\n",
       "      <td>0</td>\n",
       "      <td>0</td>\n",
       "      <td>0</td>\n",
       "      <td>0</td>\n",
       "      <td>0</td>\n",
       "    </tr>\n",
       "    <tr>\n",
       "      <th>1</th>\n",
       "      <td>1</td>\n",
       "      <td>0</td>\n",
       "      <td>0</td>\n",
       "      <td>0</td>\n",
       "      <td>0</td>\n",
       "      <td>0</td>\n",
       "      <td>0</td>\n",
       "      <td>0</td>\n",
       "      <td>0</td>\n",
       "      <td>0</td>\n",
       "      <td>0</td>\n",
       "      <td>1</td>\n",
       "      <td>0</td>\n",
       "      <td>0</td>\n",
       "      <td>0</td>\n",
       "      <td>0</td>\n",
       "      <td>0</td>\n",
       "      <td>0</td>\n",
       "      <td>0</td>\n",
       "      <td>0</td>\n",
       "    </tr>\n",
       "    <tr>\n",
       "      <th>2</th>\n",
       "      <td>0</td>\n",
       "      <td>1</td>\n",
       "      <td>0</td>\n",
       "      <td>0</td>\n",
       "      <td>0</td>\n",
       "      <td>0</td>\n",
       "      <td>0</td>\n",
       "      <td>0</td>\n",
       "      <td>0</td>\n",
       "      <td>0</td>\n",
       "      <td>0</td>\n",
       "      <td>1</td>\n",
       "      <td>0</td>\n",
       "      <td>0</td>\n",
       "      <td>0</td>\n",
       "      <td>0</td>\n",
       "      <td>0</td>\n",
       "      <td>0</td>\n",
       "      <td>0</td>\n",
       "      <td>0</td>\n",
       "    </tr>\n",
       "  </tbody>\n",
       "</table>\n",
       "</div>"
      ],
      "text/plain": [
       "   Drama  Comedy  Documentary  Horror  Action  Thriller  Western  \\\n",
       "0      0       1            0       0       0         0        0   \n",
       "1      1       0            0       0       0         0        0   \n",
       "2      0       1            0       0       0         0        0   \n",
       "\n",
       "   Science Fiction  Adventure  Animation  Romance  en  fr  es  it  ru  de  hi  \\\n",
       "0                0          0          0        0   1   0   0   0   0   0   0   \n",
       "1                0          0          0        0   1   0   0   0   0   0   0   \n",
       "2                0          0          0        0   1   0   0   0   0   0   0   \n",
       "\n",
       "   ja  pt  \n",
       "0   0   0  \n",
       "1   0   0  \n",
       "2   0   0  "
      ]
     },
     "execution_count": 67,
     "metadata": {},
     "output_type": "execute_result"
    }
   ],
   "source": [
    "# get_dummies \n",
    "peliculas_cat_lenguaje4=pd.get_dummies(peliculas4['lenguaje'])[f_leng]\n",
    "peliculas_cat_genero4=pd.get_dummies(peliculas4['genero'])[f_gen]\n",
    "peliculas_dummies4 = pd.concat([peliculas_cat_genero4, peliculas_cat_lenguaje4], axis=1)\n",
    "peliculas_dummies4.head(3)"
   ]
  },
  {
   "cell_type": "code",
   "execution_count": 68,
   "metadata": {},
   "outputs": [
    {
     "data": {
      "text/html": [
       "<div>\n",
       "<style scoped>\n",
       "    .dataframe tbody tr th:only-of-type {\n",
       "        vertical-align: middle;\n",
       "    }\n",
       "\n",
       "    .dataframe tbody tr th {\n",
       "        vertical-align: top;\n",
       "    }\n",
       "\n",
       "    .dataframe thead th {\n",
       "        text-align: right;\n",
       "    }\n",
       "</style>\n",
       "<table border=\"1\" class=\"dataframe\">\n",
       "  <thead>\n",
       "    <tr style=\"text-align: right;\">\n",
       "      <th></th>\n",
       "      <th>popularidad</th>\n",
       "      <th>duracion</th>\n",
       "      <th>puntuacion</th>\n",
       "      <th>n_votos</th>\n",
       "      <th>Drama</th>\n",
       "      <th>Comedy</th>\n",
       "      <th>Documentary</th>\n",
       "      <th>Horror</th>\n",
       "      <th>Action</th>\n",
       "      <th>Thriller</th>\n",
       "      <th>Western</th>\n",
       "      <th>Science Fiction</th>\n",
       "      <th>Adventure</th>\n",
       "      <th>Animation</th>\n",
       "      <th>Romance</th>\n",
       "      <th>en</th>\n",
       "      <th>fr</th>\n",
       "      <th>es</th>\n",
       "      <th>it</th>\n",
       "      <th>ru</th>\n",
       "      <th>de</th>\n",
       "      <th>hi</th>\n",
       "      <th>ja</th>\n",
       "      <th>pt</th>\n",
       "    </tr>\n",
       "  </thead>\n",
       "  <tbody>\n",
       "    <tr>\n",
       "      <th>0</th>\n",
       "      <td>0.130437</td>\n",
       "      <td>0.475336</td>\n",
       "      <td>0.600000</td>\n",
       "      <td>0.035810</td>\n",
       "      <td>0</td>\n",
       "      <td>1</td>\n",
       "      <td>0</td>\n",
       "      <td>0</td>\n",
       "      <td>0</td>\n",
       "      <td>0</td>\n",
       "      <td>0</td>\n",
       "      <td>0</td>\n",
       "      <td>0</td>\n",
       "      <td>0</td>\n",
       "      <td>0</td>\n",
       "      <td>1</td>\n",
       "      <td>0</td>\n",
       "      <td>0</td>\n",
       "      <td>0</td>\n",
       "      <td>0</td>\n",
       "      <td>0</td>\n",
       "      <td>0</td>\n",
       "      <td>0</td>\n",
       "      <td>0</td>\n",
       "    </tr>\n",
       "    <tr>\n",
       "      <th>1</th>\n",
       "      <td>0.013907</td>\n",
       "      <td>0.475336</td>\n",
       "      <td>0.705263</td>\n",
       "      <td>0.002691</td>\n",
       "      <td>1</td>\n",
       "      <td>0</td>\n",
       "      <td>0</td>\n",
       "      <td>0</td>\n",
       "      <td>0</td>\n",
       "      <td>0</td>\n",
       "      <td>0</td>\n",
       "      <td>0</td>\n",
       "      <td>0</td>\n",
       "      <td>0</td>\n",
       "      <td>0</td>\n",
       "      <td>1</td>\n",
       "      <td>0</td>\n",
       "      <td>0</td>\n",
       "      <td>0</td>\n",
       "      <td>0</td>\n",
       "      <td>0</td>\n",
       "      <td>0</td>\n",
       "      <td>0</td>\n",
       "      <td>0</td>\n",
       "    </tr>\n",
       "    <tr>\n",
       "      <th>2</th>\n",
       "      <td>0.226583</td>\n",
       "      <td>0.408072</td>\n",
       "      <td>0.736842</td>\n",
       "      <td>0.106189</td>\n",
       "      <td>0</td>\n",
       "      <td>1</td>\n",
       "      <td>0</td>\n",
       "      <td>0</td>\n",
       "      <td>0</td>\n",
       "      <td>0</td>\n",
       "      <td>0</td>\n",
       "      <td>0</td>\n",
       "      <td>0</td>\n",
       "      <td>0</td>\n",
       "      <td>0</td>\n",
       "      <td>1</td>\n",
       "      <td>0</td>\n",
       "      <td>0</td>\n",
       "      <td>0</td>\n",
       "      <td>0</td>\n",
       "      <td>0</td>\n",
       "      <td>0</td>\n",
       "      <td>0</td>\n",
       "      <td>0</td>\n",
       "    </tr>\n",
       "  </tbody>\n",
       "</table>\n",
       "</div>"
      ],
      "text/plain": [
       "   popularidad  duracion  puntuacion   n_votos  Drama  Comedy  Documentary  \\\n",
       "0     0.130437  0.475336    0.600000  0.035810      0       1            0   \n",
       "1     0.013907  0.475336    0.705263  0.002691      1       0            0   \n",
       "2     0.226583  0.408072    0.736842  0.106189      0       1            0   \n",
       "\n",
       "   Horror  Action  Thriller  Western  Science Fiction  Adventure  Animation  \\\n",
       "0       0       0         0        0                0          0          0   \n",
       "1       0       0         0        0                0          0          0   \n",
       "2       0       0         0        0                0          0          0   \n",
       "\n",
       "   Romance  en  fr  es  it  ru  de  hi  ja  pt  \n",
       "0        0   1   0   0   0   0   0   0   0   0  \n",
       "1        0   1   0   0   0   0   0   0   0   0  \n",
       "2        0   1   0   0   0   0   0   0   0   0  "
      ]
     },
     "execution_count": 68,
     "metadata": {},
     "output_type": "execute_result"
    }
   ],
   "source": [
    "# Scaler\n",
    "peliculas_num_raw4 = peliculas4.select_dtypes(['float64'])\n",
    "scaler = MinMaxScaler()\n",
    "scaler = scaler.fit_transform(peliculas_num_raw4)\n",
    "peliculas_num_MMS4 = pd.DataFrame(scaler, columns=peliculas_num_raw4.columns, index=peliculas_num_raw4.index)\n",
    "# concat & dropna\n",
    "peliculas_clean4 = pd.concat([peliculas_num_MMS4, peliculas_dummies4], axis=1)\n",
    "peliculas_clean4.dropna(inplace=True)\n",
    "peliculas_clean4.head(3)"
   ]
  },
  {
   "cell_type": "code",
   "execution_count": 69,
   "metadata": {},
   "outputs": [
    {
     "data": {
      "text/plain": [
       "array([ 7,  2,  7, ..., 12,  4,  4], dtype=int32)"
      ]
     },
     "execution_count": 69,
     "metadata": {},
     "output_type": "execute_result"
    }
   ],
   "source": [
    "#k-means con 17 cluster segun numero de generos en base de datos\n",
    "k = peliculas_clean.genero.unique().shape[0] # numero de clusters\n",
    "estimador_kmeans4 = KMeans(n_clusters=k,init = 'random')\n",
    "# Estimador k-means. \n",
    "estimador_kmeans4.fit(peliculas_clean4)\n",
    "label_clus4=estimador_kmeans4.labels_\n",
    "label_clus4"
   ]
  },
  {
   "cell_type": "code",
   "execution_count": 70,
   "metadata": {},
   "outputs": [
    {
     "data": {
      "text/html": [
       "<div>\n",
       "<style scoped>\n",
       "    .dataframe tbody tr th:only-of-type {\n",
       "        vertical-align: middle;\n",
       "    }\n",
       "\n",
       "    .dataframe tbody tr th {\n",
       "        vertical-align: top;\n",
       "    }\n",
       "\n",
       "    .dataframe thead th {\n",
       "        text-align: right;\n",
       "    }\n",
       "</style>\n",
       "<table border=\"1\" class=\"dataframe\">\n",
       "  <thead>\n",
       "    <tr style=\"text-align: right;\">\n",
       "      <th></th>\n",
       "      <th>genero</th>\n",
       "      <th>lenguaje</th>\n",
       "      <th>popularidad</th>\n",
       "      <th>duracion</th>\n",
       "      <th>titulo</th>\n",
       "      <th>puntuacion</th>\n",
       "      <th>n_votos</th>\n",
       "      <th>label_clus</th>\n",
       "    </tr>\n",
       "  </thead>\n",
       "  <tbody>\n",
       "    <tr>\n",
       "      <th>0</th>\n",
       "      <td>Comedy</td>\n",
       "      <td>en</td>\n",
       "      <td>8.387519</td>\n",
       "      <td>106.0</td>\n",
       "      <td>Father of the Bride Part II</td>\n",
       "      <td>5.7</td>\n",
       "      <td>173.0</td>\n",
       "      <td>7</td>\n",
       "    </tr>\n",
       "    <tr>\n",
       "      <th>1</th>\n",
       "      <td>Drama</td>\n",
       "      <td>en</td>\n",
       "      <td>0.894647</td>\n",
       "      <td>106.0</td>\n",
       "      <td>Cry, the Beloved Country</td>\n",
       "      <td>6.7</td>\n",
       "      <td>13.0</td>\n",
       "      <td>2</td>\n",
       "    </tr>\n",
       "    <tr>\n",
       "      <th>2</th>\n",
       "      <td>Comedy</td>\n",
       "      <td>en</td>\n",
       "      <td>14.569650</td>\n",
       "      <td>91.0</td>\n",
       "      <td>Friday</td>\n",
       "      <td>7.0</td>\n",
       "      <td>513.0</td>\n",
       "      <td>7</td>\n",
       "    </tr>\n",
       "  </tbody>\n",
       "</table>\n",
       "</div>"
      ],
      "text/plain": [
       "   genero lenguaje  popularidad  duracion                       titulo  \\\n",
       "0  Comedy       en     8.387519     106.0  Father of the Bride Part II   \n",
       "1   Drama       en     0.894647     106.0     Cry, the Beloved Country   \n",
       "2  Comedy       en    14.569650      91.0                       Friday   \n",
       "\n",
       "   puntuacion  n_votos  label_clus  \n",
       "0         5.7    173.0           7  \n",
       "1         6.7     13.0           2  \n",
       "2         7.0    513.0           7  "
      ]
     },
     "execution_count": 70,
     "metadata": {},
     "output_type": "execute_result"
    }
   ],
   "source": [
    "# fit kmeans\n",
    "clus_predict4 = estimador_kmeans4.predict(peliculas_clean4)\n",
    "clus_predict4_df=pd.DataFrame(clus_predict4, columns=['label_clus'],index=peliculas_clean4.index)\n",
    "# filtrar peliculas4 con el index de peliculas_clean4\n",
    "peliculas4b=peliculas4.loc[peliculas_clean4.index]\n",
    "# concat\n",
    "peliculas_kmeans4 = pd.concat([peliculas4b, clus_predict4_df], axis=1)\n",
    "peliculas_kmeans4.head(3)"
   ]
  },
  {
   "cell_type": "code",
   "execution_count": 71,
   "metadata": {},
   "outputs": [
    {
     "data": {
      "image/png": "[encoded data removed]",
      "text/plain": [
       "<Figure size 1440x216 with 1 Axes>"
      ]
     },
     "metadata": {},
     "output_type": "display_data"
    }
   ],
   "source": [
    "# grafico genero vs cluster\n",
    "plt.figure(figsize=(20,3))\n",
    "plt.title('genero vs cluster', size=14);\n",
    "plt.scatter(peliculas4['genero'], label_clus4);"
   ]
  },
  {
   "cell_type": "markdown",
   "metadata": {},
   "source": [
    "- Resultado bastante mas ordenado y decidor que en la etapa anterior\n",
    "- Al eliminar la variable genero en la etapa 1, el algoritmo no fue capaz de agrupar los datos"
   ]
  },
  {
   "cell_type": "markdown",
   "metadata": {},
   "source": [
    "# Asociar cluster kmeans con genero pelicula"
   ]
  },
  {
   "cell_type": "markdown",
   "metadata": {},
   "source": [
    "## Jaccard"
   ]
  },
  {
   "cell_type": "code",
   "execution_count": 72,
   "metadata": {
    "scrolled": true
   },
   "outputs": [
    {
     "data": {
      "text/html": [
       "<div>\n",
       "<style scoped>\n",
       "    .dataframe tbody tr th:only-of-type {\n",
       "        vertical-align: middle;\n",
       "    }\n",
       "\n",
       "    .dataframe tbody tr th {\n",
       "        vertical-align: top;\n",
       "    }\n",
       "\n",
       "    .dataframe thead th {\n",
       "        text-align: right;\n",
       "    }\n",
       "</style>\n",
       "<table border=\"1\" class=\"dataframe\">\n",
       "  <thead>\n",
       "    <tr style=\"text-align: right;\">\n",
       "      <th></th>\n",
       "      <th>genero</th>\n",
       "      <th>popularidad</th>\n",
       "      <th>duracion</th>\n",
       "      <th>puntuacion</th>\n",
       "      <th>n_votos</th>\n",
       "      <th>Drama</th>\n",
       "      <th>Comedy</th>\n",
       "      <th>Documentary</th>\n",
       "      <th>Horror</th>\n",
       "      <th>Action</th>\n",
       "      <th>Thriller</th>\n",
       "      <th>Western</th>\n",
       "      <th>Science Fiction</th>\n",
       "      <th>Adventure</th>\n",
       "      <th>Animation</th>\n",
       "      <th>Romance</th>\n",
       "      <th>en</th>\n",
       "      <th>fr</th>\n",
       "      <th>es</th>\n",
       "      <th>it</th>\n",
       "      <th>ru</th>\n",
       "      <th>de</th>\n",
       "      <th>hi</th>\n",
       "      <th>ja</th>\n",
       "      <th>pt</th>\n",
       "      <th>label_clus</th>\n",
       "    </tr>\n",
       "  </thead>\n",
       "  <tbody>\n",
       "    <tr>\n",
       "      <th>0</th>\n",
       "      <td>Comedy</td>\n",
       "      <td>0.130437</td>\n",
       "      <td>0.475336</td>\n",
       "      <td>0.600000</td>\n",
       "      <td>0.035810</td>\n",
       "      <td>0.0</td>\n",
       "      <td>1.0</td>\n",
       "      <td>0.0</td>\n",
       "      <td>0.0</td>\n",
       "      <td>0.0</td>\n",
       "      <td>0.0</td>\n",
       "      <td>0.0</td>\n",
       "      <td>0.0</td>\n",
       "      <td>0.0</td>\n",
       "      <td>0.0</td>\n",
       "      <td>0.0</td>\n",
       "      <td>1.0</td>\n",
       "      <td>0.0</td>\n",
       "      <td>0.0</td>\n",
       "      <td>0.0</td>\n",
       "      <td>0.0</td>\n",
       "      <td>0.0</td>\n",
       "      <td>0.0</td>\n",
       "      <td>0.0</td>\n",
       "      <td>0.0</td>\n",
       "      <td>7.0</td>\n",
       "    </tr>\n",
       "    <tr>\n",
       "      <th>1</th>\n",
       "      <td>Drama</td>\n",
       "      <td>0.013907</td>\n",
       "      <td>0.475336</td>\n",
       "      <td>0.705263</td>\n",
       "      <td>0.002691</td>\n",
       "      <td>1.0</td>\n",
       "      <td>0.0</td>\n",
       "      <td>0.0</td>\n",
       "      <td>0.0</td>\n",
       "      <td>0.0</td>\n",
       "      <td>0.0</td>\n",
       "      <td>0.0</td>\n",
       "      <td>0.0</td>\n",
       "      <td>0.0</td>\n",
       "      <td>0.0</td>\n",
       "      <td>0.0</td>\n",
       "      <td>1.0</td>\n",
       "      <td>0.0</td>\n",
       "      <td>0.0</td>\n",
       "      <td>0.0</td>\n",
       "      <td>0.0</td>\n",
       "      <td>0.0</td>\n",
       "      <td>0.0</td>\n",
       "      <td>0.0</td>\n",
       "      <td>0.0</td>\n",
       "      <td>2.0</td>\n",
       "    </tr>\n",
       "    <tr>\n",
       "      <th>2</th>\n",
       "      <td>Comedy</td>\n",
       "      <td>0.226583</td>\n",
       "      <td>0.408072</td>\n",
       "      <td>0.736842</td>\n",
       "      <td>0.106189</td>\n",
       "      <td>0.0</td>\n",
       "      <td>1.0</td>\n",
       "      <td>0.0</td>\n",
       "      <td>0.0</td>\n",
       "      <td>0.0</td>\n",
       "      <td>0.0</td>\n",
       "      <td>0.0</td>\n",
       "      <td>0.0</td>\n",
       "      <td>0.0</td>\n",
       "      <td>0.0</td>\n",
       "      <td>0.0</td>\n",
       "      <td>1.0</td>\n",
       "      <td>0.0</td>\n",
       "      <td>0.0</td>\n",
       "      <td>0.0</td>\n",
       "      <td>0.0</td>\n",
       "      <td>0.0</td>\n",
       "      <td>0.0</td>\n",
       "      <td>0.0</td>\n",
       "      <td>0.0</td>\n",
       "      <td>7.0</td>\n",
       "    </tr>\n",
       "  </tbody>\n",
       "</table>\n",
       "</div>"
      ],
      "text/plain": [
       "   genero  popularidad  duracion  puntuacion   n_votos  Drama  Comedy  \\\n",
       "0  Comedy     0.130437  0.475336    0.600000  0.035810    0.0     1.0   \n",
       "1   Drama     0.013907  0.475336    0.705263  0.002691    1.0     0.0   \n",
       "2  Comedy     0.226583  0.408072    0.736842  0.106189    0.0     1.0   \n",
       "\n",
       "   Documentary  Horror  Action  Thriller  Western  Science Fiction  Adventure  \\\n",
       "0          0.0     0.0     0.0       0.0      0.0              0.0        0.0   \n",
       "1          0.0     0.0     0.0       0.0      0.0              0.0        0.0   \n",
       "2          0.0     0.0     0.0       0.0      0.0              0.0        0.0   \n",
       "\n",
       "   Animation  Romance   en   fr   es   it   ru   de   hi   ja   pt  label_clus  \n",
       "0        0.0      0.0  1.0  0.0  0.0  0.0  0.0  0.0  0.0  0.0  0.0         7.0  \n",
       "1        0.0      0.0  1.0  0.0  0.0  0.0  0.0  0.0  0.0  0.0  0.0         2.0  \n",
       "2        0.0      0.0  1.0  0.0  0.0  0.0  0.0  0.0  0.0  0.0  0.0         7.0  "
      ]
     },
     "execution_count": 72,
     "metadata": {},
     "output_type": "execute_result"
    }
   ],
   "source": [
    "peliculas4c = pd.read_csv(\"movies_1.csv\")\n",
    "peliculas_kmeans4a = pd.concat([peliculas4c['genero'],peliculas_clean4, clus_predict4_df], axis=1)\n",
    "peliculas_kmeans4a.dropna(inplace=True)\n",
    "peliculas_kmeans4a.head(3)"
   ]
  },
  {
   "cell_type": "code",
   "execution_count": 73,
   "metadata": {},
   "outputs": [],
   "source": [
    "def genero_cat_jaccard(df, categ):\n",
    "    indice_jaccard=[]\n",
    "    for val in range(0,k):\n",
    "        tabla_class=df[df['genero'].astype('category').cat.codes==categ]\n",
    "        tabla_class.drop('genero', axis=1, inplace=True)\n",
    "        tabla_kmeans=df[df['label_clus']==val]\n",
    "        tabla_kmeans.drop('genero', axis=1, inplace=True)\n",
    "        inter=np.intersect1d(tabla_class,tabla_kmeans).shape[0]\n",
    "        union=np.union1d(tabla_class,tabla_kmeans).shape[0]\n",
    "        indice_jaccard.append(inter/union)\n",
    "    return categ,np.argmax(indice_jaccard)"
   ]
  },
  {
   "cell_type": "code",
   "execution_count": 74,
   "metadata": {},
   "outputs": [
    {
     "name": "stdout",
     "output_type": "stream",
     "text": [
      "[(0, 10), (1, 0), (2, 3), (3, 7), (4, 1), (5, 12), (6, 2), (7, 1), (8, 3), (9, 4), (10, 8), (11, 1), (12, 15), (13, 0), (14, 0), (15, 10), (16, 16)]\n"
     ]
    }
   ],
   "source": [
    "clus_cos_jac=[]\n",
    "for c in range(0,k):\n",
    "    simil=[]\n",
    "    clus_cos_jac.append(genero_cat_jaccard(peliculas_kmeans4a,c))\n",
    "print(clus_cos_jac)"
   ]
  },
  {
   "cell_type": "code",
   "execution_count": 75,
   "metadata": {},
   "outputs": [
    {
     "data": {
      "text/html": [
       "<div>\n",
       "<style scoped>\n",
       "    .dataframe tbody tr th:only-of-type {\n",
       "        vertical-align: middle;\n",
       "    }\n",
       "\n",
       "    .dataframe tbody tr th {\n",
       "        vertical-align: top;\n",
       "    }\n",
       "\n",
       "    .dataframe thead th {\n",
       "        text-align: right;\n",
       "    }\n",
       "</style>\n",
       "<table border=\"1\" class=\"dataframe\">\n",
       "  <thead>\n",
       "    <tr style=\"text-align: right;\">\n",
       "      <th></th>\n",
       "      <th>0</th>\n",
       "      <th>1</th>\n",
       "    </tr>\n",
       "  </thead>\n",
       "  <tbody>\n",
       "    <tr>\n",
       "      <th>1</th>\n",
       "      <td>Adventure</td>\n",
       "      <td>0</td>\n",
       "    </tr>\n",
       "    <tr>\n",
       "      <th>14</th>\n",
       "      <td>Thriller</td>\n",
       "      <td>0</td>\n",
       "    </tr>\n",
       "    <tr>\n",
       "      <th>13</th>\n",
       "      <td>Science Fiction</td>\n",
       "      <td>0</td>\n",
       "    </tr>\n",
       "    <tr>\n",
       "      <th>4</th>\n",
       "      <td>Crime</td>\n",
       "      <td>1</td>\n",
       "    </tr>\n",
       "    <tr>\n",
       "      <th>7</th>\n",
       "      <td>Family</td>\n",
       "      <td>1</td>\n",
       "    </tr>\n",
       "    <tr>\n",
       "      <th>11</th>\n",
       "      <td>Mystery</td>\n",
       "      <td>1</td>\n",
       "    </tr>\n",
       "    <tr>\n",
       "      <th>6</th>\n",
       "      <td>Drama</td>\n",
       "      <td>2</td>\n",
       "    </tr>\n",
       "    <tr>\n",
       "      <th>8</th>\n",
       "      <td>Fantasy</td>\n",
       "      <td>3</td>\n",
       "    </tr>\n",
       "    <tr>\n",
       "      <th>2</th>\n",
       "      <td>Animation</td>\n",
       "      <td>3</td>\n",
       "    </tr>\n",
       "    <tr>\n",
       "      <th>9</th>\n",
       "      <td>Horror</td>\n",
       "      <td>4</td>\n",
       "    </tr>\n",
       "    <tr>\n",
       "      <th>3</th>\n",
       "      <td>Comedy</td>\n",
       "      <td>7</td>\n",
       "    </tr>\n",
       "    <tr>\n",
       "      <th>10</th>\n",
       "      <td>Music</td>\n",
       "      <td>8</td>\n",
       "    </tr>\n",
       "    <tr>\n",
       "      <th>0</th>\n",
       "      <td>Action</td>\n",
       "      <td>10</td>\n",
       "    </tr>\n",
       "    <tr>\n",
       "      <th>15</th>\n",
       "      <td>War</td>\n",
       "      <td>10</td>\n",
       "    </tr>\n",
       "    <tr>\n",
       "      <th>5</th>\n",
       "      <td>Documentary</td>\n",
       "      <td>12</td>\n",
       "    </tr>\n",
       "    <tr>\n",
       "      <th>12</th>\n",
       "      <td>Romance</td>\n",
       "      <td>15</td>\n",
       "    </tr>\n",
       "    <tr>\n",
       "      <th>16</th>\n",
       "      <td>Western</td>\n",
       "      <td>16</td>\n",
       "    </tr>\n",
       "  </tbody>\n",
       "</table>\n",
       "</div>"
      ],
      "text/plain": [
       "                  0   1\n",
       "1         Adventure   0\n",
       "14         Thriller   0\n",
       "13  Science Fiction   0\n",
       "4             Crime   1\n",
       "7            Family   1\n",
       "11          Mystery   1\n",
       "6             Drama   2\n",
       "8           Fantasy   3\n",
       "2         Animation   3\n",
       "9            Horror   4\n",
       "3            Comedy   7\n",
       "10            Music   8\n",
       "0            Action  10\n",
       "15              War  10\n",
       "5       Documentary  12\n",
       "12          Romance  15\n",
       "16          Western  16"
      ]
     },
     "execution_count": 75,
     "metadata": {},
     "output_type": "execute_result"
    }
   ],
   "source": [
    "clus_cos_jac_gen=[]\n",
    "for j in range(len(clus_cos_jac)):\n",
    "    val=peliculas_kmeans4a['genero'][peliculas_kmeans4a['genero'].astype('category').cat.codes==clus_cos_jac[j][0]].unique().tolist()[0]\n",
    "    clus_cos_jac_gen.append([val, clus_cos_jac[j][1]])\n",
    "    \n",
    "pd.DataFrame(clus_cos_jac_gen).sort_values(by=1, ascending=True)"
   ]
  },
  {
   "cell_type": "markdown",
   "metadata": {},
   "source": [
    "## Metodo de frecuencia"
   ]
  },
  {
   "cell_type": "code",
   "execution_count": 76,
   "metadata": {},
   "outputs": [],
   "source": [
    "# seleccionar los generos de peliculas segusn label_clus\n",
    "genero_search=[]\n",
    "for g in range(k):\n",
    "    filter_gen = peliculas_kmeans4[peliculas_kmeans4['label_clus'] == g]['genero']\n",
    "    genero_search.append(filter_gen)\n",
    "    \n",
    "# determinar la moda para asociar genero al cluster\n",
    "genero_asociado={}\n",
    "for g in range(k):\n",
    "    genero_asociado[g]=genero_search[g].mode()[0]"
   ]
  },
  {
   "cell_type": "code",
   "execution_count": 77,
   "metadata": {},
   "outputs": [
    {
     "data": {
      "text/plain": [
       "{0: 'Thriller',\n",
       " 1: 'Horror',\n",
       " 2: 'Drama',\n",
       " 3: 'Animation',\n",
       " 4: 'Horror',\n",
       " 5: 'Comedy',\n",
       " 6: 'Comedy',\n",
       " 7: 'Comedy',\n",
       " 8: 'Documentary',\n",
       " 9: 'Drama',\n",
       " 10: 'Action',\n",
       " 11: 'Drama',\n",
       " 12: 'Documentary',\n",
       " 13: 'Drama',\n",
       " 14: 'Drama',\n",
       " 15: 'Drama',\n",
       " 16: 'Western'}"
      ]
     },
     "execution_count": 77,
     "metadata": {},
     "output_type": "execute_result"
    }
   ],
   "source": [
    "# cluster kmeans y genero asociado\n",
    "genero_asociado"
   ]
  },
  {
   "cell_type": "code",
   "execution_count": 78,
   "metadata": {},
   "outputs": [
    {
     "data": {
      "text/plain": [
       "{'Action',\n",
       " 'Animation',\n",
       " 'Comedy',\n",
       " 'Documentary',\n",
       " 'Drama',\n",
       " 'Horror',\n",
       " 'Thriller',\n",
       " 'Western'}"
      ]
     },
     "execution_count": 78,
     "metadata": {},
     "output_type": "execute_result"
    }
   ],
   "source": [
    "set(genero_asociado.values())"
   ]
  },
  {
   "cell_type": "markdown",
   "metadata": {},
   "source": [
    "- En ambos metodos se repiten los generos para ciertos clusters\n",
    "- El indicador jaccard entrega 11 generos diferentes, mientras que el metodo de busqueda por frecuencia entrega 8 generos diferente.\n",
    "- Si comparamos con la informacion de cluster capaz de separar por kmeans segun el metodo del codo, esta se asemeja a la obtenida por frecuencias."
   ]
  },
  {
   "cell_type": "markdown",
   "metadata": {},
   "source": [
    "## Medidas de evaluacion kmeans"
   ]
  },
  {
   "cell_type": "code",
   "execution_count": 79,
   "metadata": {},
   "outputs": [
    {
     "data": {
      "text/plain": [
       "0.5435128607907154"
      ]
     },
     "execution_count": 79,
     "metadata": {},
     "output_type": "execute_result"
    }
   ],
   "source": [
    "silhouette_score(peliculas_clean4,label_clus4)"
   ]
  },
  {
   "cell_type": "code",
   "execution_count": 80,
   "metadata": {},
   "outputs": [
    {
     "data": {
      "text/plain": [
       "(0.89981013007543, 0.6646800007285821, 0.7645759933388115)"
      ]
     },
     "execution_count": 80,
     "metadata": {},
     "output_type": "execute_result"
    }
   ],
   "source": [
    "clases_reales=peliculas_kmeans4a['genero'].astype('category').cat.codes.tolist()\n",
    "homogeneity_completeness_v_measure(clases_reales, label_clus4)"
   ]
  },
  {
   "cell_type": "markdown",
   "metadata": {},
   "source": [
    "## Prediccion sobre valores genero 'NaN'"
   ]
  },
  {
   "cell_type": "code",
   "execution_count": 81,
   "metadata": {},
   "outputs": [],
   "source": [
    "# read\n",
    "peliculas5 = pd.read_csv(\"movies_1.csv\")\n",
    "# null\n",
    "peliculas5['duracion']=peliculas5['duracion'].fillna(peliculas5['duracion'].mean())\n",
    "# drop\n",
    "peliculas5.drop('presupuesto', axis=1, inplace=True) # +50% valores cero\n",
    "peliculas5.drop('ventas', axis=1, inplace=True) # datos inconsistentes\n",
    "peliculas5.drop(['productores', 'pais'], axis=1, inplace=True)\n",
    "# get_dummies \n",
    "peliculas_cat_lenguaje5=pd.get_dummies(peliculas5['lenguaje'])[f_leng]\n",
    "peliculas_cat_genero5=pd.get_dummies(peliculas5['genero'])[f_gen]\n",
    "peliculas_dummies5 = pd.concat([peliculas_cat_genero5, peliculas_cat_lenguaje5], axis=1)\n",
    "peliculas5=peliculas5[peliculas5['genero'].isnull()]\n",
    "# Scaler\n",
    "peliculas_num_raw5 = peliculas5.select_dtypes(['float64'])\n",
    "scaler = MinMaxScaler()\n",
    "scaler = scaler.fit_transform(peliculas_num_raw5)\n",
    "peliculas_num_MMS5 = pd.DataFrame(scaler, columns=peliculas_num_raw5.columns, index=peliculas_num_raw5.index)\n",
    "# concat & dropna\n",
    "peliculas_clean5 = pd.concat([peliculas_num_MMS5, peliculas_dummies5], axis=1)\n",
    "peliculas_clean5.dropna(inplace=True)\n",
    "# predict kmeans\n",
    "clus_predict5 = estimador_kmeans4.predict(peliculas_clean5)\n",
    "clus_predict5_df=pd.DataFrame(clus_predict5, columns=['label_clus'],index=peliculas_clean5.index)"
   ]
  },
  {
   "cell_type": "code",
   "execution_count": 82,
   "metadata": {},
   "outputs": [],
   "source": [
    "for r in range(len(clus_predict5_df)):\n",
    "    clus_predict5_df['label_clus'].iloc[r]=genero_asociado[clus_predict5_df['label_clus'].iloc[r]]"
   ]
  },
  {
   "cell_type": "code",
   "execution_count": 83,
   "metadata": {},
   "outputs": [],
   "source": [
    "# read again \n",
    "peliculas5a = pd.read_csv(\"movies_1.csv\")\n",
    "peliculas5b=peliculas5a.loc[peliculas_clean5.index]\n",
    "peliculas_kmeans5 = pd.concat([peliculas5b, clus_predict5_df], axis=1)"
   ]
  },
  {
   "cell_type": "code",
   "execution_count": 84,
   "metadata": {},
   "outputs": [
    {
     "data": {
      "text/html": [
       "<div>\n",
       "<style scoped>\n",
       "    .dataframe tbody tr th:only-of-type {\n",
       "        vertical-align: middle;\n",
       "    }\n",
       "\n",
       "    .dataframe tbody tr th {\n",
       "        vertical-align: top;\n",
       "    }\n",
       "\n",
       "    .dataframe thead th {\n",
       "        text-align: right;\n",
       "    }\n",
       "</style>\n",
       "<table border=\"1\" class=\"dataframe\">\n",
       "  <thead>\n",
       "    <tr style=\"text-align: right;\">\n",
       "      <th></th>\n",
       "      <th>presupuesto</th>\n",
       "      <th>genero</th>\n",
       "      <th>lenguaje</th>\n",
       "      <th>popularidad</th>\n",
       "      <th>productores</th>\n",
       "      <th>pais</th>\n",
       "      <th>ventas</th>\n",
       "      <th>duracion</th>\n",
       "      <th>titulo</th>\n",
       "      <th>puntuacion</th>\n",
       "      <th>n_votos</th>\n",
       "      <th>label_clus</th>\n",
       "    </tr>\n",
       "  </thead>\n",
       "  <tbody>\n",
       "    <tr>\n",
       "      <th>1263</th>\n",
       "      <td>NaN</td>\n",
       "      <td>NaN</td>\n",
       "      <td>en</td>\n",
       "      <td>0.110204</td>\n",
       "      <td>NaN</td>\n",
       "      <td>NaN</td>\n",
       "      <td>NaN</td>\n",
       "      <td>14.0</td>\n",
       "      <td>It's a Bird</td>\n",
       "      <td>8.0</td>\n",
       "      <td>2.0</td>\n",
       "      <td>Western</td>\n",
       "    </tr>\n",
       "    <tr>\n",
       "      <th>1187</th>\n",
       "      <td>2500000.0</td>\n",
       "      <td>NaN</td>\n",
       "      <td>ru</td>\n",
       "      <td>0.209434</td>\n",
       "      <td>NaN</td>\n",
       "      <td>Russia</td>\n",
       "      <td>1477030.0</td>\n",
       "      <td>0.0</td>\n",
       "      <td>Glukhar v kino</td>\n",
       "      <td>5.9</td>\n",
       "      <td>4.0</td>\n",
       "      <td>Action</td>\n",
       "    </tr>\n",
       "    <tr>\n",
       "      <th>1266</th>\n",
       "      <td>NaN</td>\n",
       "      <td>NaN</td>\n",
       "      <td>de</td>\n",
       "      <td>0.038520</td>\n",
       "      <td>Pallas Film</td>\n",
       "      <td>Germany</td>\n",
       "      <td>NaN</td>\n",
       "      <td>85.0</td>\n",
       "      <td>Ferryman Maria</td>\n",
       "      <td>7.0</td>\n",
       "      <td>1.0</td>\n",
       "      <td>Action</td>\n",
       "    </tr>\n",
       "    <tr>\n",
       "      <th>1333</th>\n",
       "      <td>NaN</td>\n",
       "      <td>NaN</td>\n",
       "      <td>en</td>\n",
       "      <td>0.452939</td>\n",
       "      <td>Fennada-Film</td>\n",
       "      <td>Finland</td>\n",
       "      <td>NaN</td>\n",
       "      <td>96.0</td>\n",
       "      <td>Vodka, Mr. Palmu</td>\n",
       "      <td>0.0</td>\n",
       "      <td>0.0</td>\n",
       "      <td>Western</td>\n",
       "    </tr>\n",
       "    <tr>\n",
       "      <th>1061</th>\n",
       "      <td>200000.0</td>\n",
       "      <td>NaN</td>\n",
       "      <td>en</td>\n",
       "      <td>0.560685</td>\n",
       "      <td>NaN</td>\n",
       "      <td>Russia</td>\n",
       "      <td>486937.0</td>\n",
       "      <td>100.0</td>\n",
       "      <td>Rita's Last Fairy Tale</td>\n",
       "      <td>7.4</td>\n",
       "      <td>8.0</td>\n",
       "      <td>Western</td>\n",
       "    </tr>\n",
       "  </tbody>\n",
       "</table>\n",
       "</div>"
      ],
      "text/plain": [
       "      presupuesto genero lenguaje  popularidad   productores     pais  \\\n",
       "1263          NaN    NaN       en     0.110204           NaN      NaN   \n",
       "1187    2500000.0    NaN       ru     0.209434           NaN   Russia   \n",
       "1266          NaN    NaN       de     0.038520   Pallas Film  Germany   \n",
       "1333          NaN    NaN       en     0.452939  Fennada-Film  Finland   \n",
       "1061     200000.0    NaN       en     0.560685           NaN   Russia   \n",
       "\n",
       "         ventas  duracion                  titulo  puntuacion  n_votos  \\\n",
       "1263        NaN      14.0             It's a Bird         8.0      2.0   \n",
       "1187  1477030.0       0.0          Glukhar v kino         5.9      4.0   \n",
       "1266        NaN      85.0          Ferryman Maria         7.0      1.0   \n",
       "1333        NaN      96.0        Vodka, Mr. Palmu         0.0      0.0   \n",
       "1061   486937.0     100.0  Rita's Last Fairy Tale         7.4      8.0   \n",
       "\n",
       "     label_clus  \n",
       "1263    Western  \n",
       "1187     Action  \n",
       "1266     Action  \n",
       "1333    Western  \n",
       "1061    Western  "
      ]
     },
     "execution_count": 84,
     "metadata": {},
     "output_type": "execute_result"
    }
   ],
   "source": [
    "# display \n",
    "peliculas_kmeans5.sample(5)"
   ]
  }
 ],
 "metadata": {
  "kernelspec": {
   "display_name": "Python 3",
   "language": "python",
   "name": "python3"
  },
  "language_info": {
   "codemirror_mode": {
    "name": "ipython",
    "version": 3
   },
   "file_extension": ".py",
   "mimetype": "text/x-python",
   "name": "python",
   "nbconvert_exporter": "python",
   "pygments_lexer": "ipython3",
   "version": "3.9.7"
  }
 },
 "nbformat": 4,
 "nbformat_minor": 4
}
